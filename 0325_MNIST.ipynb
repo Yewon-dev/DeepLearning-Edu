{
 "cells": [
  {
   "cell_type": "code",
   "execution_count": 67,
   "id": "horizontal-cisco",
   "metadata": {},
   "outputs": [],
   "source": [
    "import numpy as np\n",
    "import tensorflow as tf\n",
    "import matplotlib.pyplot as plt\n",
    "import pandas as pd\n",
    "\n",
    "from tensorflow.examples.tutorials.mnist import input_data"
   ]
  },
  {
   "cell_type": "code",
   "execution_count": 68,
   "id": "determined-belarus",
   "metadata": {},
   "outputs": [
    {
     "name": "stdout",
     "output_type": "stream",
     "text": [
      "Extracting MNIST_data/train-images-idx3-ubyte.gz\n",
      "Extracting MNIST_data/train-labels-idx1-ubyte.gz\n",
      "Extracting MNIST_data/t10k-images-idx3-ubyte.gz\n",
      "Extracting MNIST_data/t10k-labels-idx1-ubyte.gz\n"
     ]
    }
   ],
   "source": [
    "mnist = input_data.read_data_sets(\"MNIST_data/\", one_hot=True)\n",
    "\n",
    "nb_classes = 10\n",
    "\n",
    "# MNIST data image of shape 28 * 28 = 784\n",
    "X = tf.placeholder(tf.float32, [None, 784])\n",
    "# 0 - 9 digits recognition = 10 classes\n",
    "Y = tf.placeholder(tf.float32, [None, nb_classes])\n",
    "W = tf.Variable(tf.random_normal([784, nb_classes]))\n",
    "b = tf.Variable(tf.random_normal([nb_classes]))"
   ]
  },
  {
   "cell_type": "code",
   "execution_count": 71,
   "id": "unauthorized-apache",
   "metadata": {},
   "outputs": [],
   "source": [
    "# hyporhesis using softmax\n",
    "hypothesis = tf.nn.softmax(tf.matmul(X, W) + b)\n",
    "cost = tf.reduce_mean(-tf.reduce_sum(Y * tf.log(hypothesis), axis=1))\n",
    "optimizer = tf.train.GradientDescentOptimizer(learning_rate=0.1).minimize(cost)\n",
    "\n",
    "# Test model\n",
    "is_correct = tf.equal(tf.arg_max(hypothesis, 1), tf.argmax(Y, 1)) \n",
    "\n",
    "# Calculate accuracy\n",
    "accuracy = tf.reduce_mean(tf.cast(is_correct, tf.float32))"
   ]
  },
  {
   "cell_type": "code",
   "execution_count": 72,
   "id": "expensive-barrier",
   "metadata": {},
   "outputs": [
    {
     "name": "stdout",
     "output_type": "stream",
     "text": [
      "Epoch: 0001 cost = 8.128990260\n",
      "Epoch: 0002 cost = 4.322289653\n",
      "Epoch: 0003 cost = 3.069047746\n",
      "Epoch: 0004 cost = 2.449430847\n",
      "Epoch: 0005 cost = 2.084853565\n",
      "Epoch: 0006 cost = 1.845489235\n",
      "Epoch: 0007 cost = 1.675782694\n",
      "Epoch: 0008 cost = 1.548384526\n",
      "Epoch: 0009 cost = 1.448937284\n",
      "Epoch: 0010 cost = 1.368532317\n",
      "Epoch: 0011 cost = 1.301464764\n",
      "Epoch: 0012 cost = 1.244547057\n",
      "Epoch: 0013 cost = 1.195688106\n",
      "Epoch: 0014 cost = 1.152993860\n",
      "Epoch: 0015 cost = 1.115351675\n",
      "Epoch: 0016 cost = 1.081842869\n",
      "Epoch: 0017 cost = 1.051448864\n",
      "Epoch: 0018 cost = 1.024317511\n",
      "Epoch: 0019 cost = 0.999465500\n",
      "Epoch: 0020 cost = 0.976544715\n",
      "Epoch: 0021 cost = 0.955691998\n",
      "Epoch: 0022 cost = 0.936354307\n",
      "Epoch: 0023 cost = 0.918306254\n",
      "Epoch: 0024 cost = 0.901599544\n",
      "Epoch: 0025 cost = 0.885949723\n",
      "Epoch: 0026 cost = 0.871249637\n",
      "Epoch: 0027 cost = 0.857448200\n",
      "Epoch: 0028 cost = 0.844453289\n",
      "Epoch: 0029 cost = 0.832107548\n",
      "Epoch: 0030 cost = 0.820460782\n",
      "Epoch: 0031 cost = 0.809292501\n",
      "Epoch: 0032 cost = 0.798922684\n",
      "Epoch: 0033 cost = 0.788856192\n",
      "Epoch: 0034 cost = 0.779224519\n",
      "Epoch: 0035 cost = 0.770199723\n",
      "Epoch: 0036 cost = 0.761409059\n",
      "Epoch: 0037 cost = 0.753059480\n",
      "Epoch: 0038 cost = 0.744990133\n",
      "Epoch: 0039 cost = 0.737394498\n",
      "Epoch: 0040 cost = 0.729911836\n",
      "Epoch: 0041 cost = 0.722783403\n",
      "Epoch: 0042 cost = 0.715942189\n",
      "Epoch: 0043 cost = 0.709390016\n",
      "Epoch: 0044 cost = 0.702896644\n",
      "Epoch: 0045 cost = 0.696792892\n",
      "Epoch: 0046 cost = 0.690853830\n",
      "Epoch: 0047 cost = 0.685156190\n",
      "Epoch: 0048 cost = 0.679558250\n",
      "Epoch: 0049 cost = 0.674153961\n",
      "Epoch: 0050 cost = 0.668939193\n",
      "Epoch: 0051 cost = 0.663826383\n",
      "Epoch: 0052 cost = 0.658963266\n",
      "Epoch: 0053 cost = 0.654204065\n",
      "Epoch: 0054 cost = 0.649529286\n",
      "Epoch: 0055 cost = 0.645083112\n",
      "Epoch: 0056 cost = 0.640730946\n",
      "Epoch: 0057 cost = 0.636459328\n",
      "Epoch: 0058 cost = 0.632252606\n",
      "Epoch: 0059 cost = 0.628287183\n",
      "Epoch: 0060 cost = 0.624340591\n",
      "Epoch: 0061 cost = 0.620591364\n",
      "Epoch: 0062 cost = 0.616814468\n",
      "Epoch: 0063 cost = 0.613211765\n",
      "Epoch: 0064 cost = 0.609632723\n",
      "Epoch: 0065 cost = 0.606182949\n",
      "Epoch: 0066 cost = 0.602783611\n",
      "Epoch: 0067 cost = 0.599566512\n",
      "Epoch: 0068 cost = 0.596246420\n",
      "Epoch: 0069 cost = 0.593146311\n",
      "Epoch: 0070 cost = 0.589988292\n",
      "Epoch: 0071 cost = 0.587084597\n",
      "Epoch: 0072 cost = 0.584062436\n",
      "Epoch: 0073 cost = 0.581255296\n",
      "Epoch: 0074 cost = 0.578389121\n",
      "Epoch: 0075 cost = 0.575665490\n",
      "Epoch: 0076 cost = 0.572958824\n",
      "Epoch: 0077 cost = 0.570263618\n",
      "Epoch: 0078 cost = 0.567664851\n",
      "Epoch: 0079 cost = 0.565117217\n",
      "Epoch: 0080 cost = 0.562610462\n",
      "Epoch: 0081 cost = 0.560214424\n",
      "Epoch: 0082 cost = 0.557713597\n",
      "Epoch: 0083 cost = 0.555423841\n",
      "Epoch: 0084 cost = 0.553181720\n",
      "Epoch: 0085 cost = 0.550903977\n",
      "Epoch: 0086 cost = 0.548668547\n",
      "Epoch: 0087 cost = 0.546525750\n",
      "Epoch: 0088 cost = 0.544357831\n",
      "Epoch: 0089 cost = 0.542241254\n",
      "Epoch: 0090 cost = 0.540151001\n",
      "Epoch: 0091 cost = 0.538149797\n",
      "Epoch: 0092 cost = 0.536097538\n",
      "Epoch: 0093 cost = 0.534252084\n",
      "Epoch: 0094 cost = 0.532283750\n",
      "Epoch: 0095 cost = 0.530409094\n",
      "Epoch: 0096 cost = 0.528514121\n",
      "Epoch: 0097 cost = 0.526637636\n",
      "Epoch: 0098 cost = 0.524842060\n",
      "Epoch: 0099 cost = 0.523072811\n",
      "Epoch: 0100 cost = 0.521352916\n",
      "0.8808\n"
     ]
    },
    {
     "data": {
      "image/png": "[encoded data removed]",
      "text/plain": [
       "<Figure size 432x288 with 1 Axes>"
      ]
     },
     "metadata": {
      "needs_background": "light"
     },
     "output_type": "display_data"
    }
   ],
   "source": [
    "# parameters\n",
    "training_epochs = 100 \n",
    "batch_size = 1000\n",
    "\n",
    "sess = tf.Session()\n",
    "# Initialize TensorFlow variables \n",
    "sess.run(tf.global_variables_initializer()) \n",
    "\n",
    "# Training cycle\n",
    "cost_val=[]\n",
    "for epoch in range(training_epochs):\n",
    "    avg_cost = 0\n",
    "    total_batch = int(mnist.train.num_examples / batch_size)\n",
    "        \n",
    "    for i in range(total_batch):\n",
    "        batch_xs, batch_ys = mnist.train.next_batch(batch_size)\n",
    "        c, _ = sess.run([cost, optimizer], feed_dict={X: batch_xs, Y: batch_ys}) \n",
    "        avg_cost += c / total_batch\n",
    "    \n",
    "    cost_val.append(avg_cost)\n",
    "            \n",
    "    print('Epoch:', '%04d' % (epoch + 1), 'cost =', '{:.9f}'.format(avg_cost))\n",
    "\n",
    "pred = sess.run(hypothesis,feed_dict={X:mnist.test.images})\n",
    "result = np.apply_along_axis(np.argmax, 1, pred)\n",
    "real = np.apply_along_axis(np.argmax, 1, mnist.test.labels)\n",
    "acc = sum(result == real)/10000\n",
    "\n",
    "plt.plot(range(training_epochs),cost_val)\n",
    "print(acc)"
   ]
  },
  {
   "cell_type": "code",
   "execution_count": 51,
   "id": "massive-horizon",
   "metadata": {},
   "outputs": [
    {
     "data": {
      "text/plain": [
       "<matplotlib.image.AxesImage at 0x7f8ad0541320>"
      ]
     },
     "execution_count": 51,
     "metadata": {},
     "output_type": "execute_result"
    },
    {
     "data": {
      "image/png": "[encoded data removed]",
      "text/plain": [
       "<Figure size 432x288 with 1 Axes>"
      ]
     },
     "metadata": {
      "needs_background": "light"
     },
     "output_type": "display_data"
    }
   ],
   "source": [
    "plt.imshow(mnist.test.images[11:12,:].reshape(28,28))"
   ]
  }
 ],
 "metadata": {
  "kernelspec": {
   "display_name": "tf",
   "language": "python",
   "name": "tf"
  },
  "language_info": {
   "codemirror_mode": {
    "name": "ipython",
    "version": 3
   },
   "file_extension": ".py",
   "mimetype": "text/x-python",
   "name": "python",
   "nbconvert_exporter": "python",
   "pygments_lexer": "ipython3",
   "version": "3.6.13"
  }
 },
 "nbformat": 4,
 "nbformat_minor": 5
}
