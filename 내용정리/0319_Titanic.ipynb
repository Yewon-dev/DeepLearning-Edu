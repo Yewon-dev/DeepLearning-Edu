{
 "cells": [
  {
   "cell_type": "markdown",
   "id": "multiple-craps",
   "metadata": {},
   "source": [
    "## 타이타닉 생존자 예측\n",
    "- 데이터 읽기\n",
    "- 데이터 전처리\n",
    "- 학습용 데이터 만들기\n",
    "- 모델생성\n",
    "- 모델검증\n",
    "- 모델향상"
   ]
  },
  {
   "cell_type": "code",
   "execution_count": 149,
   "id": "selective-amazon",
   "metadata": {},
   "outputs": [],
   "source": [
    "import pandas as pd\n",
    "import numpy as np\n",
    "from sklearn.preprocessing import LabelEncoder #라벨링\n",
    "from sklearn.model_selection import train_test_split # train/test데이터 나누기\n",
    "from sklearn.metrics import accuracy_score\n",
    "\n",
    "from sklearn.tree import DecisionTreeClassifier\n",
    "from sklearn.svm import SVC\n",
    "from sklearn.ensemble import RandomForestClassifier\n",
    "from sklearn.linear_model import LogisticRegression\n",
    "from sklearn.neighbors import KNeighborsClassifier\n",
    "from sklearn.neighbors import KNeighborsRegressor\n",
    "from sklearn.svm import SVR\n"
   ]
  },
  {
   "cell_type": "code",
   "execution_count": 2,
   "id": "billion-clause",
   "metadata": {},
   "outputs": [],
   "source": [
    "raw_df = pd.read_csv('titanic_train.csv')"
   ]
  },
  {
   "cell_type": "code",
   "execution_count": 3,
   "id": "pediatric-geometry",
   "metadata": {},
   "outputs": [
    {
     "name": "stdout",
     "output_type": "stream",
     "text": [
      "<class 'pandas.core.frame.DataFrame'>\n",
      "RangeIndex: 891 entries, 0 to 890\n",
      "Data columns (total 12 columns):\n",
      " #   Column       Non-Null Count  Dtype  \n",
      "---  ------       --------------  -----  \n",
      " 0   PassengerId  891 non-null    int64  \n",
      " 1   Survived     891 non-null    int64  \n",
      " 2   Pclass       891 non-null    int64  \n",
      " 3   Name         891 non-null    object \n",
      " 4   Sex          891 non-null    object \n",
      " 5   Age          714 non-null    float64\n",
      " 6   SibSp        891 non-null    int64  \n",
      " 7   Parch        891 non-null    int64  \n",
      " 8   Ticket       891 non-null    object \n",
      " 9   Fare         891 non-null    float64\n",
      " 10  Cabin        204 non-null    object \n",
      " 11  Embarked     889 non-null    object \n",
      "dtypes: float64(2), int64(5), object(5)\n",
      "memory usage: 83.7+ KB\n"
     ]
    }
   ],
   "source": [
    "raw_df.info()\n",
    "# Age도 확인해야하고\n",
    "# Cabin이 204개네.. 687개가 null...?\n",
    "# raw data는 건들지 말자 -> cl_df\n",
    "# PassengerId 지워도 됨"
   ]
  },
  {
   "cell_type": "code",
   "execution_count": 7,
   "id": "satisfactory-renaissance",
   "metadata": {},
   "outputs": [],
   "source": [
    "cleansing_feature = ['PassengerId', 'Name']\n",
    "cl_df = raw_df.drop(cleansing_feature, axis=1)"
   ]
  },
  {
   "cell_type": "code",
   "execution_count": 8,
   "id": "functioning-jaguar",
   "metadata": {},
   "outputs": [],
   "source": [
    "# Embarked 정리\n",
    "cl_df.Embarked.fillna('N', inplace=True)"
   ]
  },
  {
   "cell_type": "code",
   "execution_count": 10,
   "id": "expanded-ballot",
   "metadata": {},
   "outputs": [
    {
     "name": "stdout",
     "output_type": "stream",
     "text": [
      "<class 'pandas.core.frame.DataFrame'>\n",
      "RangeIndex: 891 entries, 0 to 890\n",
      "Data columns (total 10 columns):\n",
      " #   Column    Non-Null Count  Dtype  \n",
      "---  ------    --------------  -----  \n",
      " 0   Survived  891 non-null    int64  \n",
      " 1   Pclass    891 non-null    int64  \n",
      " 2   Sex       891 non-null    object \n",
      " 3   Age       714 non-null    float64\n",
      " 4   SibSp     891 non-null    int64  \n",
      " 5   Parch     891 non-null    int64  \n",
      " 6   Ticket    891 non-null    object \n",
      " 7   Fare      891 non-null    float64\n",
      " 8   Cabin     204 non-null    object \n",
      " 9   Embarked  891 non-null    object \n",
      "dtypes: float64(2), int64(4), object(4)\n",
      "memory usage: 69.7+ KB\n"
     ]
    }
   ],
   "source": [
    "cl_df.info()"
   ]
  },
  {
   "cell_type": "code",
   "execution_count": 19,
   "id": "interested-uncertainty",
   "metadata": {},
   "outputs": [],
   "source": [
    "# cabin 정리\n",
    "cl_df.Cabin.fillna('N', inplace=True)"
   ]
  },
  {
   "cell_type": "code",
   "execution_count": 21,
   "id": "economic-spectacular",
   "metadata": {},
   "outputs": [],
   "source": [
    "cl_df['Cabin_tmp'] = cl_df.Cabin.str[:1]"
   ]
  },
  {
   "cell_type": "code",
   "execution_count": 17,
   "id": "premium-filling",
   "metadata": {},
   "outputs": [],
   "source": [
    "# Age 정리\n",
    "cl_df.Age.fillna(round(cl_df.Age.mean(),1), inplace=True) # Nan을 평균값으로 대체, "
   ]
  },
  {
   "cell_type": "code",
   "execution_count": 18,
   "id": "textile-dynamics",
   "metadata": {},
   "outputs": [
    {
     "name": "stdout",
     "output_type": "stream",
     "text": [
      "<class 'pandas.core.frame.DataFrame'>\n",
      "RangeIndex: 891 entries, 0 to 890\n",
      "Data columns (total 10 columns):\n",
      " #   Column    Non-Null Count  Dtype  \n",
      "---  ------    --------------  -----  \n",
      " 0   Survived  891 non-null    int64  \n",
      " 1   Pclass    891 non-null    int64  \n",
      " 2   Sex       891 non-null    object \n",
      " 3   Age       891 non-null    float64\n",
      " 4   SibSp     891 non-null    int64  \n",
      " 5   Parch     891 non-null    int64  \n",
      " 6   Ticket    891 non-null    object \n",
      " 7   Fare      891 non-null    float64\n",
      " 8   Cabin     891 non-null    object \n",
      " 9   Embarked  891 non-null    object \n",
      "dtypes: float64(2), int64(4), object(4)\n",
      "memory usage: 69.7+ KB\n"
     ]
    }
   ],
   "source": [
    "cl_df.info()"
   ]
  },
  {
   "cell_type": "code",
   "execution_count": 23,
   "id": "adapted-winner",
   "metadata": {},
   "outputs": [],
   "source": [
    "#\n",
    "gender_encoder = LabelEncoder()\n",
    "gender_encoder.fit(cl_df.Sex)\n",
    "\n",
    "gender = gender_encoder.transform(cl_df.Sex) # 0과 1로 라벨링"
   ]
  },
  {
   "cell_type": "code",
   "execution_count": 24,
   "id": "welsh-concord",
   "metadata": {},
   "outputs": [
    {
     "data": {
      "text/plain": [
       "array([1, 0, 0, 0, 1, 1, 1, 1, 0, 0, 0, 0, 1, 1, 0, 0, 1, 1, 0, 0, 1, 1,\n",
       "       0, 1, 0, 0, 1, 1, 0, 1, 1, 0, 0, 1, 1, 1, 1, 1, 0, 0, 0, 0, 1, 0,\n",
       "       0, 1, 1, 0, 1, 0, 1, 1, 0, 0, 1, 1, 0, 1, 0, 1, 1, 0, 1, 1, 1, 1,\n",
       "       0, 1, 0, 1, 1, 0, 1, 1, 1, 1, 1, 1, 1, 0, 1, 1, 0, 1, 0, 0, 1, 1,\n",
       "       0, 1, 1, 1, 1, 1, 1, 1, 1, 1, 0, 1, 0, 1, 1, 1, 1, 1, 0, 1, 1, 0,\n",
       "       1, 0, 1, 0, 0, 1, 1, 1, 1, 0, 1, 1, 1, 0, 1, 1, 1, 1, 0, 1, 1, 1,\n",
       "       0, 0, 1, 1, 0, 1, 1, 1, 0, 0, 0, 1, 1, 1, 1, 0, 1, 1, 1, 0, 1, 1,\n",
       "       1, 1, 0, 1, 1, 1, 1, 0, 1, 1, 1, 1, 0, 0, 1, 1, 1, 1, 0, 1, 1, 1,\n",
       "       1, 0, 1, 1, 0, 1, 1, 1, 0, 1, 0, 1, 1, 1, 0, 1, 0, 1, 0, 0, 1, 1,\n",
       "       0, 0, 1, 1, 1, 1, 1, 0, 1, 1, 0, 1, 1, 0, 1, 1, 1, 0, 0, 1, 0, 1,\n",
       "       1, 1, 1, 1, 1, 1, 1, 1, 1, 0, 0, 1, 1, 0, 1, 0, 1, 0, 1, 1, 0, 0,\n",
       "       1, 1, 1, 1, 0, 0, 1, 1, 1, 0, 1, 1, 0, 0, 0, 0, 0, 0, 1, 1, 1, 1,\n",
       "       0, 1, 1, 1, 0, 0, 1, 1, 0, 1, 0, 0, 0, 1, 1, 0, 1, 1, 1, 1, 1, 1,\n",
       "       1, 1, 1, 0, 0, 0, 1, 0, 1, 1, 1, 0, 1, 0, 0, 1, 1, 0, 1, 1, 0, 0,\n",
       "       1, 0, 0, 0, 0, 1, 1, 0, 0, 1, 0, 0, 1, 1, 0, 0, 1, 0, 1, 0, 0, 0,\n",
       "       0, 1, 1, 1, 0, 1, 1, 0, 1, 1, 1, 0, 1, 1, 1, 0, 0, 0, 1, 1, 1, 1,\n",
       "       1, 1, 1, 1, 0, 0, 0, 0, 1, 1, 0, 1, 1, 1, 0, 0, 0, 0, 1, 1, 1, 1,\n",
       "       0, 0, 0, 1, 1, 1, 0, 0, 1, 0, 1, 1, 1, 0, 1, 0, 1, 1, 1, 0, 0, 1,\n",
       "       0, 1, 1, 0, 1, 1, 0, 1, 0, 1, 1, 1, 1, 0, 1, 1, 0, 1, 1, 0, 0, 0,\n",
       "       1, 0, 1, 1, 1, 0, 1, 1, 0, 0, 1, 1, 1, 0, 0, 1, 1, 0, 0, 0, 1, 1,\n",
       "       0, 1, 1, 0, 1, 1, 0, 1, 0, 1, 1, 1, 1, 1, 1, 1, 1, 0, 0, 1, 1, 1,\n",
       "       1, 1, 1, 1, 1, 1, 1, 0, 1, 1, 0, 0, 0, 1, 1, 1, 1, 0, 1, 1, 1, 0,\n",
       "       1, 0, 0, 1, 1, 1, 1, 1, 1, 1, 1, 1, 0, 1, 0, 1, 1, 0, 0, 0, 0, 1,\n",
       "       0, 1, 1, 1, 1, 1, 1, 0, 1, 1, 0, 1, 0, 1, 0, 1, 1, 0, 1, 1, 0, 1,\n",
       "       1, 1, 0, 1, 1, 0, 0, 0, 1, 0, 1, 0, 0, 0, 0, 1, 1, 1, 0, 1, 1, 1,\n",
       "       1, 1, 1, 1, 0, 1, 0, 1, 0, 0, 1, 1, 1, 1, 0, 1, 1, 0, 1, 1, 1, 0,\n",
       "       1, 0, 1, 1, 0, 0, 0, 1, 0, 0, 1, 1, 1, 0, 1, 1, 1, 1, 1, 0, 1, 0,\n",
       "       1, 1, 0, 1, 1, 1, 0, 1, 1, 1, 1, 1, 1, 1, 0, 0, 0, 1, 0, 1, 1, 0,\n",
       "       1, 0, 0, 1, 1, 1, 1, 1, 1, 1, 1, 0, 1, 1, 1, 1, 1, 1, 0, 0, 1, 1,\n",
       "       0, 1, 1, 0, 0, 1, 0, 1, 1, 1, 1, 0, 1, 0, 1, 0, 0, 1, 1, 0, 1, 1,\n",
       "       1, 1, 1, 1, 1, 1, 1, 1, 1, 0, 0, 1, 1, 1, 1, 1, 1, 0, 0, 1, 0, 1,\n",
       "       1, 1, 1, 1, 1, 1, 1, 0, 1, 0, 1, 1, 1, 1, 1, 0, 1, 1, 0, 1, 0, 1,\n",
       "       1, 1, 0, 1, 0, 1, 0, 1, 1, 1, 1, 1, 0, 0, 1, 1, 0, 1, 1, 1, 1, 1,\n",
       "       0, 0, 1, 0, 0, 1, 1, 1, 1, 1, 0, 1, 1, 1, 1, 1, 0, 1, 1, 1, 1, 0,\n",
       "       1, 1, 0, 1, 1, 1, 0, 1, 1, 1, 1, 0, 1, 1, 1, 0, 1, 0, 1, 0, 1, 1,\n",
       "       1, 1, 0, 1, 0, 1, 1, 0, 1, 0, 0, 0, 1, 1, 1, 1, 0, 1, 1, 1, 1, 1,\n",
       "       0, 1, 1, 1, 0, 0, 1, 0, 1, 0, 1, 1, 1, 1, 1, 0, 1, 0, 1, 1, 1, 0,\n",
       "       1, 1, 0, 1, 1, 1, 0, 1, 1, 0, 1, 1, 1, 1, 1, 0, 0, 1, 1, 1, 1, 0,\n",
       "       1, 1, 1, 1, 1, 1, 0, 1, 1, 1, 1, 1, 1, 0, 1, 1, 0, 0, 0, 0, 0, 1,\n",
       "       0, 1, 1, 1, 0, 0, 1, 0, 0, 1, 1, 1, 1, 0, 1, 1, 0, 0, 1, 1, 1, 0,\n",
       "       0, 1, 0, 1, 1, 0, 1, 0, 0, 1, 1])"
      ]
     },
     "execution_count": 24,
     "metadata": {},
     "output_type": "execute_result"
    }
   ],
   "source": [
    "gender"
   ]
  },
  {
   "cell_type": "code",
   "execution_count": 25,
   "id": "generic-bangladesh",
   "metadata": {},
   "outputs": [],
   "source": [
    "cl_df['gender'] = gender # 대입"
   ]
  },
  {
   "cell_type": "code",
   "execution_count": 26,
   "id": "confirmed-journey",
   "metadata": {},
   "outputs": [
    {
     "name": "stdout",
     "output_type": "stream",
     "text": [
      "<class 'pandas.core.frame.DataFrame'>\n",
      "RangeIndex: 891 entries, 0 to 890\n",
      "Data columns (total 12 columns):\n",
      " #   Column     Non-Null Count  Dtype  \n",
      "---  ------     --------------  -----  \n",
      " 0   Survived   891 non-null    int64  \n",
      " 1   Pclass     891 non-null    int64  \n",
      " 2   Sex        891 non-null    object \n",
      " 3   Age        891 non-null    float64\n",
      " 4   SibSp      891 non-null    int64  \n",
      " 5   Parch      891 non-null    int64  \n",
      " 6   Ticket     891 non-null    object \n",
      " 7   Fare       891 non-null    float64\n",
      " 8   Cabin      891 non-null    object \n",
      " 9   Embarked   891 non-null    object \n",
      " 10  Cabin_tmp  891 non-null    object \n",
      " 11  gender     891 non-null    int64  \n",
      "dtypes: float64(2), int64(5), object(5)\n",
      "memory usage: 83.7+ KB\n"
     ]
    }
   ],
   "source": [
    "cl_df.info()"
   ]
  },
  {
   "cell_type": "code",
   "execution_count": 27,
   "id": "herbal-article",
   "metadata": {},
   "outputs": [],
   "source": [
    "Cabin_encoder = LabelEncoder()\n",
    "Cabin_encoder.fit(cl_df.Cabin_tmp)\n",
    "Cabin_class = Cabin_encoder.transform(cl_df.Cabin_tmp)\n",
    "\n",
    "Embarked_encoder = LabelEncoder()\n",
    "Embarked_encoder.fit(cl_df.Embarked)\n",
    "Embarked_class = Embarked_encoder.transform(cl_df.Embarked)"
   ]
  },
  {
   "cell_type": "code",
   "execution_count": 28,
   "id": "mature-patrol",
   "metadata": {},
   "outputs": [],
   "source": [
    "cl_df['Cabin_class'] = Cabin_class\n",
    "cl_df['Embarked_class'] = Embarked_class"
   ]
  },
  {
   "cell_type": "code",
   "execution_count": 31,
   "id": "specific-astrology",
   "metadata": {},
   "outputs": [
    {
     "name": "stdout",
     "output_type": "stream",
     "text": [
      "<class 'pandas.core.frame.DataFrame'>\n",
      "RangeIndex: 891 entries, 0 to 890\n",
      "Data columns (total 14 columns):\n",
      " #   Column          Non-Null Count  Dtype  \n",
      "---  ------          --------------  -----  \n",
      " 0   Survived        891 non-null    int64  \n",
      " 1   Pclass          891 non-null    int64  \n",
      " 2   Sex             891 non-null    object \n",
      " 3   Age             891 non-null    float64\n",
      " 4   SibSp           891 non-null    int64  \n",
      " 5   Parch           891 non-null    int64  \n",
      " 6   Ticket          891 non-null    object \n",
      " 7   Fare            891 non-null    float64\n",
      " 8   Cabin           891 non-null    object \n",
      " 9   Embarked        891 non-null    object \n",
      " 10  Cabin_tmp       891 non-null    object \n",
      " 11  gender          891 non-null    int64  \n",
      " 12  Cabin_class     891 non-null    int64  \n",
      " 13  Embarked_class  891 non-null    int64  \n",
      "dtypes: float64(2), int64(7), object(5)\n",
      "memory usage: 97.6+ KB\n"
     ]
    }
   ],
   "source": [
    "cl_df.info()"
   ]
  },
  {
   "cell_type": "markdown",
   "id": "dirty-aggregate",
   "metadata": {},
   "source": [
    "## 최종 정리"
   ]
  },
  {
   "cell_type": "code",
   "execution_count": 33,
   "id": "still-college",
   "metadata": {},
   "outputs": [],
   "source": [
    "feature_cols = ['Pclass', 'Age', 'SibSp', 'Parch', 'gender', 'Cabin_class', 'Embarked_class']\n",
    "y_col = ['Survived']\n",
    "\n",
    "X = cl_df[feature_cols]\n",
    "y = cl_df[y_col]"
   ]
  },
  {
   "cell_type": "code",
   "execution_count": 34,
   "id": "excess-russia",
   "metadata": {},
   "outputs": [],
   "source": [
    "X_train, X_test, y_train, y_test = train_test_split(X, y, test_size=0.3)"
   ]
  },
  {
   "cell_type": "code",
   "execution_count": 37,
   "id": "impaired-duncan",
   "metadata": {},
   "outputs": [
    {
     "data": {
      "text/plain": [
       "DecisionTreeClassifier()"
      ]
     },
     "execution_count": 37,
     "metadata": {},
     "output_type": "execute_result"
    }
   ],
   "source": [
    "tree_model = DecisionTreeClassifier()\n",
    "tree_model.fit(X_train, y_train)"
   ]
  },
  {
   "cell_type": "code",
   "execution_count": 38,
   "id": "willing-dictionary",
   "metadata": {},
   "outputs": [],
   "source": [
    "tree_pred = tree_model.predict(X_test)"
   ]
  },
  {
   "cell_type": "code",
   "execution_count": 39,
   "id": "stylish-picture",
   "metadata": {},
   "outputs": [
    {
     "data": {
      "text/plain": [
       "0.7686567164179104"
      ]
     },
     "execution_count": 39,
     "metadata": {},
     "output_type": "execute_result"
    }
   ],
   "source": [
    "accuracy_score(y_test, tree_pred)"
   ]
  },
  {
   "cell_type": "code",
   "execution_count": 41,
   "id": "medium-transcript",
   "metadata": {},
   "outputs": [
    {
     "name": "stderr",
     "output_type": "stream",
     "text": [
      "/opt/anaconda3/envs/ml/lib/python3.8/site-packages/sklearn/utils/validation.py:63: DataConversionWarning: A column-vector y was passed when a 1d array was expected. Please change the shape of y to (n_samples, ), for example using ravel().\n",
      "  return f(*args, **kwargs)\n"
     ]
    },
    {
     "data": {
      "text/plain": [
       "0.7126865671641791"
      ]
     },
     "execution_count": 41,
     "metadata": {},
     "output_type": "execute_result"
    }
   ],
   "source": [
    "svc_model = SVC()\n",
    "svc_model.fit(X_train, y_train)\n",
    "svc_pred = svc_model.predict(X_test)\n",
    "accuracy_score(y_test, svc_pred)"
   ]
  },
  {
   "cell_type": "code",
   "execution_count": 43,
   "id": "promising-price",
   "metadata": {},
   "outputs": [
    {
     "name": "stderr",
     "output_type": "stream",
     "text": [
      "<ipython-input-43-6fc40f921e82>:2: DataConversionWarning: A column-vector y was passed when a 1d array was expected. Please change the shape of y to (n_samples,), for example using ravel().\n",
      "  rf_model.fit(X_train, y_train)\n"
     ]
    },
    {
     "data": {
      "text/plain": [
       "0.7649253731343284"
      ]
     },
     "execution_count": 43,
     "metadata": {},
     "output_type": "execute_result"
    }
   ],
   "source": [
    "rf_model = RandomForestClassifier()\n",
    "rf_model.fit(X_train, y_train)\n",
    "rf_pred = rf_model.predict(X_test)\n",
    "accuracy_score(y_test, rf_pred)"
   ]
  },
  {
   "cell_type": "code",
   "execution_count": 50,
   "id": "labeled-midwest",
   "metadata": {},
   "outputs": [
    {
     "name": "stderr",
     "output_type": "stream",
     "text": [
      "/opt/anaconda3/envs/ml/lib/python3.8/site-packages/sklearn/utils/validation.py:63: DataConversionWarning: A column-vector y was passed when a 1d array was expected. Please change the shape of y to (n_samples, ), for example using ravel().\n",
      "  return f(*args, **kwargs)\n"
     ]
    },
    {
     "data": {
      "text/plain": [
       "0.7723880597014925"
      ]
     },
     "execution_count": 50,
     "metadata": {},
     "output_type": "execute_result"
    }
   ],
   "source": [
    "lr_model = LogisticRegression()\n",
    "lr_model.fit(X_train, y_train)\n",
    "lr_pred = lr_model.predict(X_test)\n",
    "accuracy_score(y_test, lr_pred)"
   ]
  },
  {
   "cell_type": "code",
   "execution_count": 51,
   "id": "popular-concern",
   "metadata": {},
   "outputs": [
    {
     "name": "stderr",
     "output_type": "stream",
     "text": [
      "/opt/anaconda3/envs/ml/lib/python3.8/site-packages/sklearn/neighbors/_classification.py:179: DataConversionWarning: A column-vector y was passed when a 1d array was expected. Please change the shape of y to (n_samples,), for example using ravel().\n",
      "  return self._fit(X, y)\n"
     ]
    },
    {
     "data": {
      "text/plain": [
       "0.7574626865671642"
      ]
     },
     "execution_count": 51,
     "metadata": {},
     "output_type": "execute_result"
    }
   ],
   "source": [
    "kn_model = KNeighborsClassifier()\n",
    "kn_model.fit(X_train, y_train)\n",
    "kn_pred = kn_model.predict(X_test)\n",
    "accuracy_score(y_test, kn_pred)"
   ]
  },
  {
   "cell_type": "code",
   "execution_count": 58,
   "id": "fatty-construction",
   "metadata": {},
   "outputs": [
    {
     "data": {
      "text/plain": [
       "array([0])"
      ]
     },
     "execution_count": 58,
     "metadata": {},
     "output_type": "execute_result"
    }
   ],
   "source": [
    "lr_model.predict(np.array(X_test.iloc[0,:]).reshape(1,-1))"
   ]
  },
  {
   "cell_type": "code",
   "execution_count": 59,
   "id": "cross-empire",
   "metadata": {},
   "outputs": [
    {
     "data": {
      "text/plain": [
       "array([[0.86501749, 0.13498251]])"
      ]
     },
     "execution_count": 59,
     "metadata": {},
     "output_type": "execute_result"
    }
   ],
   "source": [
    "lr_model.predict_proba(np.array(X_test.iloc[0,:]).reshape(1,-1))"
   ]
  },
  {
   "cell_type": "code",
   "execution_count": 52,
   "id": "existing-motivation",
   "metadata": {},
   "outputs": [
    {
     "data": {
      "text/html": [
       "<div>\n",
       "<style scoped>\n",
       "    .dataframe tbody tr th:only-of-type {\n",
       "        vertical-align: middle;\n",
       "    }\n",
       "\n",
       "    .dataframe tbody tr th {\n",
       "        vertical-align: top;\n",
       "    }\n",
       "\n",
       "    .dataframe thead th {\n",
       "        text-align: right;\n",
       "    }\n",
       "</style>\n",
       "<table border=\"1\" class=\"dataframe\">\n",
       "  <thead>\n",
       "    <tr style=\"text-align: right;\">\n",
       "      <th></th>\n",
       "      <th>Survived</th>\n",
       "    </tr>\n",
       "  </thead>\n",
       "  <tbody>\n",
       "    <tr>\n",
       "      <th>725</th>\n",
       "      <td>0</td>\n",
       "    </tr>\n",
       "    <tr>\n",
       "      <th>410</th>\n",
       "      <td>0</td>\n",
       "    </tr>\n",
       "    <tr>\n",
       "      <th>876</th>\n",
       "      <td>0</td>\n",
       "    </tr>\n",
       "    <tr>\n",
       "      <th>621</th>\n",
       "      <td>1</td>\n",
       "    </tr>\n",
       "    <tr>\n",
       "      <th>381</th>\n",
       "      <td>1</td>\n",
       "    </tr>\n",
       "    <tr>\n",
       "      <th>...</th>\n",
       "      <td>...</td>\n",
       "    </tr>\n",
       "    <tr>\n",
       "      <th>378</th>\n",
       "      <td>0</td>\n",
       "    </tr>\n",
       "    <tr>\n",
       "      <th>697</th>\n",
       "      <td>1</td>\n",
       "    </tr>\n",
       "    <tr>\n",
       "      <th>351</th>\n",
       "      <td>0</td>\n",
       "    </tr>\n",
       "    <tr>\n",
       "      <th>138</th>\n",
       "      <td>0</td>\n",
       "    </tr>\n",
       "    <tr>\n",
       "      <th>295</th>\n",
       "      <td>0</td>\n",
       "    </tr>\n",
       "  </tbody>\n",
       "</table>\n",
       "<p>268 rows × 1 columns</p>\n",
       "</div>"
      ],
      "text/plain": [
       "     Survived\n",
       "725         0\n",
       "410         0\n",
       "876         0\n",
       "621         1\n",
       "381         1\n",
       "..        ...\n",
       "378         0\n",
       "697         1\n",
       "351         0\n",
       "138         0\n",
       "295         0\n",
       "\n",
       "[268 rows x 1 columns]"
      ]
     },
     "execution_count": 52,
     "metadata": {},
     "output_type": "execute_result"
    }
   ],
   "source": [
    "y_test"
   ]
  },
  {
   "cell_type": "markdown",
   "id": "psychological-journalist",
   "metadata": {},
   "source": [
    "## HARD VOTING\n",
    "- 각 분류기마다 모델생성\n",
    "- 분류기부터 예측결과 취합\n",
    "- 분류기가 예측한 투표 결과를 다수결로 하여 예측결과 산정\n",
    "- accuracy_score(y_test,예측결과)을 이용하여 결과값 산출"
   ]
  },
  {
   "cell_type": "code",
   "execution_count": 120,
   "id": "bound-palace",
   "metadata": {},
   "outputs": [],
   "source": [
    "v1 = RandomForestClassifier()\n",
    "v2 = LogisticRegression()\n",
    "v3 = KNeighborsClassifier()"
   ]
  },
  {
   "cell_type": "code",
   "execution_count": 121,
   "id": "moving-causing",
   "metadata": {},
   "outputs": [
    {
     "name": "stderr",
     "output_type": "stream",
     "text": [
      "<ipython-input-121-7ad6bfd4533f>:1: DataConversionWarning: A column-vector y was passed when a 1d array was expected. Please change the shape of y to (n_samples,), for example using ravel().\n",
      "  v1.fit(X_train, y_train)\n",
      "/opt/anaconda3/envs/ml/lib/python3.8/site-packages/sklearn/utils/validation.py:63: DataConversionWarning: A column-vector y was passed when a 1d array was expected. Please change the shape of y to (n_samples, ), for example using ravel().\n",
      "  return f(*args, **kwargs)\n",
      "/opt/anaconda3/envs/ml/lib/python3.8/site-packages/sklearn/neighbors/_classification.py:179: DataConversionWarning: A column-vector y was passed when a 1d array was expected. Please change the shape of y to (n_samples,), for example using ravel().\n",
      "  return self._fit(X, y)\n"
     ]
    },
    {
     "data": {
      "text/plain": [
       "KNeighborsClassifier()"
      ]
     },
     "execution_count": 121,
     "metadata": {},
     "output_type": "execute_result"
    }
   ],
   "source": [
    "v1.fit(X_train, y_train)\n",
    "v2.fit(X_train, y_train)\n",
    "v3.fit(X_train, y_train)"
   ]
  },
  {
   "cell_type": "code",
   "execution_count": 122,
   "id": "starting-chemical",
   "metadata": {},
   "outputs": [],
   "source": [
    "v1_pred = v1.predict(X_test)\n",
    "v2_pred = v2.predict(X_test)\n",
    "v3_pred = v3.predict(X_test)"
   ]
  },
  {
   "cell_type": "code",
   "execution_count": 123,
   "id": "experienced-assistant",
   "metadata": {},
   "outputs": [
    {
     "data": {
      "text/plain": [
       "array([0, 0, 0, 0, 1, 1, 0, 0, 1, 1, 0, 0, 0, 1, 1, 1, 1, 0, 1, 1, 0, 1,\n",
       "       1, 0, 0, 1, 1, 0, 1, 0, 0, 0, 0, 1, 1, 0, 0, 1, 1, 0, 1, 0, 1, 0,\n",
       "       1, 0, 0, 0, 0, 0, 0, 0, 1, 1, 0, 0, 0, 1, 0, 1, 1, 0, 0, 1, 1, 0,\n",
       "       0, 1, 1, 0, 0, 1, 0, 0, 0, 0, 0, 0, 1, 0, 0, 1, 0, 0, 0, 1, 0, 1,\n",
       "       1, 1, 0, 0, 1, 0, 1, 1, 0, 0, 0, 0, 0, 0, 1, 1, 1, 0, 0, 1, 0, 0,\n",
       "       1, 0, 1, 0, 0, 1, 0, 0, 0, 1, 0, 0, 1, 0, 0, 1, 0, 0, 1, 0, 1, 0,\n",
       "       0, 0, 1, 0, 0, 0, 1, 0, 1, 0, 0, 1, 0, 1, 0, 1, 0, 0, 1, 1, 1, 0,\n",
       "       0, 1, 0, 0, 0, 0, 0, 0, 0, 0, 1, 0, 1, 0, 1, 0, 0, 0, 1, 1, 0, 1,\n",
       "       0, 0, 0, 0, 0, 0, 0, 0, 0, 0, 1, 0, 0, 0, 0, 0, 0, 0, 0, 1, 0, 1,\n",
       "       0, 0, 0, 0, 0, 0, 1, 0, 0, 0, 0, 1, 1, 0, 0, 0, 1, 0, 0, 0, 1, 0,\n",
       "       0, 0, 1, 0, 1, 0, 0, 0, 0, 1, 0, 1, 1, 0, 0, 0, 0, 1, 0, 1, 0, 1,\n",
       "       1, 0, 0, 1, 0, 1, 0, 0, 1, 0, 1, 1, 1, 1, 1, 0, 1, 1, 0, 0, 0, 1,\n",
       "       1, 0, 0, 0])"
      ]
     },
     "execution_count": 123,
     "metadata": {},
     "output_type": "execute_result"
    }
   ],
   "source": [
    "v1_pred"
   ]
  },
  {
   "cell_type": "code",
   "execution_count": 124,
   "id": "stuck-departure",
   "metadata": {},
   "outputs": [],
   "source": [
    "#result = sum(v1_pred.reshape(1,-1),(sum(v2_pred.reshape(1,-1), v3_pred.reshape(1,-1))))\n",
    "result = v1_pred + v2_pred + v3_pred\n",
    "hv = np.where(result >=2, 1, 0)"
   ]
  },
  {
   "cell_type": "code",
   "execution_count": 125,
   "id": "north-seeking",
   "metadata": {},
   "outputs": [
    {
     "data": {
      "text/plain": [
       "0.753731343283582"
      ]
     },
     "execution_count": 125,
     "metadata": {},
     "output_type": "execute_result"
    }
   ],
   "source": [
    "accuracy_score(y_test, hv)"
   ]
  },
  {
   "cell_type": "markdown",
   "id": "arbitrary-trace",
   "metadata": {},
   "source": [
    "### SOFT VOTING\n",
    "- 각 분류기마다 모델생성\n",
    "- 분류기부터 예측결과 취합(확률값)\n",
    "- 분류기가 예측한 투표 결과를 확률의 기대값으로 예측결과 산정\n",
    "- accuracy_score(y_test,예측결과)을 이용하여 결과값 산출"
   ]
  },
  {
   "cell_type": "code",
   "execution_count": 126,
   "id": "afraid-blogger",
   "metadata": {},
   "outputs": [
    {
     "name": "stderr",
     "output_type": "stream",
     "text": [
      "<ipython-input-126-dcb2e9716228>:5: DataConversionWarning: A column-vector y was passed when a 1d array was expected. Please change the shape of y to (n_samples,), for example using ravel().\n",
      "  v1.fit(X_train, y_train)\n",
      "/opt/anaconda3/envs/ml/lib/python3.8/site-packages/sklearn/utils/validation.py:63: DataConversionWarning: A column-vector y was passed when a 1d array was expected. Please change the shape of y to (n_samples, ), for example using ravel().\n",
      "  return f(*args, **kwargs)\n",
      "/opt/anaconda3/envs/ml/lib/python3.8/site-packages/sklearn/neighbors/_classification.py:179: DataConversionWarning: A column-vector y was passed when a 1d array was expected. Please change the shape of y to (n_samples,), for example using ravel().\n",
      "  return self._fit(X, y)\n"
     ]
    },
    {
     "data": {
      "text/plain": [
       "KNeighborsClassifier()"
      ]
     },
     "execution_count": 126,
     "metadata": {},
     "output_type": "execute_result"
    }
   ],
   "source": [
    "v1 = RandomForestClassifier()\n",
    "v2 = LogisticRegression()\n",
    "v3 = KNeighborsClassifier()\n",
    "\n",
    "v1.fit(X_train, y_train)\n",
    "v2.fit(X_train, y_train)\n",
    "v3.fit(X_train, y_train)"
   ]
  },
  {
   "cell_type": "code",
   "execution_count": 127,
   "id": "remarkable-headline",
   "metadata": {},
   "outputs": [],
   "source": [
    "v1_pred = v1.predict_proba(X_test)\n",
    "v2_pred = v2.predict_proba(X_test)\n",
    "v3_pred = v3.predict_proba(X_test)"
   ]
  },
  {
   "cell_type": "code",
   "execution_count": 128,
   "id": "removable-abortion",
   "metadata": {},
   "outputs": [
    {
     "data": {
      "text/plain": [
       "array([[1.        , 0.        ],\n",
       "       [0.93092649, 0.06907351],\n",
       "       [1.        , 0.        ],\n",
       "       [0.69      , 0.31      ],\n",
       "       [0.29566667, 0.70433333],\n",
       "       [0.39      , 0.61      ],\n",
       "       [0.93092649, 0.06907351],\n",
       "       [1.        , 0.        ],\n",
       "       [0.42533333, 0.57466667],\n",
       "       [0.22      , 0.78      ],\n",
       "       [0.98      , 0.02      ],\n",
       "       [0.93      , 0.07      ],\n",
       "       [0.88      , 0.12      ],\n",
       "       [0.45      , 0.55      ],\n",
       "       [0.04090909, 0.95909091],\n",
       "       [0.05      , 0.95      ],\n",
       "       [0.01      , 0.99      ],\n",
       "       [0.9325    , 0.0675    ],\n",
       "       [0.4       , 0.6       ],\n",
       "       [0.39      , 0.61      ],\n",
       "       [1.        , 0.        ],\n",
       "       [0.04      , 0.96      ],\n",
       "       [0.03      , 0.97      ],\n",
       "       [1.        , 0.        ],\n",
       "       [0.68368458, 0.31631542],\n",
       "       [0.18      , 0.82      ],\n",
       "       [0.12266667, 0.87733333],\n",
       "       [0.70420696, 0.29579304],\n",
       "       [0.1895    , 0.8105    ],\n",
       "       [0.49166667, 0.50833333],\n",
       "       [0.93092649, 0.06907351],\n",
       "       [0.66079762, 0.33920238],\n",
       "       [0.95      , 0.05      ],\n",
       "       [0.35      , 0.65      ],\n",
       "       [0.03      , 0.97      ],\n",
       "       [0.955     , 0.045     ],\n",
       "       [0.93      , 0.07      ],\n",
       "       [0.26      , 0.74      ],\n",
       "       [0.        , 1.        ],\n",
       "       [0.79      , 0.21      ],\n",
       "       [0.04      , 0.96      ],\n",
       "       [0.93092649, 0.06907351],\n",
       "       [0.2       , 0.8       ],\n",
       "       [1.        , 0.        ],\n",
       "       [0.35166667, 0.64833333],\n",
       "       [0.96      , 0.04      ],\n",
       "       [0.99      , 0.01      ],\n",
       "       [0.64      , 0.36      ],\n",
       "       [0.9255413 , 0.0744587 ],\n",
       "       [0.93092649, 0.06907351],\n",
       "       [1.        , 0.        ],\n",
       "       [1.        , 0.        ],\n",
       "       [0.1       , 0.9       ],\n",
       "       [0.        , 1.        ],\n",
       "       [1.        , 0.        ],\n",
       "       [0.955     , 0.045     ],\n",
       "       [0.735     , 0.265     ],\n",
       "       [0.32      , 0.68      ],\n",
       "       [0.84916667, 0.15083333],\n",
       "       [0.07      , 0.93      ],\n",
       "       [0.4375    , 0.5625    ],\n",
       "       [0.57      , 0.43      ],\n",
       "       [1.        , 0.        ],\n",
       "       [0.42      , 0.58      ],\n",
       "       [0.0925    , 0.9075    ],\n",
       "       [0.6325    , 0.3675    ],\n",
       "       [0.82969048, 0.17030952],\n",
       "       [0.05      , 0.95      ],\n",
       "       [0.23      , 0.77      ],\n",
       "       [0.56683333, 0.43316667],\n",
       "       [0.92      , 0.08      ],\n",
       "       [0.1       , 0.9       ],\n",
       "       [0.55      , 0.45      ],\n",
       "       [0.82733333, 0.17266667],\n",
       "       [0.93566667, 0.06433333],\n",
       "       [1.        , 0.        ],\n",
       "       [0.91699206, 0.08300794],\n",
       "       [1.        , 0.        ],\n",
       "       [0.17      , 0.83      ],\n",
       "       [0.67626587, 0.32373413],\n",
       "       [1.        , 0.        ],\n",
       "       [0.04      , 0.96      ],\n",
       "       [0.83      , 0.17      ],\n",
       "       [0.67626587, 0.32373413],\n",
       "       [0.57833333, 0.42166667],\n",
       "       [0.1       , 0.9       ],\n",
       "       [0.55      , 0.45      ],\n",
       "       [0.15      , 0.85      ],\n",
       "       [0.20229762, 0.79770238],\n",
       "       [0.03      , 0.97      ],\n",
       "       [0.725     , 0.275     ],\n",
       "       [0.7535    , 0.2465    ],\n",
       "       [0.08      , 0.92      ],\n",
       "       [0.93092649, 0.06907351],\n",
       "       [0.43266667, 0.56733333],\n",
       "       [0.24608929, 0.75391071],\n",
       "       [0.9255413 , 0.0744587 ],\n",
       "       [0.98      , 0.02      ],\n",
       "       [0.9255413 , 0.0744587 ],\n",
       "       [1.        , 0.        ],\n",
       "       [0.50083333, 0.49916667],\n",
       "       [0.89      , 0.11      ],\n",
       "       [0.05      , 0.95      ],\n",
       "       [0.06      , 0.94      ],\n",
       "       [0.35166667, 0.64833333],\n",
       "       [0.741     , 0.259     ],\n",
       "       [0.83518254, 0.16481746],\n",
       "       [0.15455742, 0.84544258],\n",
       "       [0.9255413 , 0.0744587 ],\n",
       "       [0.99      , 0.01      ],\n",
       "       [0.22      , 0.78      ],\n",
       "       [0.49809921, 0.50190079],\n",
       "       [0.13      , 0.87      ],\n",
       "       [1.        , 0.        ],\n",
       "       [0.895     , 0.105     ],\n",
       "       [0.09      , 0.91      ],\n",
       "       [1.        , 0.        ],\n",
       "       [0.91699206, 0.08300794],\n",
       "       [0.945     , 0.055     ],\n",
       "       [0.28      , 0.72      ],\n",
       "       [0.98      , 0.02      ],\n",
       "       [0.93092649, 0.06907351],\n",
       "       [0.04090909, 0.95909091],\n",
       "       [1.        , 0.        ],\n",
       "       [0.63983333, 0.36016667],\n",
       "       [0.2       , 0.8       ],\n",
       "       [0.91699206, 0.08300794],\n",
       "       [0.99      , 0.01      ],\n",
       "       [0.19      , 0.81      ],\n",
       "       [0.92      , 0.08      ],\n",
       "       [0.1125    , 0.8875    ],\n",
       "       [0.96      , 0.04      ],\n",
       "       [0.93092649, 0.06907351],\n",
       "       [0.93      , 0.07      ],\n",
       "       [0.385     , 0.615     ],\n",
       "       [0.67626587, 0.32373413],\n",
       "       [0.92      , 0.08      ],\n",
       "       [0.995     , 0.005     ],\n",
       "       [0.18      , 0.82      ],\n",
       "       [0.82      , 0.18      ],\n",
       "       [0.34133333, 0.65866667],\n",
       "       [0.75684127, 0.24315873],\n",
       "       [0.82733333, 0.17266667],\n",
       "       [0.05      , 0.95      ],\n",
       "       [0.51      , 0.49      ],\n",
       "       [0.07      , 0.93      ],\n",
       "       [0.94      , 0.06      ],\n",
       "       [0.04      , 0.96      ],\n",
       "       [0.92302194, 0.07697806],\n",
       "       [0.51      , 0.49      ],\n",
       "       [0.03      , 0.97      ],\n",
       "       [0.09      , 0.91      ],\n",
       "       [0.17      , 0.83      ],\n",
       "       [0.80753463, 0.19246537],\n",
       "       [1.        , 0.        ],\n",
       "       [0.09      , 0.91      ],\n",
       "       [0.995     , 0.005     ],\n",
       "       [0.7575    , 0.2425    ],\n",
       "       [0.99      , 0.01      ],\n",
       "       [0.92302194, 0.07697806],\n",
       "       [0.84166667, 0.15833333],\n",
       "       [0.96      , 0.04      ],\n",
       "       [0.97      , 0.03      ],\n",
       "       [0.725     , 0.275     ],\n",
       "       [0.35166667, 0.64833333],\n",
       "       [0.94      , 0.06      ],\n",
       "       [0.46916667, 0.53083333],\n",
       "       [0.63983333, 0.36016667],\n",
       "       [0.4       , 0.6       ],\n",
       "       [0.86816667, 0.13183333],\n",
       "       [0.57      , 0.43      ],\n",
       "       [0.67626587, 0.32373413],\n",
       "       [0.01      , 0.99      ],\n",
       "       [0.35166667, 0.64833333],\n",
       "       [0.535     , 0.465     ],\n",
       "       [0.02      , 0.98      ],\n",
       "       [0.99      , 0.01      ],\n",
       "       [0.69      , 0.31      ],\n",
       "       [0.69066667, 0.30933333],\n",
       "       [0.955     , 0.045     ],\n",
       "       [0.93092649, 0.06907351],\n",
       "       [0.67626587, 0.32373413],\n",
       "       [1.        , 0.        ],\n",
       "       [0.96      , 0.04      ],\n",
       "       [0.5609394 , 0.4390606 ],\n",
       "       [0.947     , 0.053     ],\n",
       "       [0.02      , 0.98      ],\n",
       "       [1.        , 0.        ],\n",
       "       [0.96      , 0.04      ],\n",
       "       [0.87      , 0.13      ],\n",
       "       [1.        , 0.        ],\n",
       "       [0.875     , 0.125     ],\n",
       "       [0.82733333, 0.17266667],\n",
       "       [0.9       , 0.1       ],\n",
       "       [0.70420696, 0.29579304],\n",
       "       [0.35892857, 0.64107143],\n",
       "       [1.        , 0.        ],\n",
       "       [0.01      , 0.99      ],\n",
       "       [1.        , 0.        ],\n",
       "       [0.786     , 0.214     ],\n",
       "       [0.65333333, 0.34666667],\n",
       "       [0.995     , 0.005     ],\n",
       "       [0.9       , 0.1       ],\n",
       "       [0.67427381, 0.32572619],\n",
       "       [0.38      , 0.62      ],\n",
       "       [0.67427381, 0.32572619],\n",
       "       [0.93092649, 0.06907351],\n",
       "       [0.91699206, 0.08300794],\n",
       "       [1.        , 0.        ],\n",
       "       [0.15266667, 0.84733333],\n",
       "       [0.50469048, 0.49530952],\n",
       "       [0.89      , 0.11      ],\n",
       "       [0.95      , 0.05      ],\n",
       "       [0.9255413 , 0.0744587 ],\n",
       "       [0.4805    , 0.5195    ],\n",
       "       [0.9255413 , 0.0744587 ],\n",
       "       [0.93092649, 0.06907351],\n",
       "       [0.68368458, 0.31631542],\n",
       "       [0.18513095, 0.81486905],\n",
       "       [0.99666667, 0.00333333],\n",
       "       [0.72      , 0.28      ],\n",
       "       [1.        , 0.        ],\n",
       "       [0.        , 1.        ],\n",
       "       [0.99      , 0.01      ],\n",
       "       [0.02      , 0.98      ],\n",
       "       [0.9255413 , 0.0744587 ],\n",
       "       [0.99      , 0.01      ],\n",
       "       [0.80753463, 0.19246537],\n",
       "       [1.        , 0.        ],\n",
       "       [0.07      , 0.93      ],\n",
       "       [0.67216667, 0.32783333],\n",
       "       [0.25606727, 0.74393273],\n",
       "       [0.31      , 0.69      ],\n",
       "       [1.        , 0.        ],\n",
       "       [0.8       , 0.2       ],\n",
       "       [0.98735015, 0.01264985],\n",
       "       [0.86816667, 0.13183333],\n",
       "       [0.01      , 0.99      ],\n",
       "       [0.99      , 0.01      ],\n",
       "       [0.03      , 0.97      ],\n",
       "       [1.        , 0.        ],\n",
       "       [0.08      , 0.92      ],\n",
       "       [0.        , 1.        ],\n",
       "       [0.98      , 0.02      ],\n",
       "       [0.93092649, 0.06907351],\n",
       "       [0.3       , 0.7       ],\n",
       "       [0.57      , 0.43      ],\n",
       "       [0.1       , 0.9       ],\n",
       "       [0.93092649, 0.06907351],\n",
       "       [1.        , 0.        ],\n",
       "       [0.4       , 0.6       ],\n",
       "       [0.89      , 0.11      ],\n",
       "       [0.295     , 0.705     ],\n",
       "       [0.35166667, 0.64833333],\n",
       "       [0.03      , 0.97      ],\n",
       "       [0.05      , 0.95      ],\n",
       "       [0.25606727, 0.74393273],\n",
       "       [1.        , 0.        ],\n",
       "       [0.25606727, 0.74393273],\n",
       "       [0.25606727, 0.74393273],\n",
       "       [0.77      , 0.23      ],\n",
       "       [0.74019048, 0.25980952],\n",
       "       [1.        , 0.        ],\n",
       "       [0.14      , 0.86      ],\n",
       "       [0.25606727, 0.74393273],\n",
       "       [0.50871429, 0.49128571],\n",
       "       [1.        , 0.        ],\n",
       "       [0.82733333, 0.17266667]])"
      ]
     },
     "execution_count": 128,
     "metadata": {},
     "output_type": "execute_result"
    }
   ],
   "source": [
    "v1_pred"
   ]
  },
  {
   "cell_type": "code",
   "execution_count": 129,
   "id": "unlimited-compiler",
   "metadata": {},
   "outputs": [
    {
     "data": {
      "text/plain": [
       "(268, 2)"
      ]
     },
     "execution_count": 129,
     "metadata": {},
     "output_type": "execute_result"
    }
   ],
   "source": [
    "(v1_pred + v2_pred + v3_pred).shape"
   ]
  },
  {
   "cell_type": "code",
   "execution_count": 131,
   "id": "postal-release",
   "metadata": {},
   "outputs": [],
   "source": [
    "# 죽을 확률에서 살 확률 빼기 \n",
    "sv = np.where((v1_pred + v2_pred + v3_pred)[:,0] - (v1_pred + v2_pred + v3_pred)[:,1] > 0\n",
    "        ,0\n",
    "        ,1)"
   ]
  },
  {
   "cell_type": "code",
   "execution_count": 132,
   "id": "regular-intellectual",
   "metadata": {},
   "outputs": [
    {
     "data": {
      "text/plain": [
       "0.7947761194029851"
      ]
     },
     "execution_count": 132,
     "metadata": {},
     "output_type": "execute_result"
    }
   ],
   "source": [
    "accuracy_score(y_test, sv)"
   ]
  },
  {
   "cell_type": "code",
   "execution_count": null,
   "id": "spare-remainder",
   "metadata": {},
   "outputs": [],
   "source": []
  },
  {
   "cell_type": "code",
   "execution_count": 167,
   "id": "agricultural-music",
   "metadata": {},
   "outputs": [],
   "source": [
    "c1 = RandomForestClassifier()\n",
    "c2 = LogisticRegression()\n",
    "c3 = KNeighborsClassifier()\n",
    "c4 = RandomForestClassifier()\n",
    "c5 = KNeighborsClassifier()"
   ]
  },
  {
   "cell_type": "code",
   "execution_count": 168,
   "id": "dress-kelly",
   "metadata": {},
   "outputs": [
    {
     "name": "stderr",
     "output_type": "stream",
     "text": [
      "<ipython-input-168-81839fb8a08d>:1: DataConversionWarning: A column-vector y was passed when a 1d array was expected. Please change the shape of y to (n_samples,), for example using ravel().\n",
      "  c1.fit(X_train, y_train)\n",
      "/opt/anaconda3/envs/ml/lib/python3.8/site-packages/sklearn/utils/validation.py:63: DataConversionWarning: A column-vector y was passed when a 1d array was expected. Please change the shape of y to (n_samples, ), for example using ravel().\n",
      "  return f(*args, **kwargs)\n",
      "/opt/anaconda3/envs/ml/lib/python3.8/site-packages/sklearn/neighbors/_classification.py:179: DataConversionWarning: A column-vector y was passed when a 1d array was expected. Please change the shape of y to (n_samples,), for example using ravel().\n",
      "  return self._fit(X, y)\n",
      "<ipython-input-168-81839fb8a08d>:4: DataConversionWarning: A column-vector y was passed when a 1d array was expected. Please change the shape of y to (n_samples,), for example using ravel().\n",
      "  c4.fit(X_train, y_train)\n",
      "/opt/anaconda3/envs/ml/lib/python3.8/site-packages/sklearn/neighbors/_classification.py:179: DataConversionWarning: A column-vector y was passed when a 1d array was expected. Please change the shape of y to (n_samples,), for example using ravel().\n",
      "  return self._fit(X, y)\n"
     ]
    },
    {
     "data": {
      "text/plain": [
       "KNeighborsClassifier()"
      ]
     },
     "execution_count": 168,
     "metadata": {},
     "output_type": "execute_result"
    }
   ],
   "source": [
    "c1.fit(X_train, y_train)\n",
    "c2.fit(X_train, y_train)\n",
    "c3.fit(X_train, y_train)\n",
    "c4.fit(X_train, y_train)\n",
    "c5.fit(X_train, y_train)"
   ]
  },
  {
   "cell_type": "code",
   "execution_count": 169,
   "id": "thirty-pixel",
   "metadata": {},
   "outputs": [],
   "source": [
    "c1_pred = c1.predict(X_test)\n",
    "c2_pred = c2.predict(X_test)\n",
    "c3_pred = c3.predict(X_test)\n",
    "c4_pred = c4.predict(X_test)\n",
    "c5_pred = c5.predict(X_test)"
   ]
  },
  {
   "cell_type": "code",
   "execution_count": 170,
   "id": "dried-brand",
   "metadata": {},
   "outputs": [],
   "source": [
    "result = c1_pred + c2_pred + c3_pred + c4_pred + c5_pred\n",
    "hv = np.where(result >=3, 1, 0)"
   ]
  },
  {
   "cell_type": "code",
   "execution_count": 171,
   "id": "accompanied-dover",
   "metadata": {},
   "outputs": [
    {
     "data": {
      "text/plain": [
       "0.7686567164179104"
      ]
     },
     "execution_count": 171,
     "metadata": {},
     "output_type": "execute_result"
    }
   ],
   "source": [
    "accuracy_score(y_test, hv)"
   ]
  },
  {
   "cell_type": "code",
   "execution_count": 172,
   "id": "nonprofit-partner",
   "metadata": {},
   "outputs": [],
   "source": [
    "c1_pred = c1.predict_proba(X_test)\n",
    "c2_pred = c2.predict_proba(X_test)\n",
    "c3_pred = c3.predict_proba(X_test)\n",
    "c4_pred = c4.predict_proba(X_test)\n",
    "c5_pred = c5.predict_proba(X_test)"
   ]
  },
  {
   "cell_type": "code",
   "execution_count": 173,
   "id": "monthly-laundry",
   "metadata": {},
   "outputs": [],
   "source": [
    "sv = np.where((c1_pred + c2_pred + c3_pred + c4_pred + c5_pred)[:,0] - (c1_pred + c2_pred + c3_pred + c4_pred + c5_pred)[:,1] > 0\n",
    "        ,0\n",
    "        ,1)"
   ]
  },
  {
   "cell_type": "code",
   "execution_count": 174,
   "id": "threaded-closer",
   "metadata": {},
   "outputs": [
    {
     "data": {
      "text/plain": [
       "0.7835820895522388"
      ]
     },
     "execution_count": 174,
     "metadata": {},
     "output_type": "execute_result"
    }
   ],
   "source": [
    "accuracy_score(y_test, sv)"
   ]
  },
  {
   "cell_type": "code",
   "execution_count": null,
   "id": "flying-moses",
   "metadata": {},
   "outputs": [],
   "source": [
    "#######################################"
   ]
  },
  {
   "cell_type": "code",
   "execution_count": 189,
   "id": "different-jaguar",
   "metadata": {},
   "outputs": [],
   "source": [
    "rf = RandomForestClassifier()\n",
    "lr = LogisticRegression()\n",
    "kn = KNeighborsClassifier()\n",
    "meta = DecisionTreeClassifier()"
   ]
  },
  {
   "cell_type": "code",
   "execution_count": 193,
   "id": "adequate-telling",
   "metadata": {},
   "outputs": [
    {
     "name": "stderr",
     "output_type": "stream",
     "text": [
      "<ipython-input-193-1d2d86e910a0>:1: DataConversionWarning: A column-vector y was passed when a 1d array was expected. Please change the shape of y to (n_samples,), for example using ravel().\n",
      "  rf.fit(X_train, y_train)\n",
      "/opt/anaconda3/envs/ml/lib/python3.8/site-packages/sklearn/utils/validation.py:63: DataConversionWarning: A column-vector y was passed when a 1d array was expected. Please change the shape of y to (n_samples, ), for example using ravel().\n",
      "  return f(*args, **kwargs)\n",
      "/opt/anaconda3/envs/ml/lib/python3.8/site-packages/sklearn/neighbors/_classification.py:179: DataConversionWarning: A column-vector y was passed when a 1d array was expected. Please change the shape of y to (n_samples,), for example using ravel().\n",
      "  return self._fit(X, y)\n"
     ]
    }
   ],
   "source": [
    "rf.fit(X_train, y_train)\n",
    "lr.fit(X_train, y_train)\n",
    "kn.fit(X_train, y_train)\n",
    "rf_result = rf.predict(X_train)\n",
    "lr_result = lr.predict(X_train)\n",
    "kn_result = kn.predict(X_train)"
   ]
  },
  {
   "cell_type": "code",
   "execution_count": 194,
   "id": "synthetic-vehicle",
   "metadata": {},
   "outputs": [],
   "source": [
    "temp = pd.DataFrame()\n",
    "temp['rf_result'] = rf_result\n",
    "temp['lr_result'] = lr_result\n",
    "temp['kn_result'] = kn_result"
   ]
  },
  {
   "cell_type": "code",
   "execution_count": 195,
   "id": "possible-monday",
   "metadata": {},
   "outputs": [
    {
     "data": {
      "text/html": [
       "<div>\n",
       "<style scoped>\n",
       "    .dataframe tbody tr th:only-of-type {\n",
       "        vertical-align: middle;\n",
       "    }\n",
       "\n",
       "    .dataframe tbody tr th {\n",
       "        vertical-align: top;\n",
       "    }\n",
       "\n",
       "    .dataframe thead th {\n",
       "        text-align: right;\n",
       "    }\n",
       "</style>\n",
       "<table border=\"1\" class=\"dataframe\">\n",
       "  <thead>\n",
       "    <tr style=\"text-align: right;\">\n",
       "      <th></th>\n",
       "      <th>rf_result</th>\n",
       "      <th>lr_result</th>\n",
       "      <th>kn_result</th>\n",
       "    </tr>\n",
       "  </thead>\n",
       "  <tbody>\n",
       "    <tr>\n",
       "      <th>0</th>\n",
       "      <td>1</td>\n",
       "      <td>1</td>\n",
       "      <td>0</td>\n",
       "    </tr>\n",
       "    <tr>\n",
       "      <th>1</th>\n",
       "      <td>0</td>\n",
       "      <td>0</td>\n",
       "      <td>0</td>\n",
       "    </tr>\n",
       "    <tr>\n",
       "      <th>2</th>\n",
       "      <td>1</td>\n",
       "      <td>1</td>\n",
       "      <td>1</td>\n",
       "    </tr>\n",
       "    <tr>\n",
       "      <th>3</th>\n",
       "      <td>0</td>\n",
       "      <td>0</td>\n",
       "      <td>0</td>\n",
       "    </tr>\n",
       "    <tr>\n",
       "      <th>4</th>\n",
       "      <td>1</td>\n",
       "      <td>0</td>\n",
       "      <td>1</td>\n",
       "    </tr>\n",
       "    <tr>\n",
       "      <th>...</th>\n",
       "      <td>...</td>\n",
       "      <td>...</td>\n",
       "      <td>...</td>\n",
       "    </tr>\n",
       "    <tr>\n",
       "      <th>618</th>\n",
       "      <td>1</td>\n",
       "      <td>0</td>\n",
       "      <td>1</td>\n",
       "    </tr>\n",
       "    <tr>\n",
       "      <th>619</th>\n",
       "      <td>0</td>\n",
       "      <td>0</td>\n",
       "      <td>0</td>\n",
       "    </tr>\n",
       "    <tr>\n",
       "      <th>620</th>\n",
       "      <td>0</td>\n",
       "      <td>0</td>\n",
       "      <td>0</td>\n",
       "    </tr>\n",
       "    <tr>\n",
       "      <th>621</th>\n",
       "      <td>1</td>\n",
       "      <td>1</td>\n",
       "      <td>0</td>\n",
       "    </tr>\n",
       "    <tr>\n",
       "      <th>622</th>\n",
       "      <td>0</td>\n",
       "      <td>0</td>\n",
       "      <td>0</td>\n",
       "    </tr>\n",
       "  </tbody>\n",
       "</table>\n",
       "<p>623 rows × 3 columns</p>\n",
       "</div>"
      ],
      "text/plain": [
       "     rf_result  lr_result  kn_result\n",
       "0            1          1          0\n",
       "1            0          0          0\n",
       "2            1          1          1\n",
       "3            0          0          0\n",
       "4            1          0          1\n",
       "..         ...        ...        ...\n",
       "618          1          0          1\n",
       "619          0          0          0\n",
       "620          0          0          0\n",
       "621          1          1          0\n",
       "622          0          0          0\n",
       "\n",
       "[623 rows x 3 columns]"
      ]
     },
     "execution_count": 195,
     "metadata": {},
     "output_type": "execute_result"
    }
   ],
   "source": [
    "temp"
   ]
  },
  {
   "cell_type": "code",
   "execution_count": 196,
   "id": "flush-loading",
   "metadata": {},
   "outputs": [
    {
     "data": {
      "text/plain": [
       "DecisionTreeClassifier()"
      ]
     },
     "execution_count": 196,
     "metadata": {},
     "output_type": "execute_result"
    }
   ],
   "source": [
    "meta.fit(temp.values, y_train.values)"
   ]
  },
  {
   "cell_type": "code",
   "execution_count": null,
   "id": "concerned-construction",
   "metadata": {},
   "outputs": [],
   "source": [
    "meta.predict(temp.values)"
   ]
  },
  {
   "cell_type": "code",
   "execution_count": null,
   "id": "color-venezuela",
   "metadata": {},
   "outputs": [],
   "source": [
    "#########"
   ]
  },
  {
   "cell_type": "code",
   "execution_count": 198,
   "id": "automated-simon",
   "metadata": {},
   "outputs": [],
   "source": [
    "rf_result = rf.predict(X_test)\n",
    "lr_result = lr.predict(X_test)\n",
    "kn_result = kn.predict(X_test)"
   ]
  },
  {
   "cell_type": "code",
   "execution_count": 199,
   "id": "viral-melbourne",
   "metadata": {},
   "outputs": [],
   "source": [
    "temp = pd.DataFrame()\n",
    "temp['rf_result'] = rf_result\n",
    "temp['lr_result'] = lr_result\n",
    "temp['kn_result'] = kn_result"
   ]
  },
  {
   "cell_type": "code",
   "execution_count": 200,
   "id": "alert-closure",
   "metadata": {},
   "outputs": [],
   "source": [
    "st_result = meta.predict(temp.values)"
   ]
  },
  {
   "cell_type": "code",
   "execution_count": 220,
   "id": "certified-living",
   "metadata": {},
   "outputs": [
    {
     "data": {
      "text/plain": [
       "0.7723880597014925"
      ]
     },
     "execution_count": 220,
     "metadata": {},
     "output_type": "execute_result"
    }
   ],
   "source": [
    "accuracy_score(y_test,st_result)"
   ]
  },
  {
   "cell_type": "code",
   "execution_count": null,
   "id": "aging-appendix",
   "metadata": {},
   "outputs": [],
   "source": []
  },
  {
   "cell_type": "code",
   "execution_count": null,
   "id": "handled-maintenance",
   "metadata": {},
   "outputs": [],
   "source": []
  },
  {
   "cell_type": "code",
   "execution_count": 219,
   "id": "controversial-defensive",
   "metadata": {},
   "outputs": [],
   "source": [
    "#########################################"
   ]
  },
  {
   "cell_type": "code",
   "execution_count": null,
   "id": "uniform-function",
   "metadata": {},
   "outputs": [],
   "source": []
  },
  {
   "cell_type": "code",
   "execution_count": null,
   "id": "enhanced-provision",
   "metadata": {},
   "outputs": [],
   "source": []
  },
  {
   "cell_type": "code",
   "execution_count": 209,
   "id": "latter-basin",
   "metadata": {},
   "outputs": [],
   "source": [
    "rf = RandomForestClassifier()\n",
    "tree = DecisionTreeClassifier()\n",
    "kn = KNeighborsClassifier()\n",
    "meta = LogisticRegression()"
   ]
  },
  {
   "cell_type": "code",
   "execution_count": 210,
   "id": "constant-aluminum",
   "metadata": {},
   "outputs": [
    {
     "name": "stderr",
     "output_type": "stream",
     "text": [
      "<ipython-input-210-5c723434eaec>:1: DataConversionWarning: A column-vector y was passed when a 1d array was expected. Please change the shape of y to (n_samples,), for example using ravel().\n",
      "  rf.fit(X_train, y_train)\n",
      "/opt/anaconda3/envs/ml/lib/python3.8/site-packages/sklearn/neighbors/_classification.py:179: DataConversionWarning: A column-vector y was passed when a 1d array was expected. Please change the shape of y to (n_samples,), for example using ravel().\n",
      "  return self._fit(X, y)\n"
     ]
    }
   ],
   "source": [
    "rf.fit(X_train, y_train)\n",
    "tree.fit(X_train, y_train)\n",
    "kn.fit(X_train, y_train)\n",
    "rf_result = rf.predict(X_train)\n",
    "tree_result = tree.predict(X_train)\n",
    "kn_result = kn.predict(X_train)"
   ]
  },
  {
   "cell_type": "code",
   "execution_count": 217,
   "id": "heated-indication",
   "metadata": {},
   "outputs": [],
   "source": [
    "temp = pd.DataFrame()\n",
    "temp['rf_result'] = rf_result\n",
    "temp['tree_result'] = tree_result\n",
    "temp['kn_result'] = kn_result"
   ]
  },
  {
   "cell_type": "code",
   "execution_count": 218,
   "id": "statewide-payday",
   "metadata": {},
   "outputs": [
    {
     "data": {
      "text/html": [
       "<div>\n",
       "<style scoped>\n",
       "    .dataframe tbody tr th:only-of-type {\n",
       "        vertical-align: middle;\n",
       "    }\n",
       "\n",
       "    .dataframe tbody tr th {\n",
       "        vertical-align: top;\n",
       "    }\n",
       "\n",
       "    .dataframe thead th {\n",
       "        text-align: right;\n",
       "    }\n",
       "</style>\n",
       "<table border=\"1\" class=\"dataframe\">\n",
       "  <thead>\n",
       "    <tr style=\"text-align: right;\">\n",
       "      <th></th>\n",
       "      <th>rf_result</th>\n",
       "      <th>tree_result</th>\n",
       "      <th>kn_result</th>\n",
       "    </tr>\n",
       "  </thead>\n",
       "  <tbody>\n",
       "    <tr>\n",
       "      <th>0</th>\n",
       "      <td>1</td>\n",
       "      <td>1</td>\n",
       "      <td>0</td>\n",
       "    </tr>\n",
       "    <tr>\n",
       "      <th>1</th>\n",
       "      <td>0</td>\n",
       "      <td>0</td>\n",
       "      <td>0</td>\n",
       "    </tr>\n",
       "    <tr>\n",
       "      <th>2</th>\n",
       "      <td>1</td>\n",
       "      <td>1</td>\n",
       "      <td>1</td>\n",
       "    </tr>\n",
       "    <tr>\n",
       "      <th>3</th>\n",
       "      <td>0</td>\n",
       "      <td>0</td>\n",
       "      <td>0</td>\n",
       "    </tr>\n",
       "    <tr>\n",
       "      <th>4</th>\n",
       "      <td>1</td>\n",
       "      <td>1</td>\n",
       "      <td>1</td>\n",
       "    </tr>\n",
       "    <tr>\n",
       "      <th>...</th>\n",
       "      <td>...</td>\n",
       "      <td>...</td>\n",
       "      <td>...</td>\n",
       "    </tr>\n",
       "    <tr>\n",
       "      <th>618</th>\n",
       "      <td>1</td>\n",
       "      <td>1</td>\n",
       "      <td>1</td>\n",
       "    </tr>\n",
       "    <tr>\n",
       "      <th>619</th>\n",
       "      <td>0</td>\n",
       "      <td>0</td>\n",
       "      <td>0</td>\n",
       "    </tr>\n",
       "    <tr>\n",
       "      <th>620</th>\n",
       "      <td>0</td>\n",
       "      <td>0</td>\n",
       "      <td>0</td>\n",
       "    </tr>\n",
       "    <tr>\n",
       "      <th>621</th>\n",
       "      <td>1</td>\n",
       "      <td>1</td>\n",
       "      <td>0</td>\n",
       "    </tr>\n",
       "    <tr>\n",
       "      <th>622</th>\n",
       "      <td>0</td>\n",
       "      <td>0</td>\n",
       "      <td>0</td>\n",
       "    </tr>\n",
       "  </tbody>\n",
       "</table>\n",
       "<p>623 rows × 3 columns</p>\n",
       "</div>"
      ],
      "text/plain": [
       "     rf_result  tree_result  kn_result\n",
       "0            1            1          0\n",
       "1            0            0          0\n",
       "2            1            1          1\n",
       "3            0            0          0\n",
       "4            1            1          1\n",
       "..         ...          ...        ...\n",
       "618          1            1          1\n",
       "619          0            0          0\n",
       "620          0            0          0\n",
       "621          1            1          0\n",
       "622          0            0          0\n",
       "\n",
       "[623 rows x 3 columns]"
      ]
     },
     "execution_count": 218,
     "metadata": {},
     "output_type": "execute_result"
    }
   ],
   "source": [
    "temp"
   ]
  },
  {
   "cell_type": "code",
   "execution_count": 213,
   "id": "bibliographic-boards",
   "metadata": {},
   "outputs": [
    {
     "name": "stderr",
     "output_type": "stream",
     "text": [
      "/opt/anaconda3/envs/ml/lib/python3.8/site-packages/sklearn/utils/validation.py:63: DataConversionWarning: A column-vector y was passed when a 1d array was expected. Please change the shape of y to (n_samples, ), for example using ravel().\n",
      "  return f(*args, **kwargs)\n"
     ]
    },
    {
     "data": {
      "text/plain": [
       "LogisticRegression()"
      ]
     },
     "execution_count": 213,
     "metadata": {},
     "output_type": "execute_result"
    }
   ],
   "source": [
    "meta.fit(temp.values, y_train.values)"
   ]
  },
  {
   "cell_type": "code",
   "execution_count": 214,
   "id": "specified-butterfly",
   "metadata": {},
   "outputs": [
    {
     "data": {
      "text/plain": [
       "array([1, 0, 1, 0, 1, 0, 0, 0, 0, 0, 0, 1, 1, 1, 0, 0, 0, 1, 0, 0, 0, 0,\n",
       "       1, 0, 1, 0, 1, 1, 1, 0, 0, 0, 0, 1, 0, 1, 1, 1, 0, 0, 0, 1, 1, 0,\n",
       "       0, 1, 0, 1, 0, 1, 1, 0, 0, 0, 1, 1, 0, 1, 1, 0, 1, 0, 0, 1, 1, 0,\n",
       "       1, 0, 0, 1, 0, 0, 0, 0, 0, 0, 0, 0, 1, 0, 0, 0, 0, 0, 0, 0, 0, 1,\n",
       "       0, 0, 1, 0, 0, 1, 1, 1, 1, 1, 1, 0, 0, 0, 0, 1, 1, 1, 0, 0, 1, 1,\n",
       "       1, 0, 1, 1, 1, 0, 1, 1, 1, 0, 0, 0, 0, 1, 0, 0, 0, 0, 0, 1, 0, 0,\n",
       "       0, 0, 0, 0, 0, 0, 0, 0, 1, 0, 0, 0, 0, 1, 0, 0, 0, 0, 0, 0, 0, 0,\n",
       "       0, 0, 1, 0, 1, 0, 1, 1, 0, 1, 0, 0, 1, 0, 1, 0, 0, 1, 0, 0, 0, 1,\n",
       "       0, 1, 0, 0, 0, 1, 1, 0, 1, 0, 0, 1, 1, 1, 0, 1, 0, 1, 1, 1, 0, 0,\n",
       "       0, 0, 0, 0, 1, 1, 0, 1, 1, 0, 0, 0, 0, 0, 0, 0, 0, 0, 0, 0, 0, 0,\n",
       "       0, 1, 0, 1, 0, 1, 0, 0, 0, 0, 0, 1, 1, 0, 0, 0, 0, 0, 0, 1, 0, 0,\n",
       "       0, 1, 0, 0, 0, 0, 0, 1, 0, 0, 1, 0, 0, 0, 1, 0, 0, 0, 0, 1, 0, 0,\n",
       "       0, 0, 0, 0, 1, 1, 1, 0, 1, 0, 1, 0, 0, 1, 0, 0, 0, 1, 1, 0, 0, 0,\n",
       "       1, 1, 0, 0, 1, 0, 1, 0, 1, 1, 1, 0, 0, 0, 1, 0, 0, 0, 1, 1, 1, 0,\n",
       "       0, 1, 1, 0, 0, 0, 1, 1, 1, 0, 0, 1, 1, 1, 1, 0, 0, 1, 1, 0, 0, 1,\n",
       "       1, 1, 0, 0, 0, 1, 1, 0, 0, 0, 0, 0, 1, 0, 0, 0, 0, 1, 0, 0, 0, 0,\n",
       "       0, 1, 0, 0, 0, 0, 1, 0, 0, 1, 1, 0, 0, 0, 0, 0, 0, 0, 0, 0, 1, 0,\n",
       "       1, 0, 0, 0, 0, 1, 0, 1, 0, 0, 1, 1, 1, 0, 1, 0, 0, 0, 1, 1, 1, 0,\n",
       "       0, 0, 0, 1, 1, 0, 1, 0, 0, 1, 1, 1, 0, 0, 1, 0, 0, 0, 1, 1, 0, 1,\n",
       "       0, 1, 0, 0, 0, 0, 1, 1, 0, 0, 0, 0, 1, 1, 1, 1, 1, 0, 1, 1, 0, 0,\n",
       "       0, 0, 0, 1, 1, 0, 0, 0, 0, 0, 1, 0, 0, 0, 0, 0, 0, 0, 1, 0, 0, 0,\n",
       "       0, 1, 1, 0, 1, 0, 0, 0, 0, 0, 1, 0, 1, 0, 0, 1, 0, 1, 0, 1, 1, 1,\n",
       "       1, 0, 1, 1, 0, 0, 0, 0, 0, 0, 0, 0, 0, 0, 0, 0, 0, 1, 0, 0, 0, 0,\n",
       "       0, 1, 1, 1, 0, 0, 0, 0, 1, 0, 1, 0, 0, 0, 1, 0, 0, 1, 0, 1, 0, 1,\n",
       "       0, 0, 1, 0, 1, 0, 1, 0, 1, 1, 0, 0, 0, 0, 1, 1, 0, 0, 0, 0, 0, 1,\n",
       "       1, 1, 1, 0, 0, 1, 0, 0, 0, 0, 0, 0, 0, 0, 1, 0, 0, 0, 0, 0, 0, 0,\n",
       "       0, 0, 1, 1, 0, 1, 0, 0, 1, 0, 1, 0, 1, 1, 1, 1, 0, 1, 1, 0, 0, 0,\n",
       "       1, 0, 0, 1, 0, 0, 0, 0, 0, 1, 0, 1, 1, 0, 0, 0, 0, 0, 0, 0, 0, 0,\n",
       "       1, 1, 1, 0, 0, 1, 0])"
      ]
     },
     "execution_count": 214,
     "metadata": {},
     "output_type": "execute_result"
    }
   ],
   "source": [
    "meta.predict(temp.values)"
   ]
  },
  {
   "cell_type": "code",
   "execution_count": 221,
   "id": "premium-breach",
   "metadata": {},
   "outputs": [
    {
     "data": {
      "text/plain": [
       "0.7873134328358209"
      ]
     },
     "execution_count": 221,
     "metadata": {},
     "output_type": "execute_result"
    }
   ],
   "source": [
    "rf_result = rf.predict(X_test)\n",
    "tree_result = tree.predict(X_test)\n",
    "kn_result = kn.predict(X_test)\n",
    "\n",
    "temp = pd.DataFrame()\n",
    "temp['rf_result'] = rf_result\n",
    "temp['tree_result'] = tree_result\n",
    "temp['kn_result'] = kn_result\n",
    "\n",
    "st_result = meta.predict(temp.values)\n",
    "accuracy_score(y_test,st_result)"
   ]
  },
  {
   "cell_type": "code",
   "execution_count": null,
   "id": "restricted-blame",
   "metadata": {},
   "outputs": [],
   "source": []
  },
  {
   "cell_type": "code",
   "execution_count": null,
   "id": "meaning-digit",
   "metadata": {},
   "outputs": [],
   "source": [
    "############################ proba"
   ]
  },
  {
   "cell_type": "code",
   "execution_count": 222,
   "id": "simple-daily",
   "metadata": {},
   "outputs": [
    {
     "name": "stderr",
     "output_type": "stream",
     "text": [
      "<ipython-input-222-befc97e1d102>:1: DataConversionWarning: A column-vector y was passed when a 1d array was expected. Please change the shape of y to (n_samples,), for example using ravel().\n",
      "  rf.fit(X_train, y_train)\n",
      "/opt/anaconda3/envs/ml/lib/python3.8/site-packages/sklearn/neighbors/_classification.py:179: DataConversionWarning: A column-vector y was passed when a 1d array was expected. Please change the shape of y to (n_samples,), for example using ravel().\n",
      "  return self._fit(X, y)\n"
     ]
    }
   ],
   "source": [
    "rf.fit(X_train, y_train)\n",
    "tree.fit(X_train, y_train)\n",
    "kn.fit(X_train, y_train)\n",
    "rf_result = rf.predict_proba(X_train)[:, 0] -  rf.predict_proba(X_train)[:, 1]\n",
    "tree_result = tree.predict_proba(X_train)[:, 0] - tree.predict_proba(X_train)[:, 1]\n",
    "kn_result = kn.predict_proba(X_train)[:, 0] - kn.predict_proba(X_train)[:, 1]"
   ]
  },
  {
   "cell_type": "code",
   "execution_count": 223,
   "id": "bound-gauge",
   "metadata": {},
   "outputs": [],
   "source": [
    "temp = pd.DataFrame()\n",
    "temp['rf_result'] = rf_result\n",
    "temp['tree_result'] = tree_result\n",
    "temp['kn_result'] = kn_result"
   ]
  },
  {
   "cell_type": "code",
   "execution_count": 224,
   "id": "comprehensive-beads",
   "metadata": {},
   "outputs": [
    {
     "data": {
      "text/html": [
       "<div>\n",
       "<style scoped>\n",
       "    .dataframe tbody tr th:only-of-type {\n",
       "        vertical-align: middle;\n",
       "    }\n",
       "\n",
       "    .dataframe tbody tr th {\n",
       "        vertical-align: top;\n",
       "    }\n",
       "\n",
       "    .dataframe thead th {\n",
       "        text-align: right;\n",
       "    }\n",
       "</style>\n",
       "<table border=\"1\" class=\"dataframe\">\n",
       "  <thead>\n",
       "    <tr style=\"text-align: right;\">\n",
       "      <th></th>\n",
       "      <th>rf_result</th>\n",
       "      <th>tree_result</th>\n",
       "      <th>kn_result</th>\n",
       "    </tr>\n",
       "  </thead>\n",
       "  <tbody>\n",
       "    <tr>\n",
       "      <th>0</th>\n",
       "      <td>-0.840000</td>\n",
       "      <td>-1.000000</td>\n",
       "      <td>0.2</td>\n",
       "    </tr>\n",
       "    <tr>\n",
       "      <th>1</th>\n",
       "      <td>0.940000</td>\n",
       "      <td>1.000000</td>\n",
       "      <td>1.0</td>\n",
       "    </tr>\n",
       "    <tr>\n",
       "      <th>2</th>\n",
       "      <td>-0.980000</td>\n",
       "      <td>-1.000000</td>\n",
       "      <td>-0.6</td>\n",
       "    </tr>\n",
       "    <tr>\n",
       "      <th>3</th>\n",
       "      <td>1.000000</td>\n",
       "      <td>1.000000</td>\n",
       "      <td>1.0</td>\n",
       "    </tr>\n",
       "    <tr>\n",
       "      <th>4</th>\n",
       "      <td>-0.820000</td>\n",
       "      <td>-1.000000</td>\n",
       "      <td>-1.0</td>\n",
       "    </tr>\n",
       "    <tr>\n",
       "      <th>...</th>\n",
       "      <td>...</td>\n",
       "      <td>...</td>\n",
       "      <td>...</td>\n",
       "    </tr>\n",
       "    <tr>\n",
       "      <th>618</th>\n",
       "      <td>-0.299500</td>\n",
       "      <td>-0.333333</td>\n",
       "      <td>-0.2</td>\n",
       "    </tr>\n",
       "    <tr>\n",
       "      <th>619</th>\n",
       "      <td>0.815187</td>\n",
       "      <td>0.800000</td>\n",
       "      <td>0.6</td>\n",
       "    </tr>\n",
       "    <tr>\n",
       "      <th>620</th>\n",
       "      <td>0.850069</td>\n",
       "      <td>0.862069</td>\n",
       "      <td>0.6</td>\n",
       "    </tr>\n",
       "    <tr>\n",
       "      <th>621</th>\n",
       "      <td>-0.941846</td>\n",
       "      <td>-1.000000</td>\n",
       "      <td>0.2</td>\n",
       "    </tr>\n",
       "    <tr>\n",
       "      <th>622</th>\n",
       "      <td>0.780000</td>\n",
       "      <td>1.000000</td>\n",
       "      <td>0.2</td>\n",
       "    </tr>\n",
       "  </tbody>\n",
       "</table>\n",
       "<p>623 rows × 3 columns</p>\n",
       "</div>"
      ],
      "text/plain": [
       "     rf_result  tree_result  kn_result\n",
       "0    -0.840000    -1.000000        0.2\n",
       "1     0.940000     1.000000        1.0\n",
       "2    -0.980000    -1.000000       -0.6\n",
       "3     1.000000     1.000000        1.0\n",
       "4    -0.820000    -1.000000       -1.0\n",
       "..         ...          ...        ...\n",
       "618  -0.299500    -0.333333       -0.2\n",
       "619   0.815187     0.800000        0.6\n",
       "620   0.850069     0.862069        0.6\n",
       "621  -0.941846    -1.000000        0.2\n",
       "622   0.780000     1.000000        0.2\n",
       "\n",
       "[623 rows x 3 columns]"
      ]
     },
     "execution_count": 224,
     "metadata": {},
     "output_type": "execute_result"
    }
   ],
   "source": [
    "temp"
   ]
  },
  {
   "cell_type": "code",
   "execution_count": 225,
   "id": "tough-encyclopedia",
   "metadata": {},
   "outputs": [
    {
     "name": "stderr",
     "output_type": "stream",
     "text": [
      "/opt/anaconda3/envs/ml/lib/python3.8/site-packages/sklearn/utils/validation.py:63: DataConversionWarning: A column-vector y was passed when a 1d array was expected. Please change the shape of y to (n_samples, ), for example using ravel().\n",
      "  return f(*args, **kwargs)\n"
     ]
    },
    {
     "data": {
      "text/plain": [
       "LogisticRegression()"
      ]
     },
     "execution_count": 225,
     "metadata": {},
     "output_type": "execute_result"
    }
   ],
   "source": [
    "meta.fit(temp.values, y_train.values)"
   ]
  },
  {
   "cell_type": "code",
   "execution_count": 226,
   "id": "played-firmware",
   "metadata": {},
   "outputs": [],
   "source": [
    "rf_result = rf.predict_proba(X_test)[:, 0] -  rf.predict_proba(X_test)[:, 1]\n",
    "tree_result = tree.predict_proba(X_test)[:, 0] - tree.predict_proba(X_test)[:, 1]\n",
    "kn_result = kn.predict_proba(X_test)[:, 0] - kn.predict_proba(X_test)[:, 1]\n"
   ]
  },
  {
   "cell_type": "code",
   "execution_count": 227,
   "id": "suspended-london",
   "metadata": {},
   "outputs": [
    {
     "data": {
      "text/html": [
       "<div>\n",
       "<style scoped>\n",
       "    .dataframe tbody tr th:only-of-type {\n",
       "        vertical-align: middle;\n",
       "    }\n",
       "\n",
       "    .dataframe tbody tr th {\n",
       "        vertical-align: top;\n",
       "    }\n",
       "\n",
       "    .dataframe thead th {\n",
       "        text-align: right;\n",
       "    }\n",
       "</style>\n",
       "<table border=\"1\" class=\"dataframe\">\n",
       "  <thead>\n",
       "    <tr style=\"text-align: right;\">\n",
       "      <th></th>\n",
       "      <th>rf_result</th>\n",
       "      <th>tree_result</th>\n",
       "      <th>kn_result</th>\n",
       "    </tr>\n",
       "  </thead>\n",
       "  <tbody>\n",
       "    <tr>\n",
       "      <th>0</th>\n",
       "      <td>1.000000</td>\n",
       "      <td>1.000000</td>\n",
       "      <td>1.0</td>\n",
       "    </tr>\n",
       "    <tr>\n",
       "      <th>1</th>\n",
       "      <td>0.850069</td>\n",
       "      <td>0.862069</td>\n",
       "      <td>0.6</td>\n",
       "    </tr>\n",
       "    <tr>\n",
       "      <th>2</th>\n",
       "      <td>1.000000</td>\n",
       "      <td>1.000000</td>\n",
       "      <td>1.0</td>\n",
       "    </tr>\n",
       "    <tr>\n",
       "      <th>3</th>\n",
       "      <td>0.420000</td>\n",
       "      <td>-1.000000</td>\n",
       "      <td>0.2</td>\n",
       "    </tr>\n",
       "    <tr>\n",
       "      <th>4</th>\n",
       "      <td>-0.640667</td>\n",
       "      <td>-1.000000</td>\n",
       "      <td>-1.0</td>\n",
       "    </tr>\n",
       "    <tr>\n",
       "      <th>...</th>\n",
       "      <td>...</td>\n",
       "      <td>...</td>\n",
       "      <td>...</td>\n",
       "    </tr>\n",
       "    <tr>\n",
       "      <th>263</th>\n",
       "      <td>-0.720000</td>\n",
       "      <td>-1.000000</td>\n",
       "      <td>-0.2</td>\n",
       "    </tr>\n",
       "    <tr>\n",
       "      <th>264</th>\n",
       "      <td>-0.516619</td>\n",
       "      <td>-0.500000</td>\n",
       "      <td>-0.6</td>\n",
       "    </tr>\n",
       "    <tr>\n",
       "      <th>265</th>\n",
       "      <td>-0.017686</td>\n",
       "      <td>0.000000</td>\n",
       "      <td>-0.2</td>\n",
       "    </tr>\n",
       "    <tr>\n",
       "      <th>266</th>\n",
       "      <td>0.975000</td>\n",
       "      <td>1.000000</td>\n",
       "      <td>1.0</td>\n",
       "    </tr>\n",
       "    <tr>\n",
       "      <th>267</th>\n",
       "      <td>0.748333</td>\n",
       "      <td>1.000000</td>\n",
       "      <td>-0.2</td>\n",
       "    </tr>\n",
       "  </tbody>\n",
       "</table>\n",
       "<p>268 rows × 3 columns</p>\n",
       "</div>"
      ],
      "text/plain": [
       "     rf_result  tree_result  kn_result\n",
       "0     1.000000     1.000000        1.0\n",
       "1     0.850069     0.862069        0.6\n",
       "2     1.000000     1.000000        1.0\n",
       "3     0.420000    -1.000000        0.2\n",
       "4    -0.640667    -1.000000       -1.0\n",
       "..         ...          ...        ...\n",
       "263  -0.720000    -1.000000       -0.2\n",
       "264  -0.516619    -0.500000       -0.6\n",
       "265  -0.017686     0.000000       -0.2\n",
       "266   0.975000     1.000000        1.0\n",
       "267   0.748333     1.000000       -0.2\n",
       "\n",
       "[268 rows x 3 columns]"
      ]
     },
     "execution_count": 227,
     "metadata": {},
     "output_type": "execute_result"
    }
   ],
   "source": [
    "temp = pd.DataFrame()\n",
    "temp['rf_result'] = rf_result\n",
    "temp['tree_result'] = tree_result\n",
    "temp['kn_result'] = kn_result\n",
    "\n",
    "temp"
   ]
  },
  {
   "cell_type": "code",
   "execution_count": 228,
   "id": "serious-messaging",
   "metadata": {},
   "outputs": [
    {
     "data": {
      "text/plain": [
       "0.7686567164179104"
      ]
     },
     "execution_count": 228,
     "metadata": {},
     "output_type": "execute_result"
    }
   ],
   "source": [
    "st_result = meta.predict(temp.values)\n",
    "accuracy_score(y_test, st_result)"
   ]
  }
 ],
 "metadata": {
  "kernelspec": {
   "display_name": "ml",
   "language": "python",
   "name": "ml"
  },
  "language_info": {
   "codemirror_mode": {
    "name": "ipython",
    "version": 3
   },
   "file_extension": ".py",
   "mimetype": "text/x-python",
   "name": "python",
   "nbconvert_exporter": "python",
   "pygments_lexer": "ipython3",
   "version": "3.8.8"
  }
 },
 "nbformat": 4,
 "nbformat_minor": 5
}
