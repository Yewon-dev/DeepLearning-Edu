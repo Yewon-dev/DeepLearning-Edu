{
 "cells": [
  {
   "cell_type": "code",
   "execution_count": 2,
   "id": "opponent-royalty",
   "metadata": {},
   "outputs": [],
   "source": [
    "import numpy as np\n",
    "import tensorflow as tf\n",
    "import pandas as pd"
   ]
  },
  {
   "cell_type": "code",
   "execution_count": 8,
   "id": "seeing-group",
   "metadata": {},
   "outputs": [],
   "source": [
    "df = pd.read_csv('data-04-zoo.csv', header = None)"
   ]
  },
  {
   "cell_type": "code",
   "execution_count": 13,
   "id": "digital-reminder",
   "metadata": {},
   "outputs": [],
   "source": [
    "x_data = df.iloc[:,:-1]\n",
    "y_data = df.iloc[:,-1]"
   ]
  },
  {
   "cell_type": "code",
   "execution_count": 14,
   "id": "addressed-abuse",
   "metadata": {},
   "outputs": [
    {
     "data": {
      "text/html": [
       "<div>\n",
       "<style scoped>\n",
       "    .dataframe tbody tr th:only-of-type {\n",
       "        vertical-align: middle;\n",
       "    }\n",
       "\n",
       "    .dataframe tbody tr th {\n",
       "        vertical-align: top;\n",
       "    }\n",
       "\n",
       "    .dataframe thead th {\n",
       "        text-align: right;\n",
       "    }\n",
       "</style>\n",
       "<table border=\"1\" class=\"dataframe\">\n",
       "  <thead>\n",
       "    <tr style=\"text-align: right;\">\n",
       "      <th></th>\n",
       "      <th>0</th>\n",
       "      <th>1</th>\n",
       "      <th>2</th>\n",
       "      <th>3</th>\n",
       "      <th>4</th>\n",
       "      <th>5</th>\n",
       "      <th>6</th>\n",
       "      <th>7</th>\n",
       "      <th>8</th>\n",
       "      <th>9</th>\n",
       "      <th>10</th>\n",
       "      <th>11</th>\n",
       "      <th>12</th>\n",
       "      <th>13</th>\n",
       "      <th>14</th>\n",
       "      <th>15</th>\n",
       "    </tr>\n",
       "  </thead>\n",
       "  <tbody>\n",
       "    <tr>\n",
       "      <th>0</th>\n",
       "      <td>1</td>\n",
       "      <td>0</td>\n",
       "      <td>0</td>\n",
       "      <td>1</td>\n",
       "      <td>0</td>\n",
       "      <td>0</td>\n",
       "      <td>1</td>\n",
       "      <td>1</td>\n",
       "      <td>1</td>\n",
       "      <td>1</td>\n",
       "      <td>0</td>\n",
       "      <td>0</td>\n",
       "      <td>4</td>\n",
       "      <td>0</td>\n",
       "      <td>0</td>\n",
       "      <td>1</td>\n",
       "    </tr>\n",
       "    <tr>\n",
       "      <th>1</th>\n",
       "      <td>1</td>\n",
       "      <td>0</td>\n",
       "      <td>0</td>\n",
       "      <td>1</td>\n",
       "      <td>0</td>\n",
       "      <td>0</td>\n",
       "      <td>0</td>\n",
       "      <td>1</td>\n",
       "      <td>1</td>\n",
       "      <td>1</td>\n",
       "      <td>0</td>\n",
       "      <td>0</td>\n",
       "      <td>4</td>\n",
       "      <td>1</td>\n",
       "      <td>0</td>\n",
       "      <td>1</td>\n",
       "    </tr>\n",
       "    <tr>\n",
       "      <th>2</th>\n",
       "      <td>0</td>\n",
       "      <td>0</td>\n",
       "      <td>1</td>\n",
       "      <td>0</td>\n",
       "      <td>0</td>\n",
       "      <td>1</td>\n",
       "      <td>1</td>\n",
       "      <td>1</td>\n",
       "      <td>1</td>\n",
       "      <td>0</td>\n",
       "      <td>0</td>\n",
       "      <td>1</td>\n",
       "      <td>0</td>\n",
       "      <td>1</td>\n",
       "      <td>0</td>\n",
       "      <td>0</td>\n",
       "    </tr>\n",
       "    <tr>\n",
       "      <th>3</th>\n",
       "      <td>1</td>\n",
       "      <td>0</td>\n",
       "      <td>0</td>\n",
       "      <td>1</td>\n",
       "      <td>0</td>\n",
       "      <td>0</td>\n",
       "      <td>1</td>\n",
       "      <td>1</td>\n",
       "      <td>1</td>\n",
       "      <td>1</td>\n",
       "      <td>0</td>\n",
       "      <td>0</td>\n",
       "      <td>4</td>\n",
       "      <td>0</td>\n",
       "      <td>0</td>\n",
       "      <td>1</td>\n",
       "    </tr>\n",
       "    <tr>\n",
       "      <th>4</th>\n",
       "      <td>1</td>\n",
       "      <td>0</td>\n",
       "      <td>0</td>\n",
       "      <td>1</td>\n",
       "      <td>0</td>\n",
       "      <td>0</td>\n",
       "      <td>1</td>\n",
       "      <td>1</td>\n",
       "      <td>1</td>\n",
       "      <td>1</td>\n",
       "      <td>0</td>\n",
       "      <td>0</td>\n",
       "      <td>4</td>\n",
       "      <td>1</td>\n",
       "      <td>0</td>\n",
       "      <td>1</td>\n",
       "    </tr>\n",
       "    <tr>\n",
       "      <th>...</th>\n",
       "      <td>...</td>\n",
       "      <td>...</td>\n",
       "      <td>...</td>\n",
       "      <td>...</td>\n",
       "      <td>...</td>\n",
       "      <td>...</td>\n",
       "      <td>...</td>\n",
       "      <td>...</td>\n",
       "      <td>...</td>\n",
       "      <td>...</td>\n",
       "      <td>...</td>\n",
       "      <td>...</td>\n",
       "      <td>...</td>\n",
       "      <td>...</td>\n",
       "      <td>...</td>\n",
       "      <td>...</td>\n",
       "    </tr>\n",
       "    <tr>\n",
       "      <th>96</th>\n",
       "      <td>1</td>\n",
       "      <td>0</td>\n",
       "      <td>0</td>\n",
       "      <td>1</td>\n",
       "      <td>0</td>\n",
       "      <td>0</td>\n",
       "      <td>0</td>\n",
       "      <td>1</td>\n",
       "      <td>1</td>\n",
       "      <td>1</td>\n",
       "      <td>0</td>\n",
       "      <td>0</td>\n",
       "      <td>2</td>\n",
       "      <td>1</td>\n",
       "      <td>0</td>\n",
       "      <td>1</td>\n",
       "    </tr>\n",
       "    <tr>\n",
       "      <th>97</th>\n",
       "      <td>1</td>\n",
       "      <td>0</td>\n",
       "      <td>1</td>\n",
       "      <td>0</td>\n",
       "      <td>1</td>\n",
       "      <td>0</td>\n",
       "      <td>0</td>\n",
       "      <td>0</td>\n",
       "      <td>0</td>\n",
       "      <td>1</td>\n",
       "      <td>1</td>\n",
       "      <td>0</td>\n",
       "      <td>6</td>\n",
       "      <td>0</td>\n",
       "      <td>0</td>\n",
       "      <td>0</td>\n",
       "    </tr>\n",
       "    <tr>\n",
       "      <th>98</th>\n",
       "      <td>1</td>\n",
       "      <td>0</td>\n",
       "      <td>0</td>\n",
       "      <td>1</td>\n",
       "      <td>0</td>\n",
       "      <td>0</td>\n",
       "      <td>1</td>\n",
       "      <td>1</td>\n",
       "      <td>1</td>\n",
       "      <td>1</td>\n",
       "      <td>0</td>\n",
       "      <td>0</td>\n",
       "      <td>4</td>\n",
       "      <td>1</td>\n",
       "      <td>0</td>\n",
       "      <td>1</td>\n",
       "    </tr>\n",
       "    <tr>\n",
       "      <th>99</th>\n",
       "      <td>0</td>\n",
       "      <td>0</td>\n",
       "      <td>1</td>\n",
       "      <td>0</td>\n",
       "      <td>0</td>\n",
       "      <td>0</td>\n",
       "      <td>0</td>\n",
       "      <td>0</td>\n",
       "      <td>0</td>\n",
       "      <td>1</td>\n",
       "      <td>0</td>\n",
       "      <td>0</td>\n",
       "      <td>0</td>\n",
       "      <td>0</td>\n",
       "      <td>0</td>\n",
       "      <td>0</td>\n",
       "    </tr>\n",
       "    <tr>\n",
       "      <th>100</th>\n",
       "      <td>0</td>\n",
       "      <td>1</td>\n",
       "      <td>1</td>\n",
       "      <td>0</td>\n",
       "      <td>1</td>\n",
       "      <td>0</td>\n",
       "      <td>0</td>\n",
       "      <td>0</td>\n",
       "      <td>1</td>\n",
       "      <td>1</td>\n",
       "      <td>0</td>\n",
       "      <td>0</td>\n",
       "      <td>2</td>\n",
       "      <td>1</td>\n",
       "      <td>0</td>\n",
       "      <td>0</td>\n",
       "    </tr>\n",
       "  </tbody>\n",
       "</table>\n",
       "<p>101 rows × 16 columns</p>\n",
       "</div>"
      ],
      "text/plain": [
       "     0   1   2   3   4   5   6   7   8   9   10  11  12  13  14  15\n",
       "0     1   0   0   1   0   0   1   1   1   1   0   0   4   0   0   1\n",
       "1     1   0   0   1   0   0   0   1   1   1   0   0   4   1   0   1\n",
       "2     0   0   1   0   0   1   1   1   1   0   0   1   0   1   0   0\n",
       "3     1   0   0   1   0   0   1   1   1   1   0   0   4   0   0   1\n",
       "4     1   0   0   1   0   0   1   1   1   1   0   0   4   1   0   1\n",
       "..   ..  ..  ..  ..  ..  ..  ..  ..  ..  ..  ..  ..  ..  ..  ..  ..\n",
       "96    1   0   0   1   0   0   0   1   1   1   0   0   2   1   0   1\n",
       "97    1   0   1   0   1   0   0   0   0   1   1   0   6   0   0   0\n",
       "98    1   0   0   1   0   0   1   1   1   1   0   0   4   1   0   1\n",
       "99    0   0   1   0   0   0   0   0   0   1   0   0   0   0   0   0\n",
       "100   0   1   1   0   1   0   0   0   1   1   0   0   2   1   0   0\n",
       "\n",
       "[101 rows x 16 columns]"
      ]
     },
     "execution_count": 14,
     "metadata": {},
     "output_type": "execute_result"
    }
   ],
   "source": [
    "x_data"
   ]
  },
  {
   "cell_type": "code",
   "execution_count": 15,
   "id": "attempted-influence",
   "metadata": {},
   "outputs": [
    {
     "data": {
      "text/plain": [
       "0      1\n",
       "1      1\n",
       "2      4\n",
       "3      1\n",
       "4      1\n",
       "      ..\n",
       "96     1\n",
       "97     6\n",
       "98     1\n",
       "99     7\n",
       "100    2\n",
       "Name: 16, Length: 101, dtype: int64"
      ]
     },
     "execution_count": 15,
     "metadata": {},
     "output_type": "execute_result"
    }
   ],
   "source": [
    "y_data"
   ]
  },
  {
   "cell_type": "markdown",
   "id": "conservative-worth",
   "metadata": {},
   "source": [
    "# One-hot Encoding"
   ]
  },
  {
   "cell_type": "code",
   "execution_count": 29,
   "id": "willing-connectivity",
   "metadata": {},
   "outputs": [],
   "source": [
    "nb_class = y_data.unique().size"
   ]
  },
  {
   "cell_type": "code",
   "execution_count": 32,
   "id": "greatest-begin",
   "metadata": {},
   "outputs": [],
   "source": [
    "# np.eye() : 대각행렬 \n",
    "y_onehot = np.eye(nb_class)[np.array(y_data)-1]"
   ]
  },
  {
   "cell_type": "code",
   "execution_count": 33,
   "id": "crude-chambers",
   "metadata": {},
   "outputs": [
    {
     "data": {
      "text/plain": [
       "(101, 7)"
      ]
     },
     "execution_count": 33,
     "metadata": {},
     "output_type": "execute_result"
    }
   ],
   "source": [
    "y_onehot.shape"
   ]
  },
  {
   "cell_type": "code",
   "execution_count": 35,
   "id": "german-yugoslavia",
   "metadata": {},
   "outputs": [],
   "source": [
    "X = tf.placeholder(tf.float32, shape=[None, 16])\n",
    "Y = tf.placeholder(tf.float32, shape=[None, nb_class])"
   ]
  },
  {
   "cell_type": "code",
   "execution_count": 36,
   "id": "corresponding-enemy",
   "metadata": {},
   "outputs": [],
   "source": [
    "W = tf.Variable(tf.random_normal([16, nb_class]))\n",
    "b = tf.Variable(tf.random_normal([nb_class]))"
   ]
  },
  {
   "cell_type": "code",
   "execution_count": 37,
   "id": "requested-legislature",
   "metadata": {},
   "outputs": [],
   "source": [
    "hypothesis = tf.nn.softmax(tf.matmul(X,W)+b)"
   ]
  },
  {
   "cell_type": "code",
   "execution_count": 39,
   "id": "protected-treatment",
   "metadata": {},
   "outputs": [],
   "source": [
    "cost = tf.reduce_mean(-tf.reduce_sum(Y * tf.log(hypothesis), axis=1))\n",
    "optimizer = tf.train.GradientDescentOptimizer(learning_rate=0.01)"
   ]
  },
  {
   "cell_type": "code",
   "execution_count": 40,
   "id": "stylish-albuquerque",
   "metadata": {},
   "outputs": [],
   "source": [
    "train = optimizer.minimize(cost)"
   ]
  },
  {
   "cell_type": "code",
   "execution_count": 44,
   "id": "fiscal-tragedy",
   "metadata": {},
   "outputs": [],
   "source": [
    "sess = tf.Session()\n",
    "sess.run(tf.global_variables_initializer())\n"
   ]
  },
  {
   "cell_type": "code",
   "execution_count": 46,
   "id": "durable-pharmacology",
   "metadata": {},
   "outputs": [],
   "source": [
    "epochs = range(2000)\n",
    "for epoch in epochs:\n",
    "    sess.run(train, feed_dict={X:x_data, Y:y_onehot})"
   ]
  },
  {
   "cell_type": "code",
   "execution_count": 47,
   "id": "processed-opera",
   "metadata": {},
   "outputs": [],
   "source": [
    "pred = sess.run(hypothesis, feed_dict={X:x_data})"
   ]
  },
  {
   "cell_type": "code",
   "execution_count": 48,
   "id": "analyzed-convertible",
   "metadata": {},
   "outputs": [
    {
     "data": {
      "text/plain": [
       "array([[9.74973679e-01, 1.59431994e-03, 6.44398527e-03, 2.42487105e-04,\n",
       "        1.43625555e-04, 1.37159750e-02, 2.88584223e-03],\n",
       "       [9.62699592e-01, 6.92324433e-03, 1.88066531e-02, 2.92656990e-03,\n",
       "        2.14396045e-03, 5.92410332e-03, 5.75909857e-04],\n",
       "       [1.08865350e-02, 2.15824395e-02, 3.73708978e-02, 8.63526940e-01,\n",
       "        4.33587991e-02, 2.36575678e-03, 2.09086202e-02],\n",
       "       [9.74973679e-01, 1.59431994e-03, 6.44398527e-03, 2.42487105e-04,\n",
       "        1.43625555e-04, 1.37159750e-02, 2.88584223e-03],\n",
       "       [9.72234309e-01, 5.72344707e-03, 1.20095275e-02, 2.26248242e-03,\n",
       "        6.71719317e-04, 4.59931837e-03, 2.49925535e-03],\n",
       "       [9.62699592e-01, 6.92324433e-03, 1.88066531e-02, 2.92656990e-03,\n",
       "        2.14396045e-03, 5.92410332e-03, 5.75909857e-04],\n",
       "       [9.70583558e-01, 5.70700970e-03, 1.81046221e-02, 9.61109996e-04,\n",
       "        2.60539469e-04, 4.24077781e-03, 1.42298159e-04],\n",
       "       [2.28442959e-02, 4.52353097e-02, 1.18419595e-01, 7.71063447e-01,\n",
       "        3.53499800e-02, 4.58509428e-03, 2.50230357e-03],\n",
       "       [1.08865350e-02, 2.15824395e-02, 3.73708978e-02, 8.63526940e-01,\n",
       "        4.33587991e-02, 2.36575678e-03, 2.09086202e-02],\n",
       "       [9.48892474e-01, 5.63695608e-03, 3.68926558e-03, 1.11377958e-04,\n",
       "        2.61687179e-04, 4.12003994e-02, 2.07815683e-04],\n",
       "       [9.72234309e-01, 5.72344707e-03, 1.20095275e-02, 2.26248242e-03,\n",
       "        6.71719317e-04, 4.59931837e-03, 2.49925535e-03],\n",
       "       [1.60693396e-02, 9.35209572e-01, 1.15415417e-02, 3.81647493e-03,\n",
       "        1.51211135e-02, 1.58079844e-02, 2.43400550e-03],\n",
       "       [1.08865350e-02, 2.15824395e-02, 3.73708978e-02, 8.63526940e-01,\n",
       "        4.33587991e-02, 2.36575678e-03, 2.09086202e-02],\n",
       "       [3.33977453e-02, 2.59748045e-02, 4.79033366e-02, 7.36564696e-02,\n",
       "        2.04989966e-02, 1.32967368e-01, 6.65601194e-01],\n",
       "       [3.01511982e-03, 5.28052123e-03, 1.31540010e-02, 1.24082551e-04,\n",
       "        6.69989586e-02, 1.61015823e-01, 7.50411451e-01],\n",
       "       [7.77019362e-04, 1.18475768e-03, 5.16001228e-03, 6.71916041e-06,\n",
       "        6.33215383e-02, 1.68576136e-01, 7.60973811e-01],\n",
       "       [1.50503702e-02, 8.76939058e-01, 7.15831993e-03, 8.40012450e-03,\n",
       "        3.64509858e-02, 1.60300843e-02, 3.99709530e-02],\n",
       "       [9.62699592e-01, 6.92324433e-03, 1.88066531e-02, 2.92656990e-03,\n",
       "        2.14396045e-03, 5.92410332e-03, 5.75909857e-04],\n",
       "       [1.18695702e-02, 6.46977732e-03, 1.04596965e-01, 8.48908842e-01,\n",
       "        9.81114246e-03, 7.71889056e-04, 1.75717752e-02],\n",
       "       [8.60543072e-01, 5.72542613e-03, 4.60774312e-03, 1.27035856e-01,\n",
       "        1.86921551e-03, 1.64314493e-04, 5.44613504e-05],\n",
       "       [1.60693396e-02, 9.35209572e-01, 1.15415417e-02, 3.81647493e-03,\n",
       "        1.51211135e-02, 1.58079844e-02, 2.43400550e-03],\n",
       "       [4.23012255e-03, 8.94526482e-01, 4.17691469e-03, 1.30347337e-03,\n",
       "        8.88913497e-02, 4.76306072e-03, 2.10855925e-03],\n",
       "       [9.62699592e-01, 6.92324433e-03, 1.88066531e-02, 2.92656990e-03,\n",
       "        2.14396045e-03, 5.92410332e-03, 5.75909857e-04],\n",
       "       [3.89561914e-02, 7.62384832e-01, 7.52222613e-02, 2.56099328e-02,\n",
       "        6.31167740e-02, 1.61515269e-02, 1.85584873e-02],\n",
       "       [3.64903845e-02, 7.12843379e-03, 1.79781020e-02, 6.52537419e-05,\n",
       "        1.34488314e-01, 6.32645011e-01, 1.71204388e-01],\n",
       "       [2.57378042e-01, 1.08752616e-01, 2.15884838e-02, 1.64447865e-03,\n",
       "        3.98670807e-02, 2.43442371e-01, 3.27326983e-01],\n",
       "       [4.48304676e-02, 9.99815166e-02, 5.92213608e-02, 8.68155214e-04,\n",
       "        1.15206227e-01, 4.18214679e-01, 2.61677563e-01],\n",
       "       [9.08613980e-01, 4.64477725e-02, 6.67259609e-03, 2.13872027e-02,\n",
       "        5.66150341e-03, 1.10898986e-02, 1.27078427e-04],\n",
       "       [9.62699592e-01, 6.92324433e-03, 1.88066531e-02, 2.92656990e-03,\n",
       "        2.14396045e-03, 5.92410332e-03, 5.75909857e-04],\n",
       "       [9.91360009e-01, 1.52245862e-03, 4.11020173e-03, 3.82227357e-04,\n",
       "        4.79986147e-06, 2.43750587e-03, 1.82755408e-04],\n",
       "       [1.81685649e-02, 6.03909465e-03, 1.31488219e-02, 4.76618552e-05,\n",
       "        1.42595679e-01, 7.59553373e-01, 6.04467988e-02],\n",
       "       [9.70583558e-01, 5.70700970e-03, 1.81046221e-02, 9.61109996e-04,\n",
       "        2.60539469e-04, 4.24077781e-03, 1.42298159e-04],\n",
       "       [9.84720469e-01, 2.25944724e-03, 6.76198723e-03, 1.52259681e-03,\n",
       "        1.27498410e-04, 4.43563052e-03, 1.72374770e-04],\n",
       "       [5.42030297e-03, 9.38278735e-01, 3.38423415e-03, 1.27855351e-03,\n",
       "        3.53362970e-02, 4.69188765e-03, 1.16100088e-02],\n",
       "       [7.93414842e-03, 1.92151256e-02, 4.30734791e-02, 8.22129786e-01,\n",
       "        1.01858459e-01, 2.24279636e-03, 3.54617508e-03],\n",
       "       [9.56173658e-01, 2.04488412e-02, 6.94789086e-03, 1.05011568e-03,\n",
       "        1.23674527e-03, 1.39607880e-02, 1.81868760e-04],\n",
       "       [9.35271800e-01, 2.44631767e-02, 7.11734733e-03, 3.15330620e-03,\n",
       "        1.00361397e-02, 1.92322582e-02, 7.25866528e-04],\n",
       "       [1.50503702e-02, 8.76939058e-01, 7.15831993e-03, 8.40012450e-03,\n",
       "        3.64509858e-02, 1.60300843e-02, 3.99709530e-02],\n",
       "       [1.08865350e-02, 2.15824395e-02, 3.73708978e-02, 8.63526940e-01,\n",
       "        4.33587991e-02, 2.36575678e-03, 2.09086202e-02],\n",
       "       [3.93102644e-03, 6.01922115e-03, 1.74714118e-01, 6.02102955e-06,\n",
       "        1.09373145e-02, 7.90479064e-01, 1.39133139e-02],\n",
       "       [2.66209841e-02, 9.44546703e-03, 7.86784217e-02, 4.12999143e-05,\n",
       "        3.70386131e-02, 7.64410079e-01, 8.37652013e-02],\n",
       "       [2.42291056e-02, 8.29705060e-01, 7.84513075e-03, 9.21831559e-03,\n",
       "        2.75562089e-02, 1.07021155e-02, 9.07440186e-02],\n",
       "       [1.97621584e-02, 5.37716644e-03, 9.04345978e-03, 3.96854302e-05,\n",
       "        4.81183641e-02, 6.35130167e-01, 2.82528996e-01],\n",
       "       [1.19802142e-02, 8.52744043e-01, 9.01144091e-03, 8.73487536e-03,\n",
       "        9.35267434e-02, 1.65982489e-02, 7.40432879e-03],\n",
       "       [9.72234309e-01, 5.72344707e-03, 1.20095275e-02, 2.26248242e-03,\n",
       "        6.71719317e-04, 4.59931837e-03, 2.49925535e-03],\n",
       "       [9.72234309e-01, 5.72344707e-03, 1.20095275e-02, 2.26248242e-03,\n",
       "        6.71719317e-04, 4.59931837e-03, 2.49925535e-03],\n",
       "       [7.77019362e-04, 1.18475768e-03, 5.16001228e-03, 6.71916041e-06,\n",
       "        6.33215383e-02, 1.68576136e-01, 7.60973811e-01],\n",
       "       [9.72234309e-01, 5.72344707e-03, 1.20095275e-02, 2.26248242e-03,\n",
       "        6.71719317e-04, 4.59931837e-03, 2.49925535e-03],\n",
       "       [9.59263980e-01, 1.67768728e-02, 1.55548519e-02, 9.43429128e-04,\n",
       "        1.78398134e-03, 3.68804089e-03, 1.98879302e-03],\n",
       "       [9.51224685e-01, 2.03669611e-02, 4.57717665e-03, 2.45503429e-03,\n",
       "        3.16667068e-03, 1.50371734e-02, 3.17232590e-03],\n",
       "       [9.72234309e-01, 5.72344707e-03, 1.20095275e-02, 2.26248242e-03,\n",
       "        6.71719317e-04, 4.59931837e-03, 2.49925535e-03],\n",
       "       [2.66209841e-02, 9.44546703e-03, 7.86784217e-02, 4.12999143e-05,\n",
       "        3.70386131e-02, 7.64410079e-01, 8.37652013e-02],\n",
       "       [2.04635128e-01, 3.11280996e-01, 3.20792496e-02, 1.22336345e-02,\n",
       "        1.48662344e-01, 6.50868937e-02, 2.26021811e-01],\n",
       "       [3.00881075e-04, 1.09814900e-04, 7.80764129e-03, 4.92941808e-07,\n",
       "        1.86624005e-02, 7.93594643e-02, 8.93759251e-01],\n",
       "       [9.51224685e-01, 2.03669611e-02, 4.57717665e-03, 2.45503429e-03,\n",
       "        3.16667068e-03, 1.50371734e-02, 3.17232590e-03],\n",
       "       [9.62699592e-01, 6.92324433e-03, 1.88066531e-02, 2.92656990e-03,\n",
       "        2.14396045e-03, 5.92410332e-03, 5.75909857e-04],\n",
       "       [6.30161241e-02, 7.24792898e-01, 8.28363299e-02, 2.82396916e-02,\n",
       "        4.79446612e-02, 1.08350962e-02, 4.23351750e-02],\n",
       "       [1.60693396e-02, 9.35209572e-01, 1.15415417e-02, 3.81647493e-03,\n",
       "        1.51211135e-02, 1.58079844e-02, 2.43400550e-03],\n",
       "       [3.00492235e-02, 8.40523243e-01, 3.27875838e-02, 4.35657194e-03,\n",
       "        1.90918557e-02, 3.22805368e-03, 6.99633881e-02],\n",
       "       [1.19802142e-02, 8.52744043e-01, 9.01144091e-03, 8.73487536e-03,\n",
       "        9.35267434e-02, 1.65982489e-02, 7.40432879e-03],\n",
       "       [1.18695702e-02, 6.46977732e-03, 1.04596965e-01, 8.48908842e-01,\n",
       "        9.81114246e-03, 7.71889056e-04, 1.75717752e-02],\n",
       "       [1.08865350e-02, 2.15824395e-02, 3.73708978e-02, 8.63526940e-01,\n",
       "        4.33587991e-02, 2.36575678e-03, 2.09086202e-02],\n",
       "       [6.22660443e-02, 2.22006142e-01, 5.05411848e-02, 6.04619205e-01,\n",
       "        2.07292717e-02, 1.45623032e-02, 2.52758823e-02],\n",
       "       [4.85798776e-01, 2.44723871e-01, 9.43340063e-02, 5.85902715e-03,\n",
       "        2.64892951e-02, 3.26732956e-02, 1.10121787e-01],\n",
       "       [9.72234309e-01, 5.72344707e-03, 1.20095275e-02, 2.26248242e-03,\n",
       "        6.71719317e-04, 4.59931837e-03, 2.49925535e-03],\n",
       "       [9.70583558e-01, 5.70700970e-03, 1.81046221e-02, 9.61109996e-04,\n",
       "        2.60539469e-04, 4.24077781e-03, 1.42298159e-04],\n",
       "       [8.60543072e-01, 5.72542613e-03, 4.60774312e-03, 1.27035856e-01,\n",
       "        1.86921551e-03, 1.64314493e-04, 5.44613504e-05],\n",
       "       [9.72234309e-01, 5.72344707e-03, 1.20095275e-02, 2.26248242e-03,\n",
       "        6.71719317e-04, 4.59931837e-03, 2.49925535e-03],\n",
       "       [9.79011595e-01, 4.71228547e-03, 1.15472591e-02, 7.42120377e-04,\n",
       "        8.15302337e-05, 3.28845065e-03, 6.16779493e-04],\n",
       "       [9.72234309e-01, 5.72344707e-03, 1.20095275e-02, 2.26248242e-03,\n",
       "        6.71719317e-04, 4.59931837e-03, 2.49925535e-03],\n",
       "       [9.70583558e-01, 5.70700970e-03, 1.81046221e-02, 9.61109996e-04,\n",
       "        2.60539469e-04, 4.24077781e-03, 1.42298159e-04],\n",
       "       [6.73648641e-02, 6.34254515e-01, 5.59933744e-02, 2.31093466e-02,\n",
       "        1.59005728e-02, 8.90441146e-03, 1.94472894e-01],\n",
       "       [8.60564318e-03, 5.28710987e-03, 3.75949107e-02, 2.98268333e-06,\n",
       "        6.58893824e-01, 2.07394660e-01, 8.22208971e-02],\n",
       "       [7.93414842e-03, 1.92151256e-02, 4.30734791e-02, 8.22129786e-01,\n",
       "        1.01858459e-01, 2.24279636e-03, 3.54617508e-03],\n",
       "       [9.76997018e-01, 1.92740303e-03, 1.14309145e-02, 9.11598001e-03,\n",
       "        8.02134309e-05, 3.81042104e-04, 6.73343020e-05],\n",
       "       [9.43402410e-01, 5.83318435e-03, 3.14010307e-02, 1.73062533e-02,\n",
       "        1.33224763e-03, 5.02649578e-04, 2.22199407e-04],\n",
       "       [4.23874035e-02, 3.34663689e-01, 2.29553133e-01, 1.10475376e-01,\n",
       "        2.36011937e-01, 2.16550566e-02, 2.52533462e-02],\n",
       "       [5.59381675e-03, 6.82193488e-02, 1.65876344e-01, 1.58025175e-02,\n",
       "        1.53327078e-01, 1.78514153e-01, 4.12666798e-01],\n",
       "       [5.42030297e-03, 9.38278735e-01, 3.38423415e-03, 1.27855351e-03,\n",
       "        3.53362970e-02, 4.69188765e-03, 1.16100088e-02],\n",
       "       [5.42030297e-03, 9.38278735e-01, 3.38423415e-03, 1.27855351e-03,\n",
       "        3.53362970e-02, 4.69188765e-03, 1.16100088e-02],\n",
       "       [1.97508812e-01, 1.33420393e-01, 1.01794917e-02, 6.32775843e-01,\n",
       "        3.96332331e-03, 4.68342984e-03, 1.74686350e-02],\n",
       "       [4.90492284e-01, 1.45201698e-01, 6.85173199e-02, 9.45423469e-02,\n",
       "        3.66496556e-02, 1.26827359e-01, 3.77693400e-02],\n",
       "       [7.93414842e-03, 1.92151256e-02, 4.30734791e-02, 8.22129786e-01,\n",
       "        1.01858459e-01, 2.24279636e-03, 3.54617508e-03],\n",
       "       [1.19802142e-02, 8.52744043e-01, 9.01144091e-03, 8.73487536e-03,\n",
       "        9.35267434e-02, 1.65982489e-02, 7.40432879e-03],\n",
       "       [9.44043577e-01, 2.83623226e-02, 4.71961452e-03, 1.51475612e-02,\n",
       "        2.76226131e-03, 4.77841636e-03, 1.86194884e-04],\n",
       "       [1.53390516e-03, 2.50659045e-03, 8.25628173e-03, 2.89363161e-05,\n",
       "        6.52739406e-02, 1.65105879e-01, 7.57294476e-01],\n",
       "       [2.62758764e-03, 7.55944569e-03, 3.64666522e-01, 5.69574714e-01,\n",
       "        3.60330977e-02, 1.68530445e-03, 1.78533830e-02],\n",
       "       [1.49173206e-02, 8.67310762e-01, 3.78123447e-02, 4.14457591e-03,\n",
       "        6.50570691e-02, 5.02647366e-03, 5.73150488e-03],\n",
       "       [3.64903845e-02, 7.12843379e-03, 1.79781020e-02, 6.52537419e-05,\n",
       "        1.34488314e-01, 6.32645011e-01, 1.71204388e-01],\n",
       "       [2.71532953e-01, 1.40159622e-01, 3.60196121e-02, 2.26638373e-03,\n",
       "        1.35573506e-01, 3.34084660e-01, 8.03631842e-02],\n",
       "       [1.54660806e-01, 1.77923515e-01, 2.81044096e-01, 1.34269679e-02,\n",
       "        1.92121327e-01, 5.53143770e-02, 1.25508934e-01],\n",
       "       [2.62906611e-01, 1.34613246e-01, 3.13958712e-02, 3.71894650e-02,\n",
       "        7.09556118e-02, 1.02891564e-01, 3.60047609e-01],\n",
       "       [1.18695702e-02, 6.46977732e-03, 1.04596965e-01, 8.48908842e-01,\n",
       "        9.81114246e-03, 7.71889056e-04, 1.75717752e-02],\n",
       "       [9.08613980e-01, 4.64477725e-02, 6.67259609e-03, 2.13872027e-02,\n",
       "        5.66150341e-03, 1.10898986e-02, 1.27078427e-04],\n",
       "       [9.35271800e-01, 2.44631767e-02, 7.11734733e-03, 3.15330620e-03,\n",
       "        1.00361397e-02, 1.92322582e-02, 7.25866528e-04],\n",
       "       [4.62688245e-02, 7.41232276e-01, 5.64927571e-02, 2.32844930e-02,\n",
       "        2.32566744e-02, 1.47474334e-02, 9.47175696e-02],\n",
       "       [9.63543832e-01, 7.95911625e-03, 1.23659130e-02, 1.39399739e-02,\n",
       "        5.85115107e-04, 1.45949563e-03, 1.46484686e-04],\n",
       "       [2.70156958e-03, 5.05933585e-03, 1.25748292e-01, 1.27030571e-05,\n",
       "        6.23600520e-02, 7.65102446e-01, 3.90156060e-02],\n",
       "       [9.72234309e-01, 5.72344707e-03, 1.20095275e-02, 2.26248242e-03,\n",
       "        6.71719317e-04, 4.59931837e-03, 2.49925535e-03],\n",
       "       [4.90492284e-01, 1.45201698e-01, 6.85173199e-02, 9.45423469e-02,\n",
       "        3.66496556e-02, 1.26827359e-01, 3.77693400e-02],\n",
       "       [1.19802151e-02, 8.52744162e-01, 9.01144277e-03, 8.73487629e-03,\n",
       "        9.35267359e-02, 1.65982582e-02, 7.40432972e-03]], dtype=float32)"
      ]
     },
     "execution_count": 48,
     "metadata": {},
     "output_type": "execute_result"
    }
   ],
   "source": [
    "# 7종류일 확률\n",
    "pred"
   ]
  },
  {
   "cell_type": "code",
   "execution_count": 51,
   "id": "amateur-harrison",
   "metadata": {},
   "outputs": [
    {
     "data": {
      "text/plain": [
       "3"
      ]
     },
     "execution_count": 51,
     "metadata": {},
     "output_type": "execute_result"
    }
   ],
   "source": [
    "np.argmax(pred[12:13,:])"
   ]
  },
  {
   "cell_type": "code",
   "execution_count": 52,
   "id": "solved-atlantic",
   "metadata": {},
   "outputs": [
    {
     "data": {
      "text/plain": [
       "array([1, 1, 4, 1, 1, 1, 1, 4, 4, 1, 1, 2, 4, 7, 7, 7, 2, 1, 4, 1, 2, 2,\n",
       "       1, 2, 6, 7, 6, 1, 1, 1, 6, 1, 1, 2, 4, 1, 1, 2, 4, 6, 6, 2, 6, 2,\n",
       "       1, 1, 7, 1, 1, 1, 1, 6, 2, 7, 1, 1, 2, 2, 2, 2, 4, 4, 4, 1, 1, 1,\n",
       "       1, 1, 1, 1, 1, 2, 5, 4, 1, 1, 2, 7, 2, 2, 4, 1, 4, 2, 1, 7, 4, 2,\n",
       "       6, 6, 3, 7, 4, 1, 1, 2, 1, 6, 1, 1, 2])"
      ]
     },
     "execution_count": 52,
     "metadata": {},
     "output_type": "execute_result"
    }
   ],
   "source": [
    "np.apply_along_axis(np.argmax, 1, pred) + 1"
   ]
  },
  {
   "cell_type": "code",
   "execution_count": 53,
   "id": "buried-jewel",
   "metadata": {},
   "outputs": [
    {
     "data": {
      "text/plain": [
       "array([1, 1, 4, 1, 1, 1, 1, 4, 4, 1, 1, 2, 4, 7, 7, 7, 2, 1, 4, 1, 2, 2,\n",
       "       1, 2, 6, 5, 5, 1, 1, 1, 6, 1, 1, 2, 4, 1, 1, 2, 4, 6, 6, 2, 6, 2,\n",
       "       1, 1, 7, 1, 1, 1, 1, 6, 5, 7, 1, 1, 2, 2, 2, 2, 4, 4, 3, 1, 1, 1,\n",
       "       1, 1, 1, 1, 1, 2, 7, 4, 1, 1, 3, 7, 2, 2, 3, 7, 4, 2, 1, 7, 4, 2,\n",
       "       6, 5, 3, 3, 4, 1, 1, 2, 1, 6, 1, 7, 2])"
      ]
     },
     "execution_count": 53,
     "metadata": {},
     "output_type": "execute_result"
    }
   ],
   "source": [
    "y_data.values"
   ]
  },
  {
   "cell_type": "markdown",
   "id": "extraordinary-birth",
   "metadata": {},
   "source": [
    "## Train / Test data로 나누기"
   ]
  },
  {
   "cell_type": "code",
   "execution_count": 54,
   "id": "comparable-career",
   "metadata": {},
   "outputs": [],
   "source": [
    "df = pd.read_csv('data-04-zoo.csv', header = None)"
   ]
  },
  {
   "cell_type": "code",
   "execution_count": 57,
   "id": "confused-morning",
   "metadata": {},
   "outputs": [],
   "source": [
    "# one-hot으로 만들기\n",
    "nb_class = df.iloc[:,-1].unique().size\n",
    "y_onehot = np.eye(nb_class)[np.array(df.iloc[:, -1])-1]"
   ]
  },
  {
   "cell_type": "code",
   "execution_count": 69,
   "id": "north-illness",
   "metadata": {},
   "outputs": [],
   "source": [
    "# choice(101,101) : 0부터 100까지, 101개를 뽑아오겠다, replace: 중복\n",
    "rand_idx = np.random.choice(101, 101, replace = False)"
   ]
  },
  {
   "cell_type": "code",
   "execution_count": 70,
   "id": "sexual-heaven",
   "metadata": {},
   "outputs": [],
   "source": [
    "# 80개를 train으로, 20개를 test data로\n",
    "# 랜덤값을 위에서 고정하고 나눔\n",
    "tr_idx = rand_idx[0:80]\n",
    "te_idx = rand_idx[80:]"
   ]
  },
  {
   "cell_type": "code",
   "execution_count": 72,
   "id": "postal-cream",
   "metadata": {},
   "outputs": [],
   "source": [
    "train_x = df.iloc[tr_idx,:-1]\n",
    "train_y = y_onehot[tr_idx]\n",
    "test_x = df.iloc[te_idx,:-1]\n",
    "test_y = y_onehot[te_idx]"
   ]
  },
  {
   "cell_type": "code",
   "execution_count": 73,
   "id": "patient-mathematics",
   "metadata": {},
   "outputs": [],
   "source": [
    "X = tf.placeholder(tf.float32, shape=[None, 16])\n",
    "Y = tf.placeholder(tf.float32, shape=[None, nb_class])"
   ]
  },
  {
   "cell_type": "code",
   "execution_count": 74,
   "id": "retired-conditioning",
   "metadata": {},
   "outputs": [],
   "source": [
    "W = tf.Variable(tf.random_normal([16, nb_class]))\n",
    "b = tf.Variable(tf.random_normal([nb_class]))"
   ]
  },
  {
   "cell_type": "code",
   "execution_count": 75,
   "id": "german-enterprise",
   "metadata": {},
   "outputs": [],
   "source": [
    "hypothesis = tf.nn.softmax(tf.matmul(X,W)+b)"
   ]
  },
  {
   "cell_type": "code",
   "execution_count": 76,
   "id": "green-publisher",
   "metadata": {},
   "outputs": [],
   "source": [
    "cost = tf.reduce_mean(-tf.reduce_sum(Y * tf.log(hypothesis), axis=1))\n",
    "optimizer = tf.train.GradientDescentOptimizer(learning_rate=0.01)"
   ]
  },
  {
   "cell_type": "code",
   "execution_count": 77,
   "id": "express-vitamin",
   "metadata": {},
   "outputs": [],
   "source": [
    "train = optimizer.minimize(cost)"
   ]
  },
  {
   "cell_type": "code",
   "execution_count": 78,
   "id": "hybrid-romantic",
   "metadata": {},
   "outputs": [],
   "source": [
    "sess = tf.Session()\n",
    "sess.run(tf.global_variables_initializer())"
   ]
  },
  {
   "cell_type": "code",
   "execution_count": 79,
   "id": "indirect-turner",
   "metadata": {},
   "outputs": [],
   "source": [
    "epochs = range(2000)\n",
    "for epoch in epochs:\n",
    "    sess.run(train, feed_dict={X:train_x, Y:train_y})"
   ]
  },
  {
   "cell_type": "code",
   "execution_count": 81,
   "id": "romantic-comparison",
   "metadata": {},
   "outputs": [],
   "source": [
    "pred = sess.run(hypothesis, feed_dict={X:test_x})"
   ]
  },
  {
   "cell_type": "code",
   "execution_count": 82,
   "id": "fantastic-michael",
   "metadata": {},
   "outputs": [
    {
     "data": {
      "text/plain": [
       "array([2, 1, 2, 4, 4, 1, 1, 1, 3, 1, 6, 4, 4, 1, 4, 2, 1, 1, 4, 1, 1])"
      ]
     },
     "execution_count": 82,
     "metadata": {},
     "output_type": "execute_result"
    }
   ],
   "source": [
    "np.apply_along_axis(np.argmax, 1, pred) + 1"
   ]
  },
  {
   "cell_type": "code",
   "execution_count": 84,
   "id": "adopted-utilization",
   "metadata": {},
   "outputs": [
    {
     "data": {
      "text/plain": [
       "array([2, 1, 2, 4, 4, 1, 1, 1, 3, 1, 6, 4, 4, 1, 4, 2, 1, 1, 4, 1, 1])"
      ]
     },
     "execution_count": 84,
     "metadata": {},
     "output_type": "execute_result"
    }
   ],
   "source": [
    "df.iloc[te_idx,-1].values"
   ]
  },
  {
   "cell_type": "code",
   "execution_count": 86,
   "id": "elementary-ready",
   "metadata": {},
   "outputs": [
    {
     "data": {
      "text/plain": [
       "array([ True,  True,  True,  True,  True,  True,  True,  True,  True,\n",
       "        True,  True,  True,  True,  True,  True,  True,  True,  True,\n",
       "        True,  True,  True])"
      ]
     },
     "execution_count": 86,
     "metadata": {},
     "output_type": "execute_result"
    }
   ],
   "source": [
    "df.iloc[te_idx,-1].values == (np.apply_along_axis(np.argmax, 1, pred) + 1)"
   ]
  },
  {
   "cell_type": "code",
   "execution_count": 89,
   "id": "molecular-participant",
   "metadata": {},
   "outputs": [
    {
     "data": {
      "text/plain": [
       "1.0"
      ]
     },
     "execution_count": 89,
     "metadata": {},
     "output_type": "execute_result"
    }
   ],
   "source": [
    "accuracy = df.iloc[te_idx,-1].values == (np.apply_along_axis(np.argmax, 1, pred) + 1)\n",
    "accuracy = sum(accuracy)\n",
    "accuracy = accuracy/df.iloc[te_idx, -1].values.size\n",
    "accuracy"
   ]
  },
  {
   "cell_type": "markdown",
   "id": "unlimited-export",
   "metadata": {},
   "source": [
    "## epoch 마다 accuracy 확인하기"
   ]
  },
  {
   "cell_type": "code",
   "execution_count": 91,
   "id": "prescription-module",
   "metadata": {},
   "outputs": [
    {
     "data": {
      "text/plain": [
       "[<matplotlib.lines.Line2D at 0x7f9ddefa0a20>]"
      ]
     },
     "execution_count": 91,
     "metadata": {},
     "output_type": "execute_result"
    },
    {
     "data": {
      "image/png": "[encoded data removed]",
      "text/plain": [
       "<Figure size 432x288 with 1 Axes>"
      ]
     },
     "metadata": {
      "needs_background": "light"
     },
     "output_type": "display_data"
    }
   ],
   "source": [
    "import matplotlib.pyplot as plt\n",
    "import numpy as np\n",
    "import pandas as pd\n",
    "import tensorflow as tf\n",
    "\n",
    "df = pd.read_csv('data-04-zoo.csv', header = None)\n",
    "\n",
    "# one-hot으로 만들기\n",
    "nb_class = df.iloc[:,-1].unique().size\n",
    "y_onehot = np.eye(nb_class)[np.array(df.iloc[:, -1])-1]\n",
    "\n",
    "# choice(101,101) : 0부터 100까지, 101개를 뽑아오겠다, replace: 중복\n",
    "rand_idx = np.random.choice(101, 101, replace = False)\n",
    "\n",
    "# 80개를 train으로, 20개를 test data로\n",
    "# 랜덤값을 위에서 고정하고 나눔\n",
    "tr_idx = rand_idx[0:80]\n",
    "te_idx = rand_idx[80:]\n",
    "\n",
    "train_x = df.iloc[tr_idx,:-1]\n",
    "train_y = y_onehot[tr_idx]\n",
    "test_x = df.iloc[te_idx,:-1]\n",
    "test_y = y_onehot[te_idx]\n",
    "\n",
    "X = tf.placeholder(tf.float32, shape=[None, 16])\n",
    "Y = tf.placeholder(tf.float32, shape=[None, nb_class])\n",
    "\n",
    "W = tf.Variable(tf.random_normal([16, nb_class]))\n",
    "b = tf.Variable(tf.random_normal([nb_class]))\n",
    "\n",
    "hypothesis = tf.nn.softmax(tf.matmul(X,W)+b)\n",
    "\n",
    "cost = tf.reduce_mean(-tf.reduce_sum(Y * tf.log(hypothesis), axis=1))\n",
    "optimizer = tf.train.GradientDescentOptimizer(learning_rate=0.01)\n",
    "\n",
    "train = optimizer.minimize(cost)\n",
    "\n",
    "sess = tf.Session()\n",
    "sess.run(tf.global_variables_initializer())\n",
    "\n",
    "acc_rate = []\n",
    "epochs = range(2000)\n",
    "for epoch in epochs:\n",
    "    sess.run(train, feed_dict={X:train_x, Y:train_y})\n",
    "    pred = sess.run(hypothesis, feed_dict={X:test_x})\n",
    "    pred = np.apply_along_axis(np.argmax, 1, pred) + 1\n",
    "    accuracy = df.iloc[te_idx,-1].values == pred\n",
    "    accuracy = sum(accuracy)\n",
    "    accuracy = accuracy/df.iloc[te_idx, -1].values.size\n",
    "    acc_rate.append(accuracy)\n",
    "   \n",
    "plt.plot(epochs,acc_rate)"
   ]
  }
 ],
 "metadata": {
  "kernelspec": {
   "display_name": "tf",
   "language": "python",
   "name": "tf"
  },
  "language_info": {
   "codemirror_mode": {
    "name": "ipython",
    "version": 3
   },
   "file_extension": ".py",
   "mimetype": "text/x-python",
   "name": "python",
   "nbconvert_exporter": "python",
   "pygments_lexer": "ipython3",
   "version": "3.6.13"
  }
 },
 "nbformat": 4,
 "nbformat_minor": 5
}
