{
 "cells": [
  {
   "cell_type": "code",
   "execution_count": 4,
   "id": "generous-chosen",
   "metadata": {},
   "outputs": [],
   "source": [
    "import numpy as np\n",
    "import tensorflow as tf\n",
    "\n",
    "x_data = [[1, 2, 1, 1], [2, 1, 3, 2], [3, 1, 3, 4], [4, 1, 5, 5], [1, 7, 5, 5], \n",
    "                                                        [1, 2, 5, 6], [1, 6, 6, 6], [1, 7, 7, 7]]\n",
    "y_data = [[0, 0, 1], [0, 0, 1], [0, 0, 1], [0, 1, 0], [0, 1, 0], [0, 1, 0], [1, 0, 0], [1, 0, 0]]\n",
    "\n",
    "np.array(x_data).shape\n",
    "\n",
    "np.array(y_data).shape\n",
    "\n",
    "X = tf.placeholder(tf.float32,shape=[None,4])\n",
    "Y = tf.placeholder(tf.float32,shape=[None,3])\n",
    "\n",
    "W = tf.Variable(tf.random_normal([4,3]),name='weight')\n",
    "\n",
    "b = tf.Variable(tf.random_normal([3]))\n",
    "\n",
    "hypothesis = tf.nn.softmax(tf.matmul(X, W) + b)\n",
    "\n",
    "cost = tf.reduce_mean(-tf.reduce_sum(Y * tf.log(hypothesis), axis=1))\n",
    "\n",
    "optimizer = tf.train.GradientDescentOptimizer(learning_rate=0.1)\n",
    "\n",
    "train = optimizer.minimize(cost)\n",
    "\n",
    "sess = tf.Session()\n",
    "sess.run(tf.global_variables_initializer())\n",
    "\n",
    "epochs = range(2001)\n",
    "for epoch in epochs:\n",
    "    sess.run(train,feed_dict={X:x_data,Y:y_data})\n",
    "\n",
    "pred = sess.run(hypothesis,feed_dict={X:x_data})"
   ]
  },
  {
   "cell_type": "code",
   "execution_count": 5,
   "id": "speaking-fundamental",
   "metadata": {},
   "outputs": [
    {
     "data": {
      "text/plain": [
       "array([[ True,  True,  True],\n",
       "       [ True,  True,  True],\n",
       "       [ True,  True,  True],\n",
       "       [ True,  True,  True],\n",
       "       [ True,  True,  True],\n",
       "       [ True,  True,  True],\n",
       "       [ True,  True,  True],\n",
       "       [ True,  True,  True]])"
      ]
     },
     "execution_count": 5,
     "metadata": {},
     "output_type": "execute_result"
    }
   ],
   "source": [
    "sf_result = []\n",
    "for i in range(8):\n",
    "    x = np.zeros(3)\n",
    "    x[np.argmax(pred[i,:])] = 1\n",
    "    x = list(x)\n",
    "    sf_result.append(x)\n",
    "\n",
    "np.array(sf_result) == np.array(y_data)\n",
    "\n"
   ]
  },
  {
   "cell_type": "code",
   "execution_count": null,
   "id": "distinct-curve",
   "metadata": {},
   "outputs": [],
   "source": [
    "##################"
   ]
  }
 ],
 "metadata": {
  "kernelspec": {
   "display_name": "tf",
   "language": "python",
   "name": "tf"
  },
  "language_info": {
   "codemirror_mode": {
    "name": "ipython",
    "version": 3
   },
   "file_extension": ".py",
   "mimetype": "text/x-python",
   "name": "python",
   "nbconvert_exporter": "python",
   "pygments_lexer": "ipython3",
   "version": "3.6.13"
  }
 },
 "nbformat": 4,
 "nbformat_minor": 5
}
