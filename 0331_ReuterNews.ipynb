{
  "nbformat": 4,
  "nbformat_minor": 0,
  "metadata": {
    "colab": {
      "name": "0331_ReuterNews.ipynb",
      "provenance": [],
      "collapsed_sections": [],
      "authorship_tag": "ABX9TyOO6sAupYFapd+b664oimCp",
      "include_colab_link": true
    },
    "kernelspec": {
      "name": "python3",
      "display_name": "Python 3"
    },
    "language_info": {
      "name": "python"
    },
    "accelerator": "GPU"
  },
  "cells": [
    {
      "cell_type": "markdown",
      "metadata": {
        "id": "view-in-github",
        "colab_type": "text"
      },
      "source": [
        "<a href=\"https://colab.research.google.com/github/Yewon-dev/DeepLearning-Edu/blob/main/0331_ReuterNews.ipynb\" target=\"_parent\"><img src=\"https://colab.research.google.com/assets/colab-badge.svg\" alt=\"Open In Colab\"/></a>"
      ]
    },
    {
      "cell_type": "code",
      "metadata": {
        "id": "zxQXMlRBMG-T"
      },
      "source": [
        "from keras.models import Sequential, Model, load_model\n",
        "from keras.layers import Dense, LSTM, Activation, Input, RNN , LeakyReLU\n",
        "from keras.layers import BatchNormalization, Dropout, Embedding\n",
        "from keras.optimizers import Adam\n",
        "from keras.losses import CategoricalCrossentropy, mse\n",
        "from keras.metrics import MeanSquaredError\n",
        "from keras.datasets import reuters\n",
        "from keras.preprocessing import sequence\n",
        "from keras.utils import to_categorical, np_utils\n",
        "\n",
        "import numpy as np\n",
        "import pandas as pd\n",
        "import matplotlib.pyplot as plt"
      ],
      "execution_count": 2,
      "outputs": []
    },
    {
      "cell_type": "code",
      "metadata": {
        "colab": {
          "base_uri": "https://localhost:8080/"
        },
        "id": "SFEv1vQGMS7Y",
        "outputId": "3d1e3c69-3588-44bd-8147-751217a2cce4"
      },
      "source": [
        "(X_train, Y_train), (X_test, Y_test) = reuters.load_data(num_words = 2000, test_split = 0.2)"
      ],
      "execution_count": 3,
      "outputs": [
        {
          "output_type": "stream",
          "text": [
            "Downloading data from https://storage.googleapis.com/tensorflow/tf-keras-datasets/reuters.npz\n",
            "2113536/2110848 [==============================] - 0s 0us/step\n"
          ],
          "name": "stdout"
        },
        {
          "output_type": "stream",
          "text": [
            "/usr/local/lib/python3.7/dist-packages/tensorflow/python/keras/datasets/reuters.py:148: VisibleDeprecationWarning: Creating an ndarray from ragged nested sequences (which is a list-or-tuple of lists-or-tuples-or ndarrays with different lengths or shapes) is deprecated. If you meant to do this, you must specify 'dtype=object' when creating the ndarray\n",
            "  x_train, y_train = np.array(xs[:idx]), np.array(labels[:idx])\n",
            "/usr/local/lib/python3.7/dist-packages/tensorflow/python/keras/datasets/reuters.py:149: VisibleDeprecationWarning: Creating an ndarray from ragged nested sequences (which is a list-or-tuple of lists-or-tuples-or ndarrays with different lengths or shapes) is deprecated. If you meant to do this, you must specify 'dtype=object' when creating the ndarray\n",
            "  x_test, y_test = np.array(xs[idx:]), np.array(labels[idx:])\n"
          ],
          "name": "stderr"
        }
      ]
    },
    {
      "cell_type": "code",
      "metadata": {
        "colab": {
          "base_uri": "https://localhost:8080/"
        },
        "id": "B6qawxcaROhi",
        "outputId": "d6565264-e708-42f8-d93d-0021d72f21cd"
      },
      "source": [
        "category = np.max(Y_train) + 1\n",
        "print(category, '카테고리')\n",
        "print(len(X_train), '학습용 뉴스 기사')\n",
        "print(len(X_test), '테스트용 뉴스 기사')\n",
        "print(X_train[0])"
      ],
      "execution_count": 4,
      "outputs": [
        {
          "output_type": "stream",
          "text": [
            "46 카테고리\n",
            "8982 학습용 뉴스 기사\n",
            "2246 테스트용 뉴스 기사\n",
            "[1, 2, 2, 8, 43, 10, 447, 5, 25, 207, 270, 5, 2, 111, 16, 369, 186, 90, 67, 7, 89, 5, 19, 102, 6, 19, 124, 15, 90, 67, 84, 22, 482, 26, 7, 48, 4, 49, 8, 864, 39, 209, 154, 6, 151, 6, 83, 11, 15, 22, 155, 11, 15, 7, 48, 9, 2, 1005, 504, 6, 258, 6, 272, 11, 15, 22, 134, 44, 11, 15, 16, 8, 197, 1245, 90, 67, 52, 29, 209, 30, 32, 132, 6, 109, 15, 17, 12]\n"
          ],
          "name": "stdout"
        }
      ]
    },
    {
      "cell_type": "code",
      "metadata": {
        "colab": {
          "base_uri": "https://localhost:8080/"
        },
        "id": "_zXXPv2cO17C",
        "outputId": "cd1fb6fa-4e46-4ce5-cfed-c7809c06b641"
      },
      "source": [
        "pd.Series(X_train).apply(len).max()"
      ],
      "execution_count": 5,
      "outputs": [
        {
          "output_type": "execute_result",
          "data": {
            "text/plain": [
              "2376"
            ]
          },
          "metadata": {
            "tags": []
          },
          "execution_count": 5
        }
      ]
    },
    {
      "cell_type": "code",
      "metadata": {
        "id": "lta43bliMS9t"
      },
      "source": [
        "x_train = sequence.pad_sequences(X_train, maxlen=100)\n",
        "x_test = sequence.pad_sequences(X_test, maxlen=100)\n",
        "y_train = np_utils.to_categorical(Y_train)\n",
        "y_test = np_utils.to_categorical(Y_test)"
      ],
      "execution_count": 6,
      "outputs": []
    },
    {
      "cell_type": "code",
      "metadata": {
        "id": "TmtjT1TSMS_5"
      },
      "source": [
        "model = Sequential()\n",
        "model.add(Embedding(2000, 100))\n",
        "model.add(LSTM(5, activation='tanh'))\n",
        "model.add(Dense(100, activation='relu'))\n",
        "model.add(Dense(46,activation='softmax')) # 분류하는 것이므로 출력은 무조건 softmax"
      ],
      "execution_count": 7,
      "outputs": []
    },
    {
      "cell_type": "code",
      "metadata": {
        "colab": {
          "base_uri": "https://localhost:8080/"
        },
        "id": "n1H8IQNqMTCS",
        "outputId": "741f02d6-e4e5-4325-87cd-c78b953e3045"
      },
      "source": [
        "model.summary()"
      ],
      "execution_count": 8,
      "outputs": [
        {
          "output_type": "stream",
          "text": [
            "Model: \"sequential\"\n",
            "_________________________________________________________________\n",
            "Layer (type)                 Output Shape              Param #   \n",
            "=================================================================\n",
            "embedding (Embedding)        (None, None, 100)         200000    \n",
            "_________________________________________________________________\n",
            "lstm (LSTM)                  (None, 5)                 2120      \n",
            "_________________________________________________________________\n",
            "dense (Dense)                (None, 100)               600       \n",
            "_________________________________________________________________\n",
            "dense_1 (Dense)              (None, 46)                4646      \n",
            "=================================================================\n",
            "Total params: 207,366\n",
            "Trainable params: 207,366\n",
            "Non-trainable params: 0\n",
            "_________________________________________________________________\n"
          ],
          "name": "stdout"
        }
      ]
    },
    {
      "cell_type": "code",
      "metadata": {
        "id": "s8w5IW5yQJdB"
      },
      "source": [
        "model.compile(loss='categorical_crossentropy', optimizer='adam' ,metrics=['accuracy'])"
      ],
      "execution_count": 9,
      "outputs": []
    },
    {
      "cell_type": "code",
      "metadata": {
        "colab": {
          "base_uri": "https://localhost:8080/"
        },
        "id": "LAoNFoCiQJaY",
        "outputId": "0d7d5b7b-2fc3-47e6-d213-dcf13499b4ec"
      },
      "source": [
        "model.fit(x_train, y_train, batch_size=100, epochs=15,\n",
        "          validation_data=(x_test, y_test))"
      ],
      "execution_count": 10,
      "outputs": [
        {
          "output_type": "stream",
          "text": [
            "Epoch 1/15\n",
            "90/90 [==============================] - 33s 34ms/step - loss: 3.4690 - accuracy: 0.3314 - val_loss: 2.4108 - val_accuracy: 0.3620\n",
            "Epoch 2/15\n",
            "90/90 [==============================] - 2s 26ms/step - loss: 2.3720 - accuracy: 0.3526 - val_loss: 2.1964 - val_accuracy: 0.3620\n",
            "Epoch 3/15\n",
            "90/90 [==============================] - 2s 27ms/step - loss: 2.0620 - accuracy: 0.3825 - val_loss: 1.8475 - val_accuracy: 0.5080\n",
            "Epoch 4/15\n",
            "90/90 [==============================] - 2s 27ms/step - loss: 1.7331 - accuracy: 0.5326 - val_loss: 1.6734 - val_accuracy: 0.5810\n",
            "Epoch 5/15\n",
            "90/90 [==============================] - 2s 27ms/step - loss: 1.4813 - accuracy: 0.6088 - val_loss: 1.6031 - val_accuracy: 0.6011\n",
            "Epoch 6/15\n",
            "90/90 [==============================] - 2s 26ms/step - loss: 1.4117 - accuracy: 0.6359 - val_loss: 1.5787 - val_accuracy: 0.6069\n",
            "Epoch 7/15\n",
            "90/90 [==============================] - 2s 26ms/step - loss: 1.3503 - accuracy: 0.6532 - val_loss: 1.5660 - val_accuracy: 0.6055\n",
            "Epoch 8/15\n",
            "90/90 [==============================] - 2s 25ms/step - loss: 1.2646 - accuracy: 0.6681 - val_loss: 1.5725 - val_accuracy: 0.6082\n",
            "Epoch 9/15\n",
            "90/90 [==============================] - 2s 26ms/step - loss: 1.2369 - accuracy: 0.6755 - val_loss: 1.5766 - val_accuracy: 0.6122\n",
            "Epoch 10/15\n",
            "90/90 [==============================] - 2s 26ms/step - loss: 1.1775 - accuracy: 0.6951 - val_loss: 1.5816 - val_accuracy: 0.6149\n",
            "Epoch 11/15\n",
            "90/90 [==============================] - 2s 27ms/step - loss: 1.1249 - accuracy: 0.7088 - val_loss: 1.5571 - val_accuracy: 0.6180\n",
            "Epoch 12/15\n",
            "90/90 [==============================] - 2s 27ms/step - loss: 1.0830 - accuracy: 0.7174 - val_loss: 1.5832 - val_accuracy: 0.6153\n",
            "Epoch 13/15\n",
            "90/90 [==============================] - 2s 27ms/step - loss: 1.0380 - accuracy: 0.7263 - val_loss: 1.5802 - val_accuracy: 0.6260\n",
            "Epoch 14/15\n",
            "90/90 [==============================] - 2s 26ms/step - loss: 1.0055 - accuracy: 0.7384 - val_loss: 1.5797 - val_accuracy: 0.6247\n",
            "Epoch 15/15\n",
            "90/90 [==============================] - 2s 26ms/step - loss: 0.9732 - accuracy: 0.7436 - val_loss: 1.6421 - val_accuracy: 0.6215\n"
          ],
          "name": "stdout"
        },
        {
          "output_type": "execute_result",
          "data": {
            "text/plain": [
              "<tensorflow.python.keras.callbacks.History at 0x7f4ba1819a90>"
            ]
          },
          "metadata": {
            "tags": []
          },
          "execution_count": 10
        }
      ]
    },
    {
      "cell_type": "code",
      "metadata": {
        "id": "i2Xz9QzfQJSU",
        "colab": {
          "base_uri": "https://localhost:8080/"
        },
        "outputId": "a44bd9fc-bc4e-41db-a352-8b40d4fc2aff"
      },
      "source": [
        "model.evaluate(x_test, y_test)"
      ],
      "execution_count": 11,
      "outputs": [
        {
          "output_type": "stream",
          "text": [
            "71/71 [==============================] - 1s 9ms/step - loss: 1.6421 - accuracy: 0.6215\n"
          ],
          "name": "stdout"
        },
        {
          "output_type": "execute_result",
          "data": {
            "text/plain": [
              "[1.6421213150024414, 0.6215494275093079]"
            ]
          },
          "metadata": {
            "tags": []
          },
          "execution_count": 11
        }
      ]
    },
    {
      "cell_type": "code",
      "metadata": {
        "id": "3LysVacGd1Fc"
      },
      "source": [
        "model.predict(x_test[0:1])"
      ],
      "execution_count": 11,
      "outputs": []
    }
  ]
}