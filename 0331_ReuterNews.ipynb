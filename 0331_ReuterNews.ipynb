{
  "nbformat": 4,
  "nbformat_minor": 0,
  "metadata": {
    "colab": {
      "name": "0331_ReuterNews.ipynb",
      "provenance": [],
      "collapsed_sections": [],
      "authorship_tag": "ABX9TyOsM6HBqkrcFrtVGC1ilFom",
      "include_colab_link": true
    },
    "kernelspec": {
      "name": "python3",
      "display_name": "Python 3"
    },
    "language_info": {
      "name": "python"
    },
    "accelerator": "GPU"
  },
  "cells": [
    {
      "cell_type": "markdown",
      "metadata": {
        "id": "view-in-github",
        "colab_type": "text"
      },
      "source": [
        "<a href=\"https://colab.research.google.com/github/Yewon-dev/DeepLearning-Edu/blob/main/0331_ReuterNews.ipynb\" target=\"_parent\"><img src=\"https://colab.research.google.com/assets/colab-badge.svg\" alt=\"Open In Colab\"/></a>"
      ]
    },
    {
      "cell_type": "code",
      "metadata": {
        "id": "zxQXMlRBMG-T"
      },
      "source": [
        "from keras.models import Sequential, Model, load_model\n",
        "from keras.layers import Dense, LSTM, Activation, Input, RNN , LeakyReLU\n",
        "from keras.layers import BatchNormalization, Dropout, Embedding\n",
        "from keras.optimizers import Adam\n",
        "from keras.losses import CategoricalCrossentropy, mse\n",
        "from keras.metrics import MeanSquaredError\n",
        "from keras.datasets import reuters\n",
        "from keras.preprocessing import sequence\n",
        "from keras.utils import to_categorical, np_utils\n",
        "\n",
        "import numpy as np\n",
        "import pandas as pd\n",
        "import matplotlib.pyplot as plt"
      ],
      "execution_count": 6,
      "outputs": []
    },
    {
      "cell_type": "code",
      "metadata": {
        "colab": {
          "base_uri": "https://localhost:8080/"
        },
        "id": "SFEv1vQGMS7Y",
        "outputId": "26aa9a9e-fe37-48e7-d596-69988631eede"
      },
      "source": [
        "(X_train, Y_train), (X_test, Y_test) = reuters.load_data(num_words = 2000, test_split = 0.2)"
      ],
      "execution_count": 2,
      "outputs": [
        {
          "output_type": "stream",
          "text": [
            "Downloading data from https://storage.googleapis.com/tensorflow/tf-keras-datasets/reuters.npz\n",
            "2113536/2110848 [==============================] - 0s 0us/step\n"
          ],
          "name": "stdout"
        },
        {
          "output_type": "stream",
          "text": [
            "/usr/local/lib/python3.7/dist-packages/tensorflow/python/keras/datasets/reuters.py:148: VisibleDeprecationWarning: Creating an ndarray from ragged nested sequences (which is a list-or-tuple of lists-or-tuples-or ndarrays with different lengths or shapes) is deprecated. If you meant to do this, you must specify 'dtype=object' when creating the ndarray\n",
            "  x_train, y_train = np.array(xs[:idx]), np.array(labels[:idx])\n",
            "/usr/local/lib/python3.7/dist-packages/tensorflow/python/keras/datasets/reuters.py:149: VisibleDeprecationWarning: Creating an ndarray from ragged nested sequences (which is a list-or-tuple of lists-or-tuples-or ndarrays with different lengths or shapes) is deprecated. If you meant to do this, you must specify 'dtype=object' when creating the ndarray\n",
            "  x_test, y_test = np.array(xs[idx:]), np.array(labels[idx:])\n"
          ],
          "name": "stderr"
        }
      ]
    },
    {
      "cell_type": "code",
      "metadata": {
        "colab": {
          "base_uri": "https://localhost:8080/"
        },
        "id": "B6qawxcaROhi",
        "outputId": "b6c977bf-e204-4f63-de4d-6d76b7c0cb25"
      },
      "source": [
        "category = np.max(Y_train) + 1\n",
        "print(category, '카테고리')\n",
        "print(len(X_train), '학습용 뉴스 기사')\n",
        "print(len(X_test), '테스트용 뉴스 기사')\n",
        "print(X_train[0])"
      ],
      "execution_count": 17,
      "outputs": [
        {
          "output_type": "stream",
          "text": [
            "46 카테고리\n",
            "8982 학습용 뉴스 기사\n",
            "2246 테스트용 뉴스 기사\n",
            "[1, 2, 2, 8, 43, 10, 447, 5, 25, 207, 270, 5, 2, 111, 16, 369, 186, 90, 67, 7, 89, 5, 19, 102, 6, 19, 124, 15, 90, 67, 84, 22, 482, 26, 7, 48, 4, 49, 8, 864, 39, 209, 154, 6, 151, 6, 83, 11, 15, 22, 155, 11, 15, 7, 48, 9, 2, 2, 504, 6, 258, 6, 272, 11, 15, 22, 134, 44, 11, 15, 16, 8, 197, 2, 90, 67, 52, 29, 209, 30, 32, 132, 6, 109, 15, 17, 12]\n"
          ],
          "name": "stdout"
        }
      ]
    },
    {
      "cell_type": "code",
      "metadata": {
        "colab": {
          "base_uri": "https://localhost:8080/"
        },
        "id": "_zXXPv2cO17C",
        "outputId": "b389d04c-b196-4f74-82b8-d8204256e39a"
      },
      "source": [
        "pd.Series(X_train).apply(len).max()"
      ],
      "execution_count": 11,
      "outputs": [
        {
          "output_type": "execute_result",
          "data": {
            "text/plain": [
              "2376"
            ]
          },
          "metadata": {
            "tags": []
          },
          "execution_count": 11
        }
      ]
    },
    {
      "cell_type": "code",
      "metadata": {
        "id": "lta43bliMS9t"
      },
      "source": [
        "x_train = sequence.pad_sequences(X_train, maxlen=100)\n",
        "x_test = sequence.pad_sequences(X_test, maxlen=100)\n",
        "y_train = np_utils.to_categorical(Y_train)\n",
        "y_test = np_utils.to_categorical(Y_test)"
      ],
      "execution_count": 5,
      "outputs": []
    },
    {
      "cell_type": "code",
      "metadata": {
        "id": "TmtjT1TSMS_5"
      },
      "source": [
        "model = Sequential()\n",
        "model.add(Embedding(2000, 100))\n",
        "model.add(LSTM(5, activation='tanh'))\n",
        "model.add(Dense(100, activation='relu'))\n",
        "model.add(Dense(46,activation='softmax')) # 분류하는 것이므로 출력은 무조건 softmax"
      ],
      "execution_count": 12,
      "outputs": []
    },
    {
      "cell_type": "code",
      "metadata": {
        "colab": {
          "base_uri": "https://localhost:8080/"
        },
        "id": "n1H8IQNqMTCS",
        "outputId": "efdbbadc-0efc-4282-9596-b3fafd5405d4"
      },
      "source": [
        "model.summary()"
      ],
      "execution_count": 13,
      "outputs": [
        {
          "output_type": "stream",
          "text": [
            "Model: \"sequential\"\n",
            "_________________________________________________________________\n",
            "Layer (type)                 Output Shape              Param #   \n",
            "=================================================================\n",
            "embedding (Embedding)        (None, None, 100)         200000    \n",
            "_________________________________________________________________\n",
            "lstm (LSTM)                  (None, 5)                 2120      \n",
            "_________________________________________________________________\n",
            "dense (Dense)                (None, 100)               600       \n",
            "_________________________________________________________________\n",
            "dense_1 (Dense)              (None, 46)                4646      \n",
            "=================================================================\n",
            "Total params: 207,366\n",
            "Trainable params: 207,366\n",
            "Non-trainable params: 0\n",
            "_________________________________________________________________\n"
          ],
          "name": "stdout"
        }
      ]
    },
    {
      "cell_type": "code",
      "metadata": {
        "id": "s8w5IW5yQJdB"
      },
      "source": [
        "model.compile(loss='categorical_crossentropy', optimizer='adam' ,metrics=['accuracy'])"
      ],
      "execution_count": 15,
      "outputs": []
    },
    {
      "cell_type": "code",
      "metadata": {
        "colab": {
          "base_uri": "https://localhost:8080/"
        },
        "id": "LAoNFoCiQJaY",
        "outputId": "97a0d45c-244b-4108-9f79-f531f4c07a81"
      },
      "source": [
        "model.fit(x_train, y_train, batch_size=100, epochs=15,\n",
        "          validation_data=(x_test, y_test))"
      ],
      "execution_count": 16,
      "outputs": [
        {
          "output_type": "stream",
          "text": [
            "Epoch 1/15\n",
            "90/90 [==============================] - 34s 18ms/step - loss: 3.5014 - accuracy: 0.3211 - val_loss: 2.4161 - val_accuracy: 0.3620\n",
            "Epoch 2/15\n",
            "90/90 [==============================] - 1s 12ms/step - loss: 2.3911 - accuracy: 0.3438 - val_loss: 2.1645 - val_accuracy: 0.3646\n",
            "Epoch 3/15\n",
            "90/90 [==============================] - 1s 12ms/step - loss: 2.0320 - accuracy: 0.4126 - val_loss: 1.8696 - val_accuracy: 0.5049\n",
            "Epoch 4/15\n",
            "90/90 [==============================] - 1s 12ms/step - loss: 1.7925 - accuracy: 0.5186 - val_loss: 1.7448 - val_accuracy: 0.5432\n",
            "Epoch 5/15\n",
            "90/90 [==============================] - 1s 12ms/step - loss: 1.6495 - accuracy: 0.5717 - val_loss: 1.6900 - val_accuracy: 0.5806\n",
            "Epoch 6/15\n",
            "90/90 [==============================] - 1s 14ms/step - loss: 1.5458 - accuracy: 0.6087 - val_loss: 1.5961 - val_accuracy: 0.6028\n",
            "Epoch 7/15\n",
            "90/90 [==============================] - 1s 12ms/step - loss: 1.4319 - accuracy: 0.6341 - val_loss: 1.5237 - val_accuracy: 0.6180\n",
            "Epoch 8/15\n",
            "90/90 [==============================] - 1s 12ms/step - loss: 1.3344 - accuracy: 0.6607 - val_loss: 1.5119 - val_accuracy: 0.6251\n",
            "Epoch 9/15\n",
            "90/90 [==============================] - 1s 12ms/step - loss: 1.3238 - accuracy: 0.6571 - val_loss: 1.4932 - val_accuracy: 0.6264\n",
            "Epoch 10/15\n",
            "90/90 [==============================] - 1s 13ms/step - loss: 1.2391 - accuracy: 0.6847 - val_loss: 1.4728 - val_accuracy: 0.6318\n",
            "Epoch 11/15\n",
            "90/90 [==============================] - 1s 13ms/step - loss: 1.1738 - accuracy: 0.7027 - val_loss: 1.4641 - val_accuracy: 0.6362\n",
            "Epoch 12/15\n",
            "90/90 [==============================] - 1s 12ms/step - loss: 1.1195 - accuracy: 0.7153 - val_loss: 1.4459 - val_accuracy: 0.6438\n",
            "Epoch 13/15\n",
            "90/90 [==============================] - 1s 13ms/step - loss: 1.1341 - accuracy: 0.7088 - val_loss: 1.4614 - val_accuracy: 0.6336\n",
            "Epoch 14/15\n",
            "90/90 [==============================] - 1s 13ms/step - loss: 1.0786 - accuracy: 0.7188 - val_loss: 1.4312 - val_accuracy: 0.6492\n",
            "Epoch 15/15\n",
            "90/90 [==============================] - 1s 13ms/step - loss: 1.0531 - accuracy: 0.7297 - val_loss: 1.4442 - val_accuracy: 0.6443\n"
          ],
          "name": "stdout"
        },
        {
          "output_type": "execute_result",
          "data": {
            "text/plain": [
              "<tensorflow.python.keras.callbacks.History at 0x7f91494cd750>"
            ]
          },
          "metadata": {
            "tags": []
          },
          "execution_count": 16
        }
      ]
    },
    {
      "cell_type": "code",
      "metadata": {
        "id": "i2Xz9QzfQJSU"
      },
      "source": [
        "model.predict()"
      ],
      "execution_count": null,
      "outputs": []
    },
    {
      "cell_type": "code",
      "metadata": {
        "id": "eqDL70-EQJPL"
      },
      "source": [
        ""
      ],
      "execution_count": null,
      "outputs": []
    },
    {
      "cell_type": "code",
      "metadata": {
        "id": "wi9MRTCnQJFX"
      },
      "source": [
        ""
      ],
      "execution_count": null,
      "outputs": []
    }
  ]
}