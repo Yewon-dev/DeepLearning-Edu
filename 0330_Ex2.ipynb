{
  "nbformat": 4,
  "nbformat_minor": 0,
  "metadata": {
    "colab": {
      "name": "0330_Ex2.ipynb",
      "provenance": [],
      "collapsed_sections": [],
      "toc_visible": true,
      "mount_file_id": "1zBDYk1agjB4CuHAw-H4IwKWCDs1FdNbE",
      "authorship_tag": "ABX9TyPL7C4HWnw5dZfjWDAJH1LQ",
      "include_colab_link": true
    },
    "kernelspec": {
      "name": "python3",
      "display_name": "Python 3"
    },
    "language_info": {
      "name": "python"
    },
    "accelerator": "GPU"
  },
  "cells": [
    {
      "cell_type": "markdown",
      "metadata": {
        "id": "view-in-github",
        "colab_type": "text"
      },
      "source": [
        "<a href=\"https://colab.research.google.com/github/Yewon-dev/DeepLearning-Edu/blob/main/0330_Ex2.ipynb\" target=\"_parent\"><img src=\"https://colab.research.google.com/assets/colab-badge.svg\" alt=\"Open In Colab\"/></a>"
      ]
    },
    {
      "cell_type": "code",
      "metadata": {
        "id": "gGSgovT9Ag2X"
      },
      "source": [
        "# 0. 필요한 라이브러리\n",
        "from keras.utils import np_utils\n",
        "from keras.datasets import mnist, cifar10\n",
        "from keras.models import Sequential, load_model, save_model\n",
        "from keras.layers import Dense, Activation, Dropout\n",
        "from keras.layers import Conv2D, MaxPooling2D, Flatten\n",
        "from keras.optimizers import Adam, SGD\n",
        "from keras.losses import CategoricalCrossentropy, mse\n",
        "import numpy as np\n",
        "import matplotlib.pyplot as plt"
      ],
      "execution_count": 63,
      "outputs": []
    },
    {
      "cell_type": "code",
      "metadata": {
        "id": "Q9MxhtjfRUX2"
      },
      "source": [
        "from keras.models import save_model # 만든 모델 저장하기"
      ],
      "execution_count": 56,
      "outputs": []
    },
    {
      "cell_type": "code",
      "metadata": {
        "id": "GWJqMHWiAhsf"
      },
      "source": [
        "# 손글씨 1 과 7는 1 , 나머지는 0으로 분류하기\n",
        "\n",
        "(x_train, y_train), (x_test, y_test) = mnist.load_data()\n",
        "ind = np.random.choice(50000, 50000, replace = False)\n",
        "\n",
        "tr_ind = ind[:40000]\n",
        "val_ind = ind[40000:]\n",
        "\n",
        "train_x = x_train[tr_ind].reshape(-1, 28, 28, 1).astype('float32')/255.\n",
        "val_x = x_train[val_ind].reshape(-1, 28, 28, 1).astype('float32')/255.\n",
        "test_x = x_test.reshape(-1, 28, 28, 1).astype('float32')/255.\n",
        "\n",
        "\n",
        "train_y = y_train[tr_ind]\n",
        "val_y = y_train[val_ind]\n",
        "\n",
        "train_y = np.where(train_y == 1, 1,\n",
        "                   np.where(train_y == 7, 1, 0)).reshape(-1,1)\n",
        "val_y = np.where(val_y == 1, 1,\n",
        "                   np.where(val_y == 7, 1, 0)).reshape(-1,1)\n",
        "test_y = np.where(y_test == 1, 1,\n",
        "                   np.where(y_test == 7, 1, 0)).reshape(-1,1)"
      ],
      "execution_count": 16,
      "outputs": []
    },
    {
      "cell_type": "code",
      "metadata": {
        "colab": {
          "base_uri": "https://localhost:8080/"
        },
        "id": "69-WqekRKOu2",
        "outputId": "0eba2029-5a92-4aee-c95d-ed50f8d3ee49"
      },
      "source": [
        "train_y.shape"
      ],
      "execution_count": 17,
      "outputs": [
        {
          "output_type": "execute_result",
          "data": {
            "text/plain": [
              "(40000, 1)"
            ]
          },
          "metadata": {
            "tags": []
          },
          "execution_count": 17
        }
      ]
    },
    {
      "cell_type": "code",
      "metadata": {
        "id": "M3bxwOeSAhu9"
      },
      "source": [
        "model = Sequential()\n",
        "model.add(Conv2D(7, kernel_size=(2,2), padding='same',\n",
        "                 input_shape =(28, 28, 1),\n",
        "                 activation = 'relu'))\n",
        "model.add(Dropout(0.2))\n",
        "model.add(Conv2D(7, kernel_size=(2,2), padding='same', \n",
        "                 activation ='relu'))\n",
        "model.add(Dropout(0.2))\n",
        "\n",
        "model.add(MaxPooling2D((2,2)))\n",
        "model.add(Flatten()) # 펴줘야 Dense에 들어감\n",
        "\n",
        "model.add(Dense(512, activation='relu'))\n",
        "model.add(Dense(1, activation='sigmoid'))"
      ],
      "execution_count": 18,
      "outputs": []
    },
    {
      "cell_type": "code",
      "metadata": {
        "id": "axoHrOirAhxT"
      },
      "source": [
        "model.compile(loss = 'mse', optimizer='sgd', metrics=['accuracy'])"
      ],
      "execution_count": 19,
      "outputs": []
    },
    {
      "cell_type": "code",
      "metadata": {
        "id": "Y7hYaXLkAhza",
        "colab": {
          "base_uri": "https://localhost:8080/"
        },
        "outputId": "ed825537-5d29-42f0-b673-e041883a9e6b"
      },
      "source": [
        "hist = model.fit(train_x, train_y,\n",
        "          epochs=20, batch_size=50,\n",
        "          validation_data=(val_x, val_y))"
      ],
      "execution_count": 20,
      "outputs": [
        {
          "output_type": "stream",
          "text": [
            "Epoch 1/20\n",
            "800/800 [==============================] - 3s 3ms/step - loss: 0.1304 - accuracy: 0.8158 - val_loss: 0.0470 - val_accuracy: 0.9535\n",
            "Epoch 2/20\n",
            "800/800 [==============================] - 2s 3ms/step - loss: 0.0370 - accuracy: 0.9573 - val_loss: 0.0312 - val_accuracy: 0.9683\n",
            "Epoch 3/20\n",
            "800/800 [==============================] - 3s 3ms/step - loss: 0.0281 - accuracy: 0.9656 - val_loss: 0.0261 - val_accuracy: 0.9720\n",
            "Epoch 4/20\n",
            "800/800 [==============================] - 3s 3ms/step - loss: 0.0243 - accuracy: 0.9698 - val_loss: 0.0228 - val_accuracy: 0.9765\n",
            "Epoch 5/20\n",
            "800/800 [==============================] - 2s 3ms/step - loss: 0.0216 - accuracy: 0.9735 - val_loss: 0.0211 - val_accuracy: 0.9769\n",
            "Epoch 6/20\n",
            "800/800 [==============================] - 2s 3ms/step - loss: 0.0192 - accuracy: 0.9767 - val_loss: 0.0193 - val_accuracy: 0.9789\n",
            "Epoch 7/20\n",
            "800/800 [==============================] - 2s 3ms/step - loss: 0.0181 - accuracy: 0.9781 - val_loss: 0.0178 - val_accuracy: 0.9814\n",
            "Epoch 8/20\n",
            "800/800 [==============================] - 2s 3ms/step - loss: 0.0160 - accuracy: 0.9815 - val_loss: 0.0170 - val_accuracy: 0.9818\n",
            "Epoch 9/20\n",
            "800/800 [==============================] - 2s 3ms/step - loss: 0.0167 - accuracy: 0.9788 - val_loss: 0.0161 - val_accuracy: 0.9831\n",
            "Epoch 10/20\n",
            "800/800 [==============================] - 2s 3ms/step - loss: 0.0145 - accuracy: 0.9833 - val_loss: 0.0150 - val_accuracy: 0.9839\n",
            "Epoch 11/20\n",
            "800/800 [==============================] - 3s 3ms/step - loss: 0.0135 - accuracy: 0.9845 - val_loss: 0.0144 - val_accuracy: 0.9843\n",
            "Epoch 12/20\n",
            "800/800 [==============================] - 2s 3ms/step - loss: 0.0133 - accuracy: 0.9838 - val_loss: 0.0137 - val_accuracy: 0.9850\n",
            "Epoch 13/20\n",
            "800/800 [==============================] - 2s 3ms/step - loss: 0.0123 - accuracy: 0.9851 - val_loss: 0.0133 - val_accuracy: 0.9850\n",
            "Epoch 14/20\n",
            "800/800 [==============================] - 2s 3ms/step - loss: 0.0113 - accuracy: 0.9873 - val_loss: 0.0125 - val_accuracy: 0.9864\n",
            "Epoch 15/20\n",
            "800/800 [==============================] - 2s 3ms/step - loss: 0.0113 - accuracy: 0.9869 - val_loss: 0.0119 - val_accuracy: 0.9868\n",
            "Epoch 16/20\n",
            "800/800 [==============================] - 2s 3ms/step - loss: 0.0108 - accuracy: 0.9870 - val_loss: 0.0115 - val_accuracy: 0.9873\n",
            "Epoch 17/20\n",
            "800/800 [==============================] - 2s 3ms/step - loss: 0.0106 - accuracy: 0.9878 - val_loss: 0.0116 - val_accuracy: 0.9862\n",
            "Epoch 18/20\n",
            "800/800 [==============================] - 2s 3ms/step - loss: 0.0100 - accuracy: 0.9878 - val_loss: 0.0110 - val_accuracy: 0.9884\n",
            "Epoch 19/20\n",
            "800/800 [==============================] - 2s 3ms/step - loss: 0.0108 - accuracy: 0.9873 - val_loss: 0.0107 - val_accuracy: 0.9885\n",
            "Epoch 20/20\n",
            "800/800 [==============================] - 2s 3ms/step - loss: 0.0093 - accuracy: 0.9885 - val_loss: 0.0104 - val_accuracy: 0.9883\n"
          ],
          "name": "stdout"
        }
      ]
    },
    {
      "cell_type": "code",
      "metadata": {
        "colab": {
          "base_uri": "https://localhost:8080/"
        },
        "id": "yEYBxcFZGM26",
        "outputId": "6e4e5ec3-634e-4863-eb41-e6c52f32ddcf"
      },
      "source": [
        "model.evaluate(test_x, test_y)"
      ],
      "execution_count": 21,
      "outputs": [
        {
          "output_type": "stream",
          "text": [
            "313/313 [==============================] - 1s 2ms/step - loss: 0.0100 - accuracy: 0.9889\n"
          ],
          "name": "stdout"
        },
        {
          "output_type": "execute_result",
          "data": {
            "text/plain": [
              "[0.009996256791055202, 0.9889000058174133]"
            ]
          },
          "metadata": {
            "tags": []
          },
          "execution_count": 21
        }
      ]
    },
    {
      "cell_type": "code",
      "metadata": {
        "colab": {
          "base_uri": "https://localhost:8080/",
          "height": 1000
        },
        "id": "k3--M4ILGM0e",
        "outputId": "31182c23-2d75-45c3-c930-db92339e0dab"
      },
      "source": [
        "# 모델 활용\n",
        "test_inds = np.random.choice(10000, 20, replace= False) # 10000까지의 숫자 중에서 20개를 가져와라. replace=false : 중복 X\n",
        "for test_ind in test_inds:\n",
        "  plt.imshow(test_x[test_ind].reshape(28,28))\n",
        "  plt.show()\n",
        "  real = test_y[test_ind]\n",
        "  pred = model.predict(test_x[test_ind].reshape(1,28,28,1))\n",
        "  result = np.where(pred > 0.5 , 1, 0)\n",
        "  print('예측값: ', result, '실제값: ', real)\n",
        "  if real == result:\n",
        "    print('Correct!!!!!!')\n",
        "  else:\n",
        "    print('Wrong!')"
      ],
      "execution_count": 55,
      "outputs": [
        {
          "output_type": "display_data",
          "data": {
            "image/png": "[encoded data removed]",
            "text/plain": [
              "<Figure size 432x288 with 1 Axes>"
            ]
          },
          "metadata": {
            "tags": [],
            "needs_background": "light"
          }
        },
        {
          "output_type": "stream",
          "text": [
            "예측값:  [[0]] 실제값:  [0]\n",
            "Correct!!!!!!\n"
          ],
          "name": "stdout"
        },
        {
          "output_type": "display_data",
          "data": {
            "image/png": "[encoded data removed]",
            "text/plain": [
              "<Figure size 432x288 with 1 Axes>"
            ]
          },
          "metadata": {
            "tags": [],
            "needs_background": "light"
          }
        },
        {
          "output_type": "stream",
          "text": [
            "예측값:  [[0]] 실제값:  [0]\n",
            "Correct!!!!!!\n"
          ],
          "name": "stdout"
        },
        {
          "output_type": "display_data",
          "data": {
            "image/png": "[encoded data removed]",
            "text/plain": [
              "<Figure size 432x288 with 1 Axes>"
            ]
          },
          "metadata": {
            "tags": [],
            "needs_background": "light"
          }
        },
        {
          "output_type": "stream",
          "text": [
            "예측값:  [[0]] 실제값:  [0]\n",
            "Correct!!!!!!\n"
          ],
          "name": "stdout"
        },
        {
          "output_type": "display_data",
          "data": {
            "image/png": "[encoded data removed]",
            "text/plain": [
              "<Figure size 432x288 with 1 Axes>"
            ]
          },
          "metadata": {
            "tags": [],
            "needs_background": "light"
          }
        },
        {
          "output_type": "stream",
          "text": [
            "예측값:  [[1]] 실제값:  [1]\n",
            "Correct!!!!!!\n"
          ],
          "name": "stdout"
        },
        {
          "output_type": "display_data",
          "data": {
            "image/png": "[encoded data removed]",
            "text/plain": [
              "<Figure size 432x288 with 1 Axes>"
            ]
          },
          "metadata": {
            "tags": [],
            "needs_background": "light"
          }
        },
        {
          "output_type": "stream",
          "text": [
            "예측값:  [[0]] 실제값:  [1]\n",
            "Wrong!\n"
          ],
          "name": "stdout"
        },
        {
          "output_type": "display_data",
          "data": {
            "image/png": "[encoded data removed]",
            "text/plain": [
              "<Figure size 432x288 with 1 Axes>"
            ]
          },
          "metadata": {
            "tags": [],
            "needs_background": "light"
          }
        },
        {
          "output_type": "stream",
          "text": [
            "예측값:  [[0]] 실제값:  [0]\n",
            "Correct!!!!!!\n"
          ],
          "name": "stdout"
        },
        {
          "output_type": "display_data",
          "data": {
            "image/png": "[encoded data removed]",
            "text/plain": [
              "<Figure size 432x288 with 1 Axes>"
            ]
          },
          "metadata": {
            "tags": [],
            "needs_background": "light"
          }
        },
        {
          "output_type": "stream",
          "text": [
            "예측값:  [[1]] 실제값:  [1]\n",
            "Correct!!!!!!\n"
          ],
          "name": "stdout"
        },
        {
          "output_type": "display_data",
          "data": {
            "image/png": "[encoded data removed]",
            "text/plain": [
              "<Figure size 432x288 with 1 Axes>"
            ]
          },
          "metadata": {
            "tags": [],
            "needs_background": "light"
          }
        },
        {
          "output_type": "stream",
          "text": [
            "예측값:  [[0]] 실제값:  [0]\n",
            "Correct!!!!!!\n"
          ],
          "name": "stdout"
        },
        {
          "output_type": "display_data",
          "data": {
            "image/png": "[encoded data removed]",
            "text/plain": [
              "<Figure size 432x288 with 1 Axes>"
            ]
          },
          "metadata": {
            "tags": [],
            "needs_background": "light"
          }
        },
        {
          "output_type": "stream",
          "text": [
            "예측값:  [[0]] 실제값:  [0]\n",
            "Correct!!!!!!\n"
          ],
          "name": "stdout"
        },
        {
          "output_type": "display_data",
          "data": {
            "image/png": "[encoded data removed]",
            "text/plain": [
              "<Figure size 432x288 with 1 Axes>"
            ]
          },
          "metadata": {
            "tags": [],
            "needs_background": "light"
          }
        },
        {
          "output_type": "stream",
          "text": [
            "예측값:  [[0]] 실제값:  [0]\n",
            "Correct!!!!!!\n"
          ],
          "name": "stdout"
        },
        {
          "output_type": "display_data",
          "data": {
            "image/png": "[encoded data removed]",
            "text/plain": [
              "<Figure size 432x288 with 1 Axes>"
            ]
          },
          "metadata": {
            "tags": [],
            "needs_background": "light"
          }
        },
        {
          "output_type": "stream",
          "text": [
            "예측값:  [[0]] 실제값:  [0]\n",
            "Correct!!!!!!\n"
          ],
          "name": "stdout"
        },
        {
          "output_type": "display_data",
          "data": {
            "image/png": "[encoded data removed]",
            "text/plain": [
              "<Figure size 432x288 with 1 Axes>"
            ]
          },
          "metadata": {
            "tags": [],
            "needs_background": "light"
          }
        },
        {
          "output_type": "stream",
          "text": [
            "예측값:  [[0]] 실제값:  [0]\n",
            "Correct!!!!!!\n"
          ],
          "name": "stdout"
        },
        {
          "output_type": "display_data",
          "data": {
            "image/png": "[encoded data removed]",
            "text/plain": [
              "<Figure size 432x288 with 1 Axes>"
            ]
          },
          "metadata": {
            "tags": [],
            "needs_background": "light"
          }
        },
        {
          "output_type": "stream",
          "text": [
            "예측값:  [[0]] 실제값:  [0]\n",
            "Correct!!!!!!\n"
          ],
          "name": "stdout"
        },
        {
          "output_type": "display_data",
          "data": {
            "image/png": "[encoded data removed]",
            "text/plain": [
              "<Figure size 432x288 with 1 Axes>"
            ]
          },
          "metadata": {
            "tags": [],
            "needs_background": "light"
          }
        },
        {
          "output_type": "stream",
          "text": [
            "예측값:  [[0]] 실제값:  [0]\n",
            "Correct!!!!!!\n"
          ],
          "name": "stdout"
        },
        {
          "output_type": "display_data",
          "data": {
            "image/png": "[encoded data removed]",
            "text/plain": [
              "<Figure size 432x288 with 1 Axes>"
            ]
          },
          "metadata": {
            "tags": [],
            "needs_background": "light"
          }
        },
        {
          "output_type": "stream",
          "text": [
            "예측값:  [[0]] 실제값:  [0]\n",
            "Correct!!!!!!\n"
          ],
          "name": "stdout"
        },
        {
          "output_type": "display_data",
          "data": {
            "image/png": "[encoded data removed]",
            "text/plain": [
              "<Figure size 432x288 with 1 Axes>"
            ]
          },
          "metadata": {
            "tags": [],
            "needs_background": "light"
          }
        },
        {
          "output_type": "stream",
          "text": [
            "예측값:  [[0]] 실제값:  [0]\n",
            "Correct!!!!!!\n"
          ],
          "name": "stdout"
        },
        {
          "output_type": "display_data",
          "data": {
            "image/png": "[encoded data removed]",
            "text/plain": [
              "<Figure size 432x288 with 1 Axes>"
            ]
          },
          "metadata": {
            "tags": [],
            "needs_background": "light"
          }
        },
        {
          "output_type": "stream",
          "text": [
            "예측값:  [[0]] 실제값:  [0]\n",
            "Correct!!!!!!\n"
          ],
          "name": "stdout"
        },
        {
          "output_type": "display_data",
          "data": {
            "image/png": "[encoded data removed]",
            "text/plain": [
              "<Figure size 432x288 with 1 Axes>"
            ]
          },
          "metadata": {
            "tags": [],
            "needs_background": "light"
          }
        },
        {
          "output_type": "stream",
          "text": [
            "예측값:  [[0]] 실제값:  [0]\n",
            "Correct!!!!!!\n"
          ],
          "name": "stdout"
        },
        {
          "output_type": "display_data",
          "data": {
            "image/png": "[encoded data removed]",
            "text/plain": [
              "<Figure size 432x288 with 1 Axes>"
            ]
          },
          "metadata": {
            "tags": [],
            "needs_background": "light"
          }
        },
        {
          "output_type": "stream",
          "text": [
            "예측값:  [[0]] 실제값:  [0]\n",
            "Correct!!!!!!\n"
          ],
          "name": "stdout"
        },
        {
          "output_type": "display_data",
          "data": {
            "image/png": "[encoded data removed]",
            "text/plain": [
              "<Figure size 432x288 with 1 Axes>"
            ]
          },
          "metadata": {
            "tags": [],
            "needs_background": "light"
          }
        },
        {
          "output_type": "stream",
          "text": [
            "예측값:  [[0]] 실제값:  [0]\n",
            "Correct!!!!!!\n"
          ],
          "name": "stdout"
        }
      ]
    },
    {
      "cell_type": "code",
      "metadata": {
        "id": "DAwkVu4nGMuG"
      },
      "source": [
        "# 모델 저장\n",
        "model.save('yewon_first_model.h5')"
      ],
      "execution_count": 66,
      "outputs": []
    },
    {
      "cell_type": "code",
      "metadata": {
        "id": "4OkZ5RmnSdUe"
      },
      "source": [
        "model1 = load_model('yewon_first_model.h5')"
      ],
      "execution_count": 67,
      "outputs": []
    },
    {
      "cell_type": "code",
      "metadata": {
        "colab": {
          "base_uri": "https://localhost:8080/"
        },
        "id": "Rw-nr9VtSdRk",
        "outputId": "23fb0862-f5dc-4491-a3de-032fd3186a82"
      },
      "source": [
        "x = np.random.choice(28*28, 28*28).reshape(1,28,28,1)\n",
        "\n",
        "model1.predict(x)\n",
        "\n"
      ],
      "execution_count": 70,
      "outputs": [
        {
          "output_type": "execute_result",
          "data": {
            "text/plain": [
              "array([[0.]], dtype=float32)"
            ]
          },
          "metadata": {
            "tags": []
          },
          "execution_count": 70
        }
      ]
    }
  ]
}