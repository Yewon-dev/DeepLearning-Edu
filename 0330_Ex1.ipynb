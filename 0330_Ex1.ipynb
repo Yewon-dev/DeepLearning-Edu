{
  "nbformat": 4,
  "nbformat_minor": 0,
  "metadata": {
    "colab": {
      "name": "0330_Ex1.ipynb",
      "provenance": [],
      "authorship_tag": "ABX9TyMkWXNjkYr2ZHif+i4XWi4i",
      "include_colab_link": true
    },
    "kernelspec": {
      "name": "python3",
      "display_name": "Python 3"
    },
    "language_info": {
      "name": "python"
    }
  },
  "cells": [
    {
      "cell_type": "markdown",
      "metadata": {
        "id": "view-in-github",
        "colab_type": "text"
      },
      "source": [
        "<a href=\"https://colab.research.google.com/github/Yewon-dev/DeepLearning-Edu/blob/main/0330_Ex1.ipynb\" target=\"_parent\"><img src=\"https://colab.research.google.com/assets/colab-badge.svg\" alt=\"Open In Colab\"/></a>"
      ]
    },
    {
      "cell_type": "code",
      "metadata": {
        "id": "0ola527n0Rln"
      },
      "source": [
        "from keras.utils import np_utils\n",
        "from keras.datasets import mnist, cifar10\n",
        "from keras.models import Sequential\n",
        "from keras.layers import Dense, Activation\n",
        "from keras.layers import Conv2D, MaxPooling2D, Flatten\n",
        "from keras.optimizers import Adam\n",
        "from keras.losses import CategoricalCrossentropy\n",
        "import numpy as np\n",
        "import matplotlib.pyplot as plt"
      ],
      "execution_count": 4,
      "outputs": []
    },
    {
      "cell_type": "code",
      "metadata": {
        "id": "IylOOEIB0VUA"
      },
      "source": [
        "# 1. 데이터 셋 만들기\n",
        "(x_train, y_train), (x_test,y_test) = cifar10.load_data()\n",
        "\n",
        "ind = np.random.choice(50000,50000,replace=False)\n",
        "\n",
        "tr_ind = ind[:40000]\n",
        "val_ind = ind[40000:]\n",
        "train_x = x_train[tr_ind].astype('float32')/255.\n",
        "val_x = x_train[val_ind].astype('float32')/255.\n",
        "test_x = x_test.astype('float32')/255.\n",
        "train_y = y_train[tr_ind]\n",
        "val_y = y_train[val_ind]\n",
        "\n",
        "train_y = np_utils.to_categorical(train_y)\n",
        "val_y = np_utils.to_categorical(val_y)\n",
        "test_y = np_utils.to_categorical(y_test)"
      ],
      "execution_count": 5,
      "outputs": []
    },
    {
      "cell_type": "code",
      "metadata": {
        "id": "k8BygFO00Vc-"
      },
      "source": [
        "# 2. 모델 생성\n",
        "model = Sequential()\n",
        "# Convolution Layer\n",
        "model.add(Conv2D(3,kernel_size=(3,3), padding= 'same', input_shape = (32, 32, 3), # input_shape == train_x.shape\n",
        "                 activation = 'relu'))\n",
        "model.add(MaxPooling2D((2,2)))\n",
        "model.add(Conv2D(2, kernel_size = (2,2),\n",
        "                 activation = 'relu'))\n",
        "model.add(MaxPooling2D((2,2)))\n",
        "model.add(Flatten())\n",
        "\n",
        "# Fully connected Layer\n",
        "model.add(Dense(255, activation = 'relu'))\n",
        "\n",
        "# Output Layer\n",
        "model.add(Dense(10, activation = 'softmax'))"
      ],
      "execution_count": 6,
      "outputs": []
    },
    {
      "cell_type": "code",
      "metadata": {
        "id": "0HIJ6g802pAw"
      },
      "source": [
        "# 3. 모델 설정\n",
        "model.compile(loss = 'categorical_crossentropy',\n",
        "              optimizer = 'Nadam',\n",
        "              metrics = ['accuracy'])"
      ],
      "execution_count": 9,
      "outputs": []
    },
    {
      "cell_type": "code",
      "metadata": {
        "colab": {
          "base_uri": "https://localhost:8080/"
        },
        "id": "pZPJuxEJ4qWp",
        "outputId": "c54e23da-f3e4-4c86-b57a-c7a05efdf7ad"
      },
      "source": [
        "# 4. 모델 학습\n",
        "hist = model.fit(train_x, train_y,\n",
        "                 epochs = 20, batch_size = 100,\n",
        "                 validation_data = (val_x, val_y))"
      ],
      "execution_count": 10,
      "outputs": [
        {
          "output_type": "stream",
          "text": [
            "Epoch 1/20\n",
            "400/400 [==============================] - 22s 52ms/step - loss: 2.0511 - accuracy: 0.2522 - val_loss: 1.7106 - val_accuracy: 0.3948\n",
            "Epoch 2/20\n",
            "400/400 [==============================] - 20s 51ms/step - loss: 1.6757 - accuracy: 0.4023 - val_loss: 1.6275 - val_accuracy: 0.4170\n",
            "Epoch 3/20\n",
            "400/400 [==============================] - 20s 51ms/step - loss: 1.5968 - accuracy: 0.4298 - val_loss: 1.5909 - val_accuracy: 0.4273\n",
            "Epoch 4/20\n",
            "400/400 [==============================] - 20s 51ms/step - loss: 1.5493 - accuracy: 0.4432 - val_loss: 1.5358 - val_accuracy: 0.4453\n",
            "Epoch 5/20\n",
            "400/400 [==============================] - 20s 51ms/step - loss: 1.5006 - accuracy: 0.4614 - val_loss: 1.5127 - val_accuracy: 0.4583\n",
            "Epoch 6/20\n",
            "400/400 [==============================] - 21s 52ms/step - loss: 1.4569 - accuracy: 0.4759 - val_loss: 1.4859 - val_accuracy: 0.4623\n",
            "Epoch 7/20\n",
            "400/400 [==============================] - 21s 51ms/step - loss: 1.4279 - accuracy: 0.4871 - val_loss: 1.4694 - val_accuracy: 0.4728\n",
            "Epoch 8/20\n",
            "400/400 [==============================] - 21s 51ms/step - loss: 1.3947 - accuracy: 0.5001 - val_loss: 1.4585 - val_accuracy: 0.4783\n",
            "Epoch 9/20\n",
            "400/400 [==============================] - 21s 51ms/step - loss: 1.3715 - accuracy: 0.5073 - val_loss: 1.4258 - val_accuracy: 0.4867\n",
            "Epoch 10/20\n",
            "400/400 [==============================] - 21s 51ms/step - loss: 1.3394 - accuracy: 0.5226 - val_loss: 1.4181 - val_accuracy: 0.4912\n",
            "Epoch 11/20\n",
            "400/400 [==============================] - 21s 51ms/step - loss: 1.3275 - accuracy: 0.5236 - val_loss: 1.4122 - val_accuracy: 0.4922\n",
            "Epoch 12/20\n",
            "400/400 [==============================] - 21s 51ms/step - loss: 1.3043 - accuracy: 0.5371 - val_loss: 1.3977 - val_accuracy: 0.4989\n",
            "Epoch 13/20\n",
            "400/400 [==============================] - 21s 51ms/step - loss: 1.2876 - accuracy: 0.5428 - val_loss: 1.3844 - val_accuracy: 0.5027\n",
            "Epoch 14/20\n",
            "400/400 [==============================] - 21s 51ms/step - loss: 1.2585 - accuracy: 0.5530 - val_loss: 1.3853 - val_accuracy: 0.5049\n",
            "Epoch 15/20\n",
            "400/400 [==============================] - 21s 51ms/step - loss: 1.2447 - accuracy: 0.5637 - val_loss: 1.3812 - val_accuracy: 0.5079\n",
            "Epoch 16/20\n",
            "400/400 [==============================] - 21s 51ms/step - loss: 1.2168 - accuracy: 0.5727 - val_loss: 1.3708 - val_accuracy: 0.5137\n",
            "Epoch 17/20\n",
            "400/400 [==============================] - 21s 51ms/step - loss: 1.2168 - accuracy: 0.5703 - val_loss: 1.3686 - val_accuracy: 0.5127\n",
            "Epoch 18/20\n",
            "400/400 [==============================] - 21s 51ms/step - loss: 1.2024 - accuracy: 0.5757 - val_loss: 1.3718 - val_accuracy: 0.5095\n",
            "Epoch 19/20\n",
            "400/400 [==============================] - 21s 51ms/step - loss: 1.1757 - accuracy: 0.5816 - val_loss: 1.3674 - val_accuracy: 0.5197\n",
            "Epoch 20/20\n",
            "400/400 [==============================] - 21s 52ms/step - loss: 1.1777 - accuracy: 0.5846 - val_loss: 1.3731 - val_accuracy: 0.5135\n"
          ],
          "name": "stdout"
        }
      ]
    },
    {
      "cell_type": "code",
      "metadata": {
        "colab": {
          "base_uri": "https://localhost:8080/"
        },
        "id": "uDLoNH8z4_ks",
        "outputId": "1e0a1c74-639d-4d24-c2db-d0977f5bbaf9"
      },
      "source": [
        "model.evaluate(test_x, test_y)"
      ],
      "execution_count": 11,
      "outputs": [
        {
          "output_type": "stream",
          "text": [
            "313/313 [==============================] - 3s 10ms/step - loss: 1.3597 - accuracy: 0.5172\n"
          ],
          "name": "stdout"
        },
        {
          "output_type": "execute_result",
          "data": {
            "text/plain": [
              "[1.359707236289978, 0.5171999931335449]"
            ]
          },
          "metadata": {
            "tags": []
          },
          "execution_count": 11
        }
      ]
    },
    {
      "cell_type": "code",
      "metadata": {
        "id": "-K--uesL0VlP"
      },
      "source": [
        ""
      ],
      "execution_count": null,
      "outputs": []
    }
  ]
}