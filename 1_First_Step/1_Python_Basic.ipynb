{
 "cells": [
  {
   "cell_type": "code",
   "execution_count": 2,
   "metadata": {},
   "outputs": [
    {
     "name": "stdout",
     "output_type": "stream",
     "text": [
      "안녕하세요.\n"
     ]
    }
   ],
   "source": [
    "# 작업 공간 입니다.\n",
    "# command + Enter : 현재 행만 실행\n",
    "# option + Enter : 현재 행이 실행되고, 다음 행이 자동으로 추가\n",
    "# 행 삭제 : 영문자 d를 빠르게 두번 입력\n",
    "\n",
    "print(\"안녕하세요.\")"
   ]
  },
  {
   "cell_type": "code",
   "execution_count": 5,
   "metadata": {},
   "outputs": [
    {
     "name": "stdout",
     "output_type": "stream",
     "text": [
      " option + Enter 입력 : 현재행 다음에 새로운 행을 추가할 때\n"
     ]
    }
   ],
   "source": [
    "print(\" option + Enter 입력 : 현재행 다음에 새로운 행을 추가할 때\")"
   ]
  },
  {
   "cell_type": "code",
   "execution_count": 6,
   "metadata": {
    "scrolled": true
   },
   "outputs": [
    {
     "name": "stdout",
     "output_type": "stream",
     "text": [
      "shift + Enter : 현재행 실행하고, 다음행?\n"
     ]
    }
   ],
   "source": [
    "print(\"option+Enter 와 동일\")"
   ]
  },
  {
   "cell_type": "markdown",
   "metadata": {},
   "source": [
    "# m을 누르면 제목 생성"
   ]
  },
  {
   "cell_type": "code",
   "execution_count": null,
   "metadata": {},
   "outputs": [],
   "source": []
  },
  {
   "cell_type": "markdown",
   "metadata": {},
   "source": [
    "# 1. 파이썬 코드 입력 및 실행"
   ]
  },
  {
   "cell_type": "code",
   "execution_count": 7,
   "metadata": {},
   "outputs": [
    {
     "name": "stdout",
     "output_type": "stream",
     "text": [
      "얍\n"
     ]
    }
   ],
   "source": [
    "# 주석 ...\n",
    "print(\"얍\") # 주석주석..."
   ]
  },
  {
   "cell_type": "code",
   "execution_count": 10,
   "metadata": {},
   "outputs": [
    {
     "name": "stdout",
     "output_type": "stream",
     "text": [
      "9\n",
      "5\n",
      "9 5\n"
     ]
    }
   ],
   "source": [
    "# 변수\n",
    "a = 9\n",
    "b = 5\n",
    "print(a)\n",
    "print(b)\n",
    "print(a, b)"
   ]
  },
  {
   "cell_type": "code",
   "execution_count": 11,
   "metadata": {},
   "outputs": [
    {
     "name": "stdout",
     "output_type": "stream",
     "text": [
      "14\n",
      "4\n"
     ]
    }
   ],
   "source": [
    "print(a + b)\n",
    "print(a - b)\n",
    "# print(a + \"hi\")"
   ]
  },
  {
   "cell_type": "code",
   "execution_count": 14,
   "metadata": {},
   "outputs": [
    {
     "name": "stdout",
     "output_type": "stream",
     "text": [
      "132\n",
      "98593\n"
     ]
    }
   ],
   "source": [
    "# 형변환\n",
    "print(a + int(\"123\"))\n",
    "print(str(a) + \"8593\")"
   ]
  },
  {
   "cell_type": "code",
   "execution_count": 15,
   "metadata": {},
   "outputs": [
    {
     "name": "stdout",
     "output_type": "stream",
     "text": [
      "귤,사과,배\n"
     ]
    }
   ],
   "source": [
    "print(\"귤\", \"사과\", \"배\", sep=\",\")"
   ]
  },
  {
   "cell_type": "markdown",
   "metadata": {},
   "source": [
    "## 리스트"
   ]
  },
  {
   "cell_type": "code",
   "execution_count": 17,
   "metadata": {},
   "outputs": [
    {
     "name": "stdout",
     "output_type": "stream",
     "text": [
      "1번 2번 3번 4번 5번 6번 7번 8번 9번 10번\n",
      "['1번', '2번', '3번', '4번', '5번', '6번', '7번', '8번', '9번', '10번']\n"
     ]
    }
   ],
   "source": [
    "print('1번', '2번', '3번', '4번', '5번', '6번', '7번', '8번', '9번', '10번')\n",
    "class_2_1 =['1번', '2번', '3번', '4번', '5번', '6번', '7번', '8번', '9번', '10번']\n",
    "print(class_2_1)"
   ]
  },
  {
   "cell_type": "code",
   "execution_count": 18,
   "metadata": {},
   "outputs": [
    {
     "name": "stdout",
     "output_type": "stream",
     "text": [
      "['a', 'b', 'c', 'd', 'e']\n",
      "['a', 'b', 'c']\n",
      "['b', 'c']\n",
      "['c', 'd']\n",
      "['c', 'd', 'e']\n"
     ]
    }
   ],
   "source": [
    "k = ['a', 'b', 'c', 'd', 'e']\n",
    "\n",
    "print(k)\n",
    "print(k[0 : 3])\n",
    "print(k[1 : 3])\n",
    "\n",
    "print(k[-3 : -1])\n",
    "print(k[-3 : ])"
   ]
  },
  {
   "cell_type": "code",
   "execution_count": 19,
   "metadata": {},
   "outputs": [
    {
     "name": "stdout",
     "output_type": "stream",
     "text": [
      "['a'] ['b', 'c', 'd', 'e']\n"
     ]
    }
   ],
   "source": [
    "list1 = ['a']\n",
    "list2 = ['b', 'c', 'd', 'e']\n",
    "print(list1, list2)"
   ]
  },
  {
   "cell_type": "code",
   "execution_count": 20,
   "metadata": {},
   "outputs": [
    {
     "name": "stdout",
     "output_type": "stream",
     "text": [
      "['a', 'b', 'c', 'd', 'e']\n",
      "['b', 'c', 'd', 'e', 'a']\n"
     ]
    }
   ],
   "source": [
    "print(list1 + list2)\n",
    "print(list2 + list1)"
   ]
  },
  {
   "cell_type": "code",
   "execution_count": 22,
   "metadata": {},
   "outputs": [
    {
     "name": "stdout",
     "output_type": "stream",
     "text": [
      "[1] [2, 3, 4]\n"
     ]
    }
   ],
   "source": [
    "int1 = [1]\n",
    "int2 = [2, 3, 4]\n",
    "print(int1, int2)"
   ]
  },
  {
   "cell_type": "code",
   "execution_count": 23,
   "metadata": {},
   "outputs": [
    {
     "name": "stdout",
     "output_type": "stream",
     "text": [
      "[1, 2, 3, 4]\n",
      "[2, 3, 4, 1]\n"
     ]
    }
   ],
   "source": [
    "print(int1 + int2)\n",
    "print(int2 + int1)"
   ]
  },
  {
   "cell_type": "code",
   "execution_count": 27,
   "metadata": {},
   "outputs": [
    {
     "name": "stdout",
     "output_type": "stream",
     "text": [
      "['a'] ['b', 'c', 'd']\n"
     ]
    }
   ],
   "source": [
    "list1 = ['a']\n",
    "list2 = ['b', 'c', 'd']\n",
    "print(list1, list2)"
   ]
  },
  {
   "cell_type": "code",
   "execution_count": 28,
   "metadata": {},
   "outputs": [
    {
     "name": "stdout",
     "output_type": "stream",
     "text": [
      "['a', 'b', 'c', 'd']\n",
      "['a', ['b', 'c', 'd']]\n"
     ]
    }
   ],
   "source": [
    "print(list1 + list2)\n",
    "list1.append(list2)\n",
    "print(list1)"
   ]
  },
  {
   "cell_type": "markdown",
   "metadata": {},
   "source": [
    "## 반복문"
   ]
  },
  {
   "cell_type": "code",
   "execution_count": 29,
   "metadata": {},
   "outputs": [
    {
     "name": "stdout",
     "output_type": "stream",
     "text": [
      "['바나나', '사과', '딸기', '배', '감']\n"
     ]
    }
   ],
   "source": [
    "fruits = ['바나나', '사과', '딸기', '배', '감']\n",
    "print(fruits)"
   ]
  },
  {
   "cell_type": "code",
   "execution_count": 30,
   "metadata": {},
   "outputs": [
    {
     "name": "stdout",
     "output_type": "stream",
     "text": [
      "바나나\n",
      "사과\n",
      "딸기\n",
      "배\n",
      "감\n"
     ]
    }
   ],
   "source": [
    "for fruit in fruits:\n",
    "    print(fruit)"
   ]
  },
  {
   "cell_type": "markdown",
   "metadata": {},
   "source": [
    "## 문자열"
   ]
  },
  {
   "cell_type": "code",
   "execution_count": 31,
   "metadata": {},
   "outputs": [
    {
     "name": "stdout",
     "output_type": "stream",
     "text": [
      "문자열\n"
     ]
    }
   ],
   "source": [
    "s = \"문자열\"\n",
    "print(s)"
   ]
  },
  {
   "cell_type": "code",
   "execution_count": 32,
   "metadata": {},
   "outputs": [
    {
     "name": "stdout",
     "output_type": "stream",
     "text": [
      "사과/망고, 파인애플\n"
     ]
    }
   ],
   "source": [
    "a = \"사과\"\n",
    "b = \"망고, 파인애플\"\n",
    "print(a, b, sep=\"/\")"
   ]
  },
  {
   "cell_type": "code",
   "execution_count": 33,
   "metadata": {},
   "outputs": [
    {
     "name": "stdout",
     "output_type": "stream",
     "text": [
      "123123123123123123123123123123\n",
      "사과사과사과사과사과\n"
     ]
    }
   ],
   "source": [
    "# 변수 뒤에 곱하기(*) 표시는 반복 출력 횟수\n",
    "z = '123'\n",
    "print(z * 10)\n",
    "print(a * 5)"
   ]
  },
  {
   "cell_type": "code",
   "execution_count": 35,
   "metadata": {},
   "outputs": [
    {
     "name": "stdout",
     "output_type": "stream",
     "text": [
      " 2월 20일은 일요일 입니다.\n"
     ]
    }
   ],
   "source": [
    "# 문자열 포맷 지정하기\n",
    "month = \"2월\"\n",
    "day = \"20일\"\n",
    "\n",
    "say = \" {} {}은 일요일 입니다.\".format(month, day)\n",
    "print(say)"
   ]
  },
  {
   "cell_type": "code",
   "execution_count": 37,
   "metadata": {},
   "outputs": [
    {
     "name": "stdout",
     "output_type": "stream",
     "text": [
      "가나다라마바\n"
     ]
    }
   ],
   "source": [
    "# 문지열 내부 값 추출하기\n",
    "k = \"가나다라마바\"\n",
    "print(k)"
   ]
  },
  {
   "cell_type": "code",
   "execution_count": 39,
   "metadata": {},
   "outputs": [
    {
     "name": "stdout",
     "output_type": "stream",
     "text": [
      "나다라마바\n"
     ]
    }
   ],
   "source": [
    "print(k[1: ])"
   ]
  },
  {
   "cell_type": "code",
   "execution_count": 45,
   "metadata": {},
   "outputs": [
    {
     "name": "stdout",
     "output_type": "stream",
     "text": [
      "     hp010-0000-0000     \n",
      "hp010-0000-0000\n",
      "010-0000-0000\n"
     ]
    }
   ],
   "source": [
    "#\n",
    "t1 = \"     hp010-0000-0000     \"\n",
    "print(t1)\n",
    "\n",
    "# 문자열의 앞/뒤 공백 제거 함수\n",
    "t2 = t1.strip()\n",
    "print(t2)\n",
    "\n",
    "# 문자열 치환\n",
    "t3 = t2.replace('hp', '')\n",
    "print(t3)"
   ]
  },
  {
   "cell_type": "markdown",
   "metadata": {},
   "source": [
    "## 조건문"
   ]
  },
  {
   "cell_type": "code",
   "execution_count": 48,
   "metadata": {},
   "outputs": [
    {
     "name": "stdout",
     "output_type": "stream",
     "text": [
      "5000\n"
     ]
    }
   ],
   "source": [
    "price = 5000\n",
    "print(price)"
   ]
  },
  {
   "cell_type": "code",
   "execution_count": 49,
   "metadata": {},
   "outputs": [
    {
     "name": "stdout",
     "output_type": "stream",
     "text": [
      "이 조건을 만족하면 비싸다를 출력\n"
     ]
    }
   ],
   "source": [
    "if price > 3000:\n",
    "    print(\"이 조건을 만족하면 비싸다를 출력\")\n",
    "elif price > 5500:\n",
    "    print(\"5500보다 크네요\")\n",
    "else:\n",
    "    print(\"위 조건을 만족하지 않으면, 합리적이다.\")"
   ]
  },
  {
   "cell_type": "markdown",
   "metadata": {},
   "source": [
    "## 함수"
   ]
  },
  {
   "cell_type": "code",
   "execution_count": 50,
   "metadata": {},
   "outputs": [
    {
     "name": "stdout",
     "output_type": "stream",
     "text": [
      "hi :) it's 홍길동<3\n"
     ]
    }
   ],
   "source": [
    "# 함수 : 동일한 코드를 반복해서 수행할 때, 편의를 위해 미리 만들어 놓음\n",
    "\n",
    "# 함수 정의\n",
    "def calcul(a):\n",
    "    print(\"hi :) it's \" + a + \"<3\")\n",
    "\n",
    "# 함수 호출\n",
    "name = \"홍길동\"\n",
    "calcul(name)"
   ]
  },
  {
   "cell_type": "code",
   "execution_count": 51,
   "metadata": {},
   "outputs": [
    {
     "name": "stdout",
     "output_type": "stream",
     "text": [
      "30\n"
     ]
    }
   ],
   "source": [
    "def calcul2(a, b):\n",
    "    result = a * b\n",
    "    return result\n",
    "\n",
    "aa = 10\n",
    "bb = 3\n",
    "\n",
    "res = calcul2(aa, bb)\n",
    "print(res)"
   ]
  },
  {
   "cell_type": "code",
   "execution_count": 52,
   "metadata": {},
   "outputs": [
    {
     "name": "stdout",
     "output_type": "stream",
     "text": [
      "25\n"
     ]
    }
   ],
   "source": [
    "# [문제]\n",
    "# 사용자들의 나이를 알아보려고 합니다.\n",
    "# 현재 수집된 데이터는 사용자들의 10자리 형태의 생년월일(0000-00-00)\n",
    "# 올해 년도의 본인의 생년월일을 데이터 값을 매개변수로 해서\n",
    "# \"나이\"를 계산하여 반환해주는 함수를 만들고 실행하시오.\n",
    "\n",
    "def getAge(year, birth):\n",
    "    age = year - birth + 1\n",
    "    return age\n",
    "\n",
    "y = 2021\n",
    "b = \"1997-12-02\"\n",
    "\n",
    "brth = int(b[:4])\n",
    "\n",
    "age = getAge(y,brth)\n",
    "print(age)\n"
   ]
  },
  {
   "cell_type": "code",
   "execution_count": null,
   "metadata": {},
   "outputs": [],
   "source": []
  }
 ],
 "metadata": {
  "kernelspec": {
   "display_name": "Python 3",
   "language": "python",
   "name": "python3"
  },
  "language_info": {
   "codemirror_mode": {
    "name": "ipython",
    "version": 3
   },
   "file_extension": ".py",
   "mimetype": "text/x-python",
   "name": "python",
   "nbconvert_exporter": "python",
   "pygments_lexer": "ipython3",
   "version": "3.8.5"
  }
 },
 "nbformat": 4,
 "nbformat_minor": 4
}
